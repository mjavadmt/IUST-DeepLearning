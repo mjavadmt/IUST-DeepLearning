{
  "nbformat": 4,
  "nbformat_minor": 0,
  "metadata": {
    "colab": {
      "provenance": []
    },
    "kernelspec": {
      "name": "python3",
      "display_name": "Python 3"
    },
    "language_info": {
      "name": "python"
    },
    "accelerator": "GPU",
    "gpuClass": "standard"
  },
  "cells": [
    {
      "cell_type": "markdown",
      "source": [
        "# Import"
      ],
      "metadata": {
        "id": "YXGRiWv-Pdh-"
      }
    },
    {
      "cell_type": "code",
      "source": [
        "# this library is used for drawing the charts easily.\n",
        "# use this library to draw your charts in this homework.\n",
        "!pip install -q git+https://github.com/MJAHMADEE/docs"
      ],
      "metadata": {
        "id": "MzgqBP8pjPyS",
        "colab": {
          "base_uri": "https://localhost:8080/"
        },
        "outputId": "e731a9bb-e8b2-4c94-b134-f7e6109d545e"
      },
      "execution_count": 2,
      "outputs": [
        {
          "output_type": "stream",
          "name": "stdout",
          "text": [
            "  Building wheel for tensorflow-docs (setup.py) ... \u001b[?25l\u001b[?25hdone\n"
          ]
        }
      ]
    },
    {
      "cell_type": "code",
      "execution_count": 3,
      "metadata": {
        "id": "bZXb6-72gjcO"
      },
      "outputs": [],
      "source": [
        "import numpy as np\n",
        "import matplotlib.pyplot as plt\n",
        "import pandas as pd\n",
        "\n",
        "from datetime import datetime, timedelta\n",
        "from sklearn.preprocessing import MinMaxScaler, StandardScaler\n",
        "from sklearn.model_selection import train_test_split\n",
        "from sklearn.utils import shuffle\n",
        "\n",
        "import tensorflow as tf\n",
        "from tensorflow import keras\n",
        "from tensorflow.keras import layers\n",
        "import tensorflow_docs as tfdocs\n",
        "import tensorflow_docs.plots\n",
        "from keras import backend as K\n",
        "from keras.layers import Dense\n",
        "from keras.models import Model"
      ]
    },
    {
      "cell_type": "code",
      "source": [
        "from google.colab import drive\n",
        "drive.mount('/content/drive')"
      ],
      "metadata": {
        "colab": {
          "base_uri": "https://localhost:8080/"
        },
        "id": "rPZipDx4W0xm",
        "outputId": "d7af4fe3-929d-4468-d482-02f5f32b9977"
      },
      "execution_count": 4,
      "outputs": [
        {
          "output_type": "stream",
          "name": "stdout",
          "text": [
            "Mounted at /content/drive\n"
          ]
        }
      ]
    },
    {
      "cell_type": "markdown",
      "source": [
        "# 1.Prepare data"
      ],
      "metadata": {
        "id": "gqeka8hQPh-v"
      }
    },
    {
      "cell_type": "code",
      "source": [
        "# unzip data and load them\n",
        "! unzip \"/content/drive/My Drive/deep learning/hw5/time-series.zip\" "
      ],
      "metadata": {
        "id": "PrZ_5svyjXgg",
        "colab": {
          "base_uri": "https://localhost:8080/"
        },
        "outputId": "91494eb2-4f7d-4986-f6b8-e2fc64687ca4"
      },
      "execution_count": 5,
      "outputs": [
        {
          "output_type": "stream",
          "name": "stdout",
          "text": [
            "Archive:  /content/drive/My Drive/deep learning/hw5/time-series.zip\n",
            "  inflating: 4.csv                   \n",
            "  inflating: 5.csv                   \n",
            "  inflating: 6.csv                   \n",
            "  inflating: 7.csv                   \n",
            "  inflating: 8.csv                   \n",
            "  inflating: 9.csv                   \n",
            "  inflating: 10.csv                  \n",
            "  inflating: 11.csv                  \n",
            "  inflating: 12.csv                  \n",
            "  inflating: 13.csv                  \n",
            "  inflating: 14.csv                  \n",
            "  inflating: 15.csv                  \n",
            "  inflating: 16.csv                  \n",
            "  inflating: 17.csv                  \n",
            "  inflating: 18.csv                  \n",
            "  inflating: 19.csv                  \n",
            "  inflating: 20.csv                  \n",
            "  inflating: 21.csv                  \n",
            "  inflating: 22.csv                  \n",
            "  inflating: 23.csv                  \n",
            "  inflating: 24.csv                  \n",
            "  inflating: 25.csv                  \n",
            "  inflating: 26.csv                  \n",
            "  inflating: 27.csv                  \n",
            "  inflating: 28.csv                  \n",
            "  inflating: 29.csv                  \n",
            "  inflating: 30.csv                  \n",
            "  inflating: 31.csv                  \n",
            "  inflating: 32.csv                  \n",
            "  inflating: 33.csv                  \n",
            "  inflating: 34.csv                  \n",
            "  inflating: 35.csv                  \n",
            "  inflating: 36.csv                  \n",
            "  inflating: 37.csv                  \n",
            "  inflating: 38.csv                  \n",
            "  inflating: 39.csv                  \n",
            "  inflating: 40.csv                  \n",
            "  inflating: 41.csv                  \n",
            "  inflating: 42.csv                  \n",
            "  inflating: 43.csv                  \n",
            "  inflating: 44.csv                  \n",
            "  inflating: 45.csv                  \n",
            "  inflating: 46.csv                  \n",
            "  inflating: 47.csv                  \n",
            "  inflating: 48.csv                  \n",
            "  inflating: 49.csv                  \n",
            "  inflating: 50.csv                  \n",
            "  inflating: 51.csv                  \n",
            "  inflating: 52.csv                  \n",
            "  inflating: 53.csv                  \n",
            "  inflating: 54.csv                  \n",
            "  inflating: 55.csv                  \n",
            "  inflating: 56.csv                  \n",
            "  inflating: 57.csv                  \n",
            "  inflating: 58.csv                  \n",
            "  inflating: 59.csv                  \n",
            "  inflating: 60.csv                  \n",
            "  inflating: 61.csv                  \n",
            "  inflating: 62.csv                  \n",
            "  inflating: 63.csv                  \n",
            "  inflating: 64.csv                  \n",
            "  inflating: 65.csv                  \n",
            "  inflating: 66.csv                  \n",
            "  inflating: 67.csv                  \n",
            "  inflating: 68.csv                  \n",
            "  inflating: 69.csv                  \n",
            "  inflating: 70.csv                  \n",
            "  inflating: 71.csv                  \n",
            "  inflating: 72.csv                  \n",
            "  inflating: 73.csv                  \n",
            "  inflating: 74.csv                  \n",
            "  inflating: 75.csv                  \n",
            "  inflating: 76.csv                  \n",
            "  inflating: 77.csv                  \n",
            "  inflating: 78.csv                  \n",
            "  inflating: 79.csv                  \n",
            "  inflating: 80.csv                  \n",
            "  inflating: 0.csv                   \n",
            "  inflating: 1.csv                   \n",
            "  inflating: 2.csv                   \n",
            "  inflating: 3.csv                   \n"
          ]
        }
      ]
    },
    {
      "cell_type": "code",
      "source": [
        "import os\n",
        "\n",
        "datasets = []\n",
        "for sample_file in os.listdir():\n",
        "  if sample_file.endswith(\".csv\"):\n",
        "    datasets.append(pd.read_csv(sample_file))"
      ],
      "metadata": {
        "id": "6DPzItwyYvQs"
      },
      "execution_count": 6,
      "outputs": []
    },
    {
      "cell_type": "code",
      "source": [
        "datasets[0]"
      ],
      "metadata": {
        "colab": {
          "base_uri": "https://localhost:8080/",
          "height": 424
        },
        "id": "Y-yZKjjZc7ht",
        "outputId": "74750dcf-ba8d-4c01-8f4a-254c36491633"
      },
      "execution_count": 18,
      "outputs": [
        {
          "output_type": "execute_result",
          "data": {
            "text/plain": [
              "      timestamp     value  label\n",
              "0             1  5.860000      0\n",
              "1             2  5.948333      0\n",
              "2             3  5.916111      0\n",
              "3             4  5.465833      0\n",
              "4             5  5.773611      0\n",
              "...         ...       ...    ...\n",
              "1456       1457  5.767778      0\n",
              "1457       1458  5.855833      0\n",
              "1458       1459  5.991111      0\n",
              "1459       1460  5.962500      0\n",
              "1460       1461  6.135278      0\n",
              "\n",
              "[1461 rows x 3 columns]"
            ],
            "text/html": [
              "\n",
              "  <div id=\"df-c887fb00-8fdd-4356-9dcb-b96cfd05ea6a\">\n",
              "    <div class=\"colab-df-container\">\n",
              "      <div>\n",
              "<style scoped>\n",
              "    .dataframe tbody tr th:only-of-type {\n",
              "        vertical-align: middle;\n",
              "    }\n",
              "\n",
              "    .dataframe tbody tr th {\n",
              "        vertical-align: top;\n",
              "    }\n",
              "\n",
              "    .dataframe thead th {\n",
              "        text-align: right;\n",
              "    }\n",
              "</style>\n",
              "<table border=\"1\" class=\"dataframe\">\n",
              "  <thead>\n",
              "    <tr style=\"text-align: right;\">\n",
              "      <th></th>\n",
              "      <th>timestamp</th>\n",
              "      <th>value</th>\n",
              "      <th>label</th>\n",
              "    </tr>\n",
              "  </thead>\n",
              "  <tbody>\n",
              "    <tr>\n",
              "      <th>0</th>\n",
              "      <td>1</td>\n",
              "      <td>5.860000</td>\n",
              "      <td>0</td>\n",
              "    </tr>\n",
              "    <tr>\n",
              "      <th>1</th>\n",
              "      <td>2</td>\n",
              "      <td>5.948333</td>\n",
              "      <td>0</td>\n",
              "    </tr>\n",
              "    <tr>\n",
              "      <th>2</th>\n",
              "      <td>3</td>\n",
              "      <td>5.916111</td>\n",
              "      <td>0</td>\n",
              "    </tr>\n",
              "    <tr>\n",
              "      <th>3</th>\n",
              "      <td>4</td>\n",
              "      <td>5.465833</td>\n",
              "      <td>0</td>\n",
              "    </tr>\n",
              "    <tr>\n",
              "      <th>4</th>\n",
              "      <td>5</td>\n",
              "      <td>5.773611</td>\n",
              "      <td>0</td>\n",
              "    </tr>\n",
              "    <tr>\n",
              "      <th>...</th>\n",
              "      <td>...</td>\n",
              "      <td>...</td>\n",
              "      <td>...</td>\n",
              "    </tr>\n",
              "    <tr>\n",
              "      <th>1456</th>\n",
              "      <td>1457</td>\n",
              "      <td>5.767778</td>\n",
              "      <td>0</td>\n",
              "    </tr>\n",
              "    <tr>\n",
              "      <th>1457</th>\n",
              "      <td>1458</td>\n",
              "      <td>5.855833</td>\n",
              "      <td>0</td>\n",
              "    </tr>\n",
              "    <tr>\n",
              "      <th>1458</th>\n",
              "      <td>1459</td>\n",
              "      <td>5.991111</td>\n",
              "      <td>0</td>\n",
              "    </tr>\n",
              "    <tr>\n",
              "      <th>1459</th>\n",
              "      <td>1460</td>\n",
              "      <td>5.962500</td>\n",
              "      <td>0</td>\n",
              "    </tr>\n",
              "    <tr>\n",
              "      <th>1460</th>\n",
              "      <td>1461</td>\n",
              "      <td>6.135278</td>\n",
              "      <td>0</td>\n",
              "    </tr>\n",
              "  </tbody>\n",
              "</table>\n",
              "<p>1461 rows × 3 columns</p>\n",
              "</div>\n",
              "      <button class=\"colab-df-convert\" onclick=\"convertToInteractive('df-c887fb00-8fdd-4356-9dcb-b96cfd05ea6a')\"\n",
              "              title=\"Convert this dataframe to an interactive table.\"\n",
              "              style=\"display:none;\">\n",
              "        \n",
              "  <svg xmlns=\"http://www.w3.org/2000/svg\" height=\"24px\"viewBox=\"0 0 24 24\"\n",
              "       width=\"24px\">\n",
              "    <path d=\"M0 0h24v24H0V0z\" fill=\"none\"/>\n",
              "    <path d=\"M18.56 5.44l.94 2.06.94-2.06 2.06-.94-2.06-.94-.94-2.06-.94 2.06-2.06.94zm-11 1L8.5 8.5l.94-2.06 2.06-.94-2.06-.94L8.5 2.5l-.94 2.06-2.06.94zm10 10l.94 2.06.94-2.06 2.06-.94-2.06-.94-.94-2.06-.94 2.06-2.06.94z\"/><path d=\"M17.41 7.96l-1.37-1.37c-.4-.4-.92-.59-1.43-.59-.52 0-1.04.2-1.43.59L10.3 9.45l-7.72 7.72c-.78.78-.78 2.05 0 2.83L4 21.41c.39.39.9.59 1.41.59.51 0 1.02-.2 1.41-.59l7.78-7.78 2.81-2.81c.8-.78.8-2.07 0-2.86zM5.41 20L4 18.59l7.72-7.72 1.47 1.35L5.41 20z\"/>\n",
              "  </svg>\n",
              "      </button>\n",
              "      \n",
              "  <style>\n",
              "    .colab-df-container {\n",
              "      display:flex;\n",
              "      flex-wrap:wrap;\n",
              "      gap: 12px;\n",
              "    }\n",
              "\n",
              "    .colab-df-convert {\n",
              "      background-color: #E8F0FE;\n",
              "      border: none;\n",
              "      border-radius: 50%;\n",
              "      cursor: pointer;\n",
              "      display: none;\n",
              "      fill: #1967D2;\n",
              "      height: 32px;\n",
              "      padding: 0 0 0 0;\n",
              "      width: 32px;\n",
              "    }\n",
              "\n",
              "    .colab-df-convert:hover {\n",
              "      background-color: #E2EBFA;\n",
              "      box-shadow: 0px 1px 2px rgba(60, 64, 67, 0.3), 0px 1px 3px 1px rgba(60, 64, 67, 0.15);\n",
              "      fill: #174EA6;\n",
              "    }\n",
              "\n",
              "    [theme=dark] .colab-df-convert {\n",
              "      background-color: #3B4455;\n",
              "      fill: #D2E3FC;\n",
              "    }\n",
              "\n",
              "    [theme=dark] .colab-df-convert:hover {\n",
              "      background-color: #434B5C;\n",
              "      box-shadow: 0px 1px 3px 1px rgba(0, 0, 0, 0.15);\n",
              "      filter: drop-shadow(0px 1px 2px rgba(0, 0, 0, 0.3));\n",
              "      fill: #FFFFFF;\n",
              "    }\n",
              "  </style>\n",
              "\n",
              "      <script>\n",
              "        const buttonEl =\n",
              "          document.querySelector('#df-c887fb00-8fdd-4356-9dcb-b96cfd05ea6a button.colab-df-convert');\n",
              "        buttonEl.style.display =\n",
              "          google.colab.kernel.accessAllowed ? 'block' : 'none';\n",
              "\n",
              "        async function convertToInteractive(key) {\n",
              "          const element = document.querySelector('#df-c887fb00-8fdd-4356-9dcb-b96cfd05ea6a');\n",
              "          const dataTable =\n",
              "            await google.colab.kernel.invokeFunction('convertToInteractive',\n",
              "                                                     [key], {});\n",
              "          if (!dataTable) return;\n",
              "\n",
              "          const docLinkHtml = 'Like what you see? Visit the ' +\n",
              "            '<a target=\"_blank\" href=https://colab.research.google.com/notebooks/data_table.ipynb>data table notebook</a>'\n",
              "            + ' to learn more about interactive tables.';\n",
              "          element.innerHTML = '';\n",
              "          dataTable['output_type'] = 'display_data';\n",
              "          await google.colab.output.renderOutput(dataTable, element);\n",
              "          const docLink = document.createElement('div');\n",
              "          docLink.innerHTML = docLinkHtml;\n",
              "          element.appendChild(docLink);\n",
              "        }\n",
              "      </script>\n",
              "    </div>\n",
              "  </div>\n",
              "  "
            ]
          },
          "metadata": {},
          "execution_count": 18
        }
      ]
    },
    {
      "cell_type": "code",
      "source": [
        "# show chart of 5 dataset(csv file) randomly\n",
        "randoms_ds = [5, 17, 30, 47, 71]\n",
        "\n",
        "for ds_ind in randoms_ds:\n",
        "  plt.plot(datasets[ds_ind][\"timestamp\"], datasets[ds_ind][\"value\"], label=\"value\")\n",
        "  plt.plot(datasets[ds_ind][\"timestamp\"], datasets[ds_ind][\"label\"], label=\"label\")\n",
        "  plt.legend()\n",
        "  plt.figure()"
      ],
      "metadata": {
        "id": "QLJfV4vuwYpq",
        "colab": {
          "base_uri": "https://localhost:8080/",
          "height": 1000
        },
        "outputId": "a0748780-1f65-46ca-d98f-cf9d47bd6fd9"
      },
      "execution_count": 7,
      "outputs": [
        {
          "output_type": "display_data",
          "data": {
            "text/plain": [
              "<Figure size 432x288 with 1 Axes>"
            ],
            "image/png": "[encoded data removed]"
          },
          "metadata": {
            "needs_background": "light"
          }
        },
        {
          "output_type": "display_data",
          "data": {
            "text/plain": [
              "<Figure size 432x288 with 1 Axes>"
            ],
            "image/png": "[encoded data removed]"
          },
          "metadata": {
            "needs_background": "light"
          }
        },
        {
          "output_type": "display_data",
          "data": {
            "text/plain": [
              "<Figure size 432x288 with 1 Axes>"
            ],
            "image/png": "[encoded data removed]"
          },
          "metadata": {
            "needs_background": "light"
          }
        },
        {
          "output_type": "display_data",
          "data": {
            "text/plain": [
              "<Figure size 432x288 with 1 Axes>"
            ],
            "image/png": "[encoded data removed]"
          },
          "metadata": {
            "needs_background": "light"
          }
        },
        {
          "output_type": "display_data",
          "data": {
            "text/plain": [
              "<Figure size 432x288 with 1 Axes>"
            ],
            "image/png": "[encoded data removed]"
          },
          "metadata": {
            "needs_background": "light"
          }
        },
        {
          "output_type": "display_data",
          "data": {
            "text/plain": [
              "<Figure size 432x288 with 0 Axes>"
            ]
          },
          "metadata": {}
        }
      ]
    },
    {
      "cell_type": "code",
      "source": [
        "# split data to train and test\n",
        "df = pd.concat(datasets, ignore_index=True)\n",
        "X = df[\"value\"]\n",
        "X = X.values.reshape(-1, 1, 1)\n",
        "y = df.iloc[:, -1]\n",
        "X_train, X_test, y_train, y_test = train_test_split(X, y, random_state=0)"
      ],
      "metadata": {
        "id": "qLS29lX5whHC"
      },
      "execution_count": 7,
      "outputs": []
    },
    {
      "cell_type": "markdown",
      "source": [
        "# Metric functions"
      ],
      "metadata": {
        "id": "rw90mtkiP-DQ"
      }
    },
    {
      "cell_type": "code",
      "source": [
        "def recall_m(y_true, y_pred):\n",
        "    true_positives = K.sum(K.round(K.clip(y_true * y_pred, 0, 1)))\n",
        "    possible_positives = K.sum(K.round(K.clip(y_true, 0, 1)))\n",
        "    recall = true_positives / (possible_positives + \n",
        "    K.epsilon())\n",
        "    return recall\n",
        "\n",
        "def precision_m(y_true, y_pred):\n",
        "    true_positives = K.sum(K.round(K.clip(y_true * y_pred, 0, 1)))\n",
        "    predicted_positives = K.sum(K.round(K.clip(y_pred, 0, 1)))\n",
        "    precision = true_positives / (predicted_positives + K.epsilon())\n",
        "    return precision\n",
        "\n",
        "def f1_score_m(y_true, y_pred):\n",
        "    precision = precision_m(y_true, y_pred)\n",
        "    recall = recall_m(y_true, y_pred)\n",
        "    return 2*((precision*recall)/(precision+recall+K.epsilon()))"
      ],
      "metadata": {
        "id": "A6PCpO0q8zSL"
      },
      "execution_count": 8,
      "outputs": []
    },
    {
      "cell_type": "markdown",
      "source": [
        "# 3. Create and train 3 RNN model(Simple, LSTM, GRU)"
      ],
      "metadata": {
        "id": "dFcsB8LKwzsT"
      }
    },
    {
      "cell_type": "code",
      "source": [
        "# Simple\n",
        "model = keras.Sequential()\n",
        "model.add(layers.SimpleRNN(64, input_shape=(1, 1)))\n",
        "model.add(Dense(16, activation=\"relu\"))\n",
        "model.add(Dense(1, activation='sigmoid'))\n",
        "\n",
        "model.compile(\n",
        "    optimizer='adam',\n",
        "    loss='binary_crossentropy',\n",
        "    metrics=(f1_score_m,)\n",
        ")\n",
        "\n",
        "\n",
        "model.fit(\n",
        "    X_train, y_train,\n",
        "    epochs=10,\n",
        "    batch_size=64,\n",
        "    validation_data=(X_test, y_test),\n",
        "    callbacks=keras.callbacks.EarlyStopping(monitor='val_f1_score_m',\n",
        "                                            patience=5,\n",
        "                                            restore_best_weights=True)\n",
        ")"
      ],
      "metadata": {
        "id": "Dteq-W5bw_6E",
        "colab": {
          "base_uri": "https://localhost:8080/"
        },
        "outputId": "be506cf3-d38e-409a-b4c1-d66cc34eab35"
      },
      "execution_count": 19,
      "outputs": [
        {
          "output_type": "stream",
          "name": "stdout",
          "text": [
            "Epoch 1/10\n",
            "17737/17737 [==============================] - 89s 5ms/step - loss: 0.0795 - f1_score_m: 0.0363 - val_loss: 0.0770 - val_f1_score_m: 0.0668\n",
            "Epoch 2/10\n",
            "17737/17737 [==============================] - 91s 5ms/step - loss: 0.0770 - f1_score_m: 0.0787 - val_loss: 0.0767 - val_f1_score_m: 0.1005\n",
            "Epoch 3/10\n",
            "17737/17737 [==============================] - 78s 4ms/step - loss: 0.0762 - f1_score_m: 0.0832 - val_loss: 0.0748 - val_f1_score_m: 0.0774\n",
            "Epoch 4/10\n",
            "17737/17737 [==============================] - 88s 5ms/step - loss: 0.0751 - f1_score_m: 0.0866 - val_loss: 0.0743 - val_f1_score_m: 0.1009\n",
            "Epoch 5/10\n",
            "17737/17737 [==============================] - 89s 5ms/step - loss: 0.0748 - f1_score_m: 0.0927 - val_loss: 0.0742 - val_f1_score_m: 0.0779\n",
            "Epoch 6/10\n",
            "17737/17737 [==============================] - 88s 5ms/step - loss: 0.0748 - f1_score_m: 0.0978 - val_loss: 0.0745 - val_f1_score_m: 0.1191\n"
          ]
        },
        {
          "output_type": "execute_result",
          "data": {
            "text/plain": [
              "<keras.callbacks.History at 0x7f7bae680310>"
            ]
          },
          "metadata": {},
          "execution_count": 19
        }
      ]
    },
    {
      "cell_type": "code",
      "source": [
        "# LSTM\n",
        "model = keras.Sequential()\n",
        "model.add(layers.LSTM(64, input_shape=(1, 1)))\n",
        "model.add(Dense(16, activation=\"relu\"))\n",
        "model.add(Dense(1, activation='sigmoid'))\n",
        "\n",
        "model.compile(\n",
        "    optimizer='adam',\n",
        "    loss='binary_crossentropy',\n",
        "    metrics=(f1_score_m,)\n",
        ")\n",
        "\n",
        "\n",
        "model.fit(\n",
        "    X_train, y_train,\n",
        "    epochs=10,\n",
        "    batch_size=64,\n",
        "    validation_data=(X_test, y_test),\n",
        "    callbacks=keras.callbacks.EarlyStopping(monitor='val_f1_score_m',\n",
        "                                            patience=5,\n",
        "                                            restore_best_weights=True)\n",
        ")"
      ],
      "metadata": {
        "id": "wPx4uL7IxBwA",
        "colab": {
          "base_uri": "https://localhost:8080/"
        },
        "outputId": "c83d4577-2e94-433e-ec1a-4405de06f7d0"
      },
      "execution_count": 20,
      "outputs": [
        {
          "output_type": "stream",
          "name": "stdout",
          "text": [
            "Epoch 1/10\n",
            "17737/17737 [==============================] - 84s 5ms/step - loss: 0.0754 - f1_score_m: 0.0050 - val_loss: 0.0696 - val_f1_score_m: 0.0402\n",
            "Epoch 2/10\n",
            "17737/17737 [==============================] - 81s 5ms/step - loss: 0.0695 - f1_score_m: 0.0455 - val_loss: 0.0690 - val_f1_score_m: 0.0662\n",
            "Epoch 3/10\n",
            "17737/17737 [==============================] - 82s 5ms/step - loss: 0.0685 - f1_score_m: 0.0662 - val_loss: 0.0665 - val_f1_score_m: 0.0650\n",
            "Epoch 4/10\n",
            "17737/17737 [==============================] - 81s 5ms/step - loss: 0.0680 - f1_score_m: 0.0778 - val_loss: 0.0670 - val_f1_score_m: 0.0895\n",
            "Epoch 5/10\n",
            "17737/17737 [==============================] - 90s 5ms/step - loss: 0.0676 - f1_score_m: 0.0841 - val_loss: 0.0668 - val_f1_score_m: 0.0908\n",
            "Epoch 6/10\n",
            "17737/17737 [==============================] - 91s 5ms/step - loss: 0.0673 - f1_score_m: 0.0878 - val_loss: 0.0679 - val_f1_score_m: 0.0874\n"
          ]
        },
        {
          "output_type": "execute_result",
          "data": {
            "text/plain": [
              "<keras.callbacks.History at 0x7f7bae39a610>"
            ]
          },
          "metadata": {},
          "execution_count": 20
        }
      ]
    },
    {
      "cell_type": "code",
      "source": [
        "# GRU\n",
        "model = keras.Sequential()\n",
        "model.add(layers.GRU(64, input_shape=(1, 1)))\n",
        "model.add(Dense(16, activation=\"relu\"))\n",
        "model.add(Dense(1, activation='sigmoid'))\n",
        "\n",
        "model.compile(\n",
        "    optimizer='adam',\n",
        "    loss='binary_crossentropy',\n",
        "    metrics=(f1_score_m,)\n",
        ")\n",
        "\n",
        "\n",
        "model.fit(\n",
        "    X_train, y_train,\n",
        "    epochs=10,\n",
        "    batch_size=64,\n",
        "    validation_data=(X_test, y_test),\n",
        "    callbacks=keras.callbacks.EarlyStopping(monitor='val_f1_score_m',\n",
        "                                            patience=5,\n",
        "                                            restore_best_weights=True)\n",
        ")"
      ],
      "metadata": {
        "id": "T0Br5f3sxDTy",
        "colab": {
          "base_uri": "https://localhost:8080/"
        },
        "outputId": "b37d88ff-fa64-4e3b-dd13-f85ed205bc6f"
      },
      "execution_count": 21,
      "outputs": [
        {
          "output_type": "stream",
          "name": "stdout",
          "text": [
            "Epoch 1/10\n",
            "17737/17737 [==============================] - 90s 5ms/step - loss: 0.0742 - f1_score_m: 0.0400 - val_loss: 0.0679 - val_f1_score_m: 0.0899\n",
            "Epoch 2/10\n",
            "17737/17737 [==============================] - 81s 5ms/step - loss: 0.0678 - f1_score_m: 0.0934 - val_loss: 0.0665 - val_f1_score_m: 0.1153\n",
            "Epoch 3/10\n",
            "17737/17737 [==============================] - 88s 5ms/step - loss: 0.0673 - f1_score_m: 0.1029 - val_loss: 0.0665 - val_f1_score_m: 0.1072\n",
            "Epoch 4/10\n",
            "17737/17737 [==============================] - 86s 5ms/step - loss: 0.0671 - f1_score_m: 0.1052 - val_loss: 0.0668 - val_f1_score_m: 0.1132\n",
            "Epoch 5/10\n",
            "17737/17737 [==============================] - 100s 6ms/step - loss: 0.0670 - f1_score_m: 0.1061 - val_loss: 0.0671 - val_f1_score_m: 0.1125\n",
            "Epoch 6/10\n",
            "17737/17737 [==============================] - 85s 5ms/step - loss: 0.0668 - f1_score_m: 0.1058 - val_loss: 0.0664 - val_f1_score_m: 0.1087\n"
          ]
        },
        {
          "output_type": "execute_result",
          "data": {
            "text/plain": [
              "<keras.callbacks.History at 0x7f7b9c7cf880>"
            ]
          },
          "metadata": {},
          "execution_count": 21
        }
      ]
    },
    {
      "cell_type": "markdown",
      "source": [
        "# 4. Preprocces data to get better performance"
      ],
      "metadata": {
        "id": "WkfPzfdQxLfr"
      }
    },
    {
      "cell_type": "code",
      "source": [
        "# Preprocces method 1 = MinMaxScaler\n",
        "min_max_scaler = MinMaxScaler()\n",
        "X_train = min_max_scaler.fit_transform(X_train.reshape(-1,1)).reshape(-1,1,1)\n",
        "X_test = min_max_scaler.transform(X_test.reshape(-1,1)).reshape(-1,1,1)"
      ],
      "metadata": {
        "id": "4cNmgDBZxS9R"
      },
      "execution_count": 39,
      "outputs": []
    },
    {
      "cell_type": "code",
      "source": [
        "# Preprocces method 2 = StandardScaler\n",
        "standard_scaler = StandardScaler()\n",
        "X_train = standard_scaler.fit_transform(X_train.reshape(-1,1))\n",
        "X_test = standard_scaler.transform(X_test.reshape(-1,1))"
      ],
      "metadata": {
        "id": "hxdMEiV7xXfy"
      },
      "execution_count": 33,
      "outputs": []
    },
    {
      "cell_type": "code",
      "source": [
        "# Train 3 models again\n",
        "# Simple\n",
        "model = keras.Sequential()\n",
        "model.add(layers.SimpleRNN(8, input_shape=(1, 1)))\n",
        "model.add(Dense(64, activation=\"relu\"))\n",
        "model.add(Dense(1, activation='sigmoid'))\n",
        "\n",
        "model.compile(\n",
        "    optimizer='adam',\n",
        "    loss='binary_crossentropy',\n",
        "    metrics=(f1_score_m,)\n",
        ")\n",
        "\n",
        "\n",
        "model.fit(\n",
        "    X_train, y_train,\n",
        "    epochs=10,\n",
        "    batch_size=64,\n",
        "    validation_data=(X_test, y_test),\n",
        "    callbacks=keras.callbacks.EarlyStopping(monitor='val_f1_score_m',\n",
        "                                            patience=5,\n",
        "                                            restore_best_weights=True)\n",
        ")"
      ],
      "metadata": {
        "id": "628Phgs6xaxh",
        "colab": {
          "base_uri": "https://localhost:8080/"
        },
        "outputId": "25f0c4fa-83ae-4fb4-cc9e-bf7c0b2348b6"
      },
      "execution_count": 47,
      "outputs": [
        {
          "output_type": "stream",
          "name": "stdout",
          "text": [
            "Epoch 1/10\n",
            "17737/17737 [==============================] - 90s 5ms/step - loss: 0.0810 - f1_score_m: 0.0390 - val_loss: 0.0782 - val_f1_score_m: 0.0773\n",
            "Epoch 2/10\n",
            "17737/17737 [==============================] - 95s 5ms/step - loss: 0.0776 - f1_score_m: 0.0869 - val_loss: 0.0782 - val_f1_score_m: 0.0901\n",
            "Epoch 3/10\n",
            "17737/17737 [==============================] - 90s 5ms/step - loss: 0.0772 - f1_score_m: 0.0944 - val_loss: 0.0764 - val_f1_score_m: 0.0911\n",
            "Epoch 4/10\n",
            "17737/17737 [==============================] - 78s 4ms/step - loss: 0.0765 - f1_score_m: 0.0946 - val_loss: 0.0764 - val_f1_score_m: 0.1109\n",
            "Epoch 5/10\n",
            "17737/17737 [==============================] - 88s 5ms/step - loss: 0.0763 - f1_score_m: 0.0947 - val_loss: 0.0760 - val_f1_score_m: 0.1109\n",
            "Epoch 6/10\n",
            "17737/17737 [==============================] - 88s 5ms/step - loss: 0.0762 - f1_score_m: 0.0946 - val_loss: 0.0768 - val_f1_score_m: 0.1106\n"
          ]
        },
        {
          "output_type": "execute_result",
          "data": {
            "text/plain": [
              "<keras.callbacks.History at 0x7f7b8e23bf40>"
            ]
          },
          "metadata": {},
          "execution_count": 47
        }
      ]
    },
    {
      "cell_type": "code",
      "source": [
        "# LSTM\n",
        "model = keras.Sequential()\n",
        "model.add(layers.LSTM(16, input_shape=(1, 1)))\n",
        "model.add(Dense(32, activation=\"relu\"))\n",
        "model.add(Dense(1, activation='sigmoid'))\n",
        "\n",
        "model.compile(\n",
        "    optimizer='adam',\n",
        "    loss='binary_crossentropy',\n",
        "    metrics=(f1_score_m,)\n",
        ")\n",
        "\n",
        "\n",
        "model.fit(\n",
        "    X_train, y_train,\n",
        "    epochs=15,\n",
        "    batch_size=64,\n",
        "    validation_data=(X_test, y_test),\n",
        "    callbacks=keras.callbacks.EarlyStopping(monitor='val_f1_score_m',\n",
        "                                            patience=7,\n",
        "                                            restore_best_weights=True)\n",
        ")"
      ],
      "metadata": {
        "colab": {
          "base_uri": "https://localhost:8080/"
        },
        "id": "w94bQ0aatF8K",
        "outputId": "eecff251-e857-47ef-f946-d49c3e50b2d1"
      },
      "execution_count": 48,
      "outputs": [
        {
          "output_type": "stream",
          "name": "stdout",
          "text": [
            "Epoch 1/15\n",
            "17737/17737 [==============================] - 92s 5ms/step - loss: 0.0818 - f1_score_m: 0.0063 - val_loss: 0.0772 - val_f1_score_m: 0.0270\n",
            "Epoch 2/15\n",
            "17737/17737 [==============================] - 93s 5ms/step - loss: 0.0766 - f1_score_m: 0.0509 - val_loss: 0.0765 - val_f1_score_m: 0.0654\n",
            "Epoch 3/15\n",
            "17737/17737 [==============================] - 88s 5ms/step - loss: 0.0756 - f1_score_m: 0.0654 - val_loss: 0.0762 - val_f1_score_m: 0.1015\n",
            "Epoch 4/15\n",
            "17737/17737 [==============================] - 87s 5ms/step - loss: 0.0751 - f1_score_m: 0.0794 - val_loss: 0.0751 - val_f1_score_m: 0.0772\n",
            "Epoch 5/15\n",
            "17737/17737 [==============================] - 105s 6ms/step - loss: 0.0748 - f1_score_m: 0.0907 - val_loss: 0.0745 - val_f1_score_m: 0.1086\n",
            "Epoch 6/15\n",
            "17737/17737 [==============================] - 95s 5ms/step - loss: 0.0746 - f1_score_m: 0.0971 - val_loss: 0.0743 - val_f1_score_m: 0.1117\n",
            "Epoch 7/15\n",
            "17737/17737 [==============================] - 99s 6ms/step - loss: 0.0745 - f1_score_m: 0.1005 - val_loss: 0.0746 - val_f1_score_m: 0.1017\n",
            "Epoch 8/15\n",
            "17737/17737 [==============================] - 84s 5ms/step - loss: 0.0744 - f1_score_m: 0.1017 - val_loss: 0.0742 - val_f1_score_m: 0.0900\n"
          ]
        },
        {
          "output_type": "execute_result",
          "data": {
            "text/plain": [
              "<keras.callbacks.History at 0x7f7b8e2a26d0>"
            ]
          },
          "metadata": {},
          "execution_count": 48
        }
      ]
    },
    {
      "cell_type": "code",
      "source": [
        "# GRU\n",
        "model = keras.Sequential()\n",
        "model.add(layers.GRU(16, input_shape=(1, 1)))\n",
        "model.add(Dense(32, activation=\"relu\"))\n",
        "model.add(Dense(1, activation='sigmoid'))\n",
        "\n",
        "model.compile(\n",
        "    optimizer='adam',\n",
        "    loss='binary_crossentropy',\n",
        "    metrics=(f1_score_m,)\n",
        ")\n",
        "\n",
        "\n",
        "model.fit(\n",
        "    X_train, y_train,\n",
        "    epochs=15,\n",
        "    batch_size=64,\n",
        "    validation_data=(X_test, y_test),\n",
        "    callbacks=keras.callbacks.EarlyStopping(monitor='val_f1_score_m',\n",
        "                                            patience=7,\n",
        "                                            restore_best_weights=True)\n",
        ")"
      ],
      "metadata": {
        "colab": {
          "base_uri": "https://localhost:8080/"
        },
        "id": "QJH_P8_QtN7H",
        "outputId": "81f5184e-776b-4519-b056-6d30dbb2ed25"
      },
      "execution_count": 49,
      "outputs": [
        {
          "output_type": "stream",
          "name": "stdout",
          "text": [
            "Epoch 1/15\n",
            "17737/17737 [==============================] - 81s 4ms/step - loss: 0.0803 - f1_score_m: 0.0105 - val_loss: 0.0761 - val_f1_score_m: 0.0654\n",
            "Epoch 2/15\n",
            "17737/17737 [==============================] - 84s 5ms/step - loss: 0.0757 - f1_score_m: 0.0758 - val_loss: 0.0749 - val_f1_score_m: 0.0909\n",
            "Epoch 3/15\n",
            "17737/17737 [==============================] - 94s 5ms/step - loss: 0.0748 - f1_score_m: 0.0934 - val_loss: 0.0744 - val_f1_score_m: 0.1050\n",
            "Epoch 4/15\n",
            "17737/17737 [==============================] - 83s 5ms/step - loss: 0.0746 - f1_score_m: 0.1004 - val_loss: 0.0742 - val_f1_score_m: 0.1131\n",
            "Epoch 5/15\n",
            "17737/17737 [==============================] - 93s 5ms/step - loss: 0.0745 - f1_score_m: 0.1045 - val_loss: 0.0761 - val_f1_score_m: 0.0776\n",
            "Epoch 6/15\n",
            "17737/17737 [==============================] - 90s 5ms/step - loss: 0.0744 - f1_score_m: 0.1062 - val_loss: 0.0743 - val_f1_score_m: 0.1317\n",
            "Epoch 7/15\n",
            "17737/17737 [==============================] - 80s 5ms/step - loss: 0.0743 - f1_score_m: 0.1059 - val_loss: 0.0739 - val_f1_score_m: 0.0990\n",
            "Epoch 8/15\n",
            "17737/17737 [==============================] - 89s 5ms/step - loss: 0.0743 - f1_score_m: 0.1058 - val_loss: 0.0739 - val_f1_score_m: 0.1003\n"
          ]
        },
        {
          "output_type": "execute_result",
          "data": {
            "text/plain": [
              "<keras.callbacks.History at 0x7f7b60442a60>"
            ]
          },
          "metadata": {},
          "execution_count": 49
        }
      ]
    },
    {
      "cell_type": "markdown",
      "source": [
        "# 6. Train a self supervise model"
      ],
      "metadata": {
        "id": "vwjFRmdfxnPd"
      }
    },
    {
      "cell_type": "code",
      "source": [
        "model = keras.Sequential()\n",
        "model.add(layers.LSTM(32, input_shape=(1, 1), return_sequences=True))\n",
        "model.add(layers.LSTM(8))\n",
        "model.add(layers.Dense(1))"
      ],
      "metadata": {
        "id": "2mYmhW4s7fF4"
      },
      "execution_count": 9,
      "outputs": []
    },
    {
      "cell_type": "code",
      "source": [
        "# compile and train the model\n",
        "def predict_indicators(data):\n",
        "    labels = list()\n",
        "    samples = list()\n",
        "    for i in range(len(data) - 1):\n",
        "      tmp_samples = []\n",
        "      for k in range(1):\n",
        "        tmp_samples.append(data[i+k])\n",
        "      samples.append(tmp_samples)\n",
        "      labels.append(data[i + 1])\n",
        "    return np.array(samples).reshape((-1, 1)), np.array(labels)\n",
        "\n",
        "\n",
        "\n",
        "model.compile(\n",
        "    optimizer='adam',\n",
        "    loss='mse',\n",
        "    metrics=(f1_score_m,)\n",
        ")\n",
        "\n",
        "X_train, y_train = predict_indicators(X_train.flatten())\n",
        "X_test, y_test = predict_indicators(X_test.flatten())\n",
        "print(X_train.shape, y_train.shape)\n",
        "\n",
        "model.fit(\n",
        "    X_train, y_train,\n",
        "    epochs=2,\n",
        "    batch_size=64,\n",
        "    validation_data=(X_test, y_test),\n",
        "    callbacks=keras.callbacks.EarlyStopping(monitor='val_f1_score_m',\n",
        "                                            patience=7,\n",
        "                                            restore_best_weights=True)\n",
        ")"
      ],
      "metadata": {
        "id": "dVs4Qpxax1TH",
        "colab": {
          "base_uri": "https://localhost:8080/"
        },
        "outputId": "9a0bb9b9-a95e-4201-81fe-1a175d4768d1"
      },
      "execution_count": 11,
      "outputs": [
        {
          "output_type": "stream",
          "name": "stdout",
          "text": [
            "(1135109, 1) (1135109,)\n",
            "Epoch 1/2\n",
            "17737/17737 [==============================] - 119s 6ms/step - loss: 32950743040.0000 - f1_score_m: 0.9498 - val_loss: 33112242176.0000 - val_f1_score_m: 0.9438\n",
            "Epoch 2/2\n",
            "17737/17737 [==============================] - 115s 6ms/step - loss: 32950208512.0000 - f1_score_m: 0.9441 - val_loss: 33111818240.0000 - val_f1_score_m: 0.9439\n"
          ]
        },
        {
          "output_type": "execute_result",
          "data": {
            "text/plain": [
              "<keras.callbacks.History at 0x7f9f5e6c2760>"
            ]
          },
          "metadata": {},
          "execution_count": 11
        }
      ]
    },
    {
      "cell_type": "code",
      "source": [
        "# delete last layer of model\n",
        "new_model = tf.keras.Sequential()\n",
        "\n",
        "for layer in model.layers[:-1]: \n",
        "  new_model.add(layer)"
      ],
      "metadata": {
        "id": "3NaBeDjoyAbC"
      },
      "execution_count": 12,
      "outputs": []
    },
    {
      "cell_type": "code",
      "source": [
        "# freeze all remaining layers except the last one\n",
        "for layer in new_model.layers[:-1]:\n",
        "    layer.trainable = False"
      ],
      "metadata": {
        "id": "1oQr4l3ix9SC"
      },
      "execution_count": 13,
      "outputs": []
    },
    {
      "cell_type": "code",
      "source": [
        "# add 2 dence layer to the model\n",
        "new_model.add(Dense(16, activation='relu'))\n",
        "new_model.add(Dense(1, activation='sigmoid'))"
      ],
      "metadata": {
        "id": "HpriTEpgyiuD"
      },
      "execution_count": 14,
      "outputs": []
    },
    {
      "cell_type": "code",
      "source": [
        "# train the main task(anomaly detection)\n",
        "new_model.compile(\n",
        "    optimizer='adam',\n",
        "    loss='binary_crossentropy',\n",
        "    metrics=(f1_score_m,)\n",
        ")\n",
        "\n",
        "new_model.fit(\n",
        "    X_train, y_train,\n",
        "    epochs=10,\n",
        "    batch_size=64,\n",
        "    validation_data=(X_test, y_test),\n",
        "    callbacks=keras.callbacks.EarlyStopping(monitor='val_f1_score_m',\n",
        "                                            patience=5,\n",
        "                                            restore_best_weights=True)\n",
        ")"
      ],
      "metadata": {
        "id": "hmSYGO-hyopy",
        "colab": {
          "base_uri": "https://localhost:8080/"
        },
        "outputId": "ce176b5b-8aa0-4c22-a4e2-8c55a08d079f"
      },
      "execution_count": 15,
      "outputs": [
        {
          "output_type": "stream",
          "name": "stdout",
          "text": [
            "Epoch 1/10\n",
            "17737/17737 [==============================] - 101s 5ms/step - loss: -2846013.0000 - f1_score_m: 0.9372 - val_loss: -7843802.5000 - val_f1_score_m: 0.9359\n",
            "Epoch 2/10\n",
            "17737/17737 [==============================] - 96s 5ms/step - loss: -16762892.0000 - f1_score_m: 0.9361 - val_loss: -27598514.0000 - val_f1_score_m: 0.9359\n",
            "Epoch 3/10\n",
            "17737/17737 [==============================] - 99s 6ms/step - loss: -42404932.0000 - f1_score_m: 0.9362 - val_loss: -58719584.0000 - val_f1_score_m: 0.9359\n",
            "Epoch 4/10\n",
            "17737/17737 [==============================] - 81s 5ms/step - loss: -79233144.0000 - f1_score_m: 0.9361 - val_loss: -101104088.0000 - val_f1_score_m: 0.9359\n",
            "Epoch 5/10\n",
            "17737/17737 [==============================] - 91s 5ms/step - loss: -126997600.0000 - f1_score_m: 0.9361 - val_loss: -155033536.0000 - val_f1_score_m: 0.9359\n",
            "Epoch 6/10\n",
            "17737/17737 [==============================] - 81s 5ms/step - loss: -186853232.0000 - f1_score_m: 0.9361 - val_loss: -220800080.0000 - val_f1_score_m: 0.9359\n"
          ]
        },
        {
          "output_type": "execute_result",
          "data": {
            "text/plain": [
              "<keras.callbacks.History at 0x7f9f5e4b90a0>"
            ]
          },
          "metadata": {},
          "execution_count": 15
        }
      ]
    },
    {
      "cell_type": "markdown",
      "source": [
        "# 7. Handle unbalanced data problem"
      ],
      "metadata": {
        "id": "bkAIrck-y6SU"
      }
    },
    {
      "cell_type": "code",
      "source": [
        "# we can use downsampling when we have these anomality\n",
        "from sklearn.utils import resample\n",
        "\n",
        "df_maj = df[df[\"label\"] == 0]\n",
        "df_min = df[df[\"label\"] != 0]\n",
        "print(df_maj.shape, df_min.shape)\n",
        "df_maj_down_sampled = resample(df_maj,random_state=42,n_samples=len(df_min),replace=True)\n",
        "#concatenate the downsampled dataframe\n",
        "df_upsampled = pd.concat([df_maj_down_sampled,df_min])\n",
        "X = df_upsampled[\"value\"]\n",
        "X = X.values.reshape(-1, 1, 1)\n",
        "y = df_upsampled.iloc[:, -1]\n",
        "X_train, X_test, y_train, y_test = train_test_split(X, y, random_state=0)"
      ],
      "metadata": {
        "id": "hVL1QuqyzGuH",
        "colab": {
          "base_uri": "https://localhost:8080/"
        },
        "outputId": "62e770e7-3816-4258-e403-76d00a518156"
      },
      "execution_count": 16,
      "outputs": [
        {
          "output_type": "stream",
          "name": "stdout",
          "text": [
            "(1484686, 3) (28795, 3)\n"
          ]
        }
      ]
    },
    {
      "cell_type": "code",
      "source": [
        "# GRU\n",
        "model = keras.Sequential()\n",
        "model.add(layers.GRU(64, input_shape=(1, 1)))\n",
        "model.add(Dense(16, activation=\"relu\"))\n",
        "model.add(Dense(1, activation='sigmoid'))\n",
        "\n",
        "model.compile(\n",
        "    optimizer='adam',\n",
        "    loss='binary_crossentropy',\n",
        "    metrics=(f1_score_m,)\n",
        ")\n",
        "\n",
        "\n",
        "model.fit(\n",
        "    X_train, y_train,\n",
        "    epochs=10,\n",
        "    batch_size=64,\n",
        "    validation_data=(X_test, y_test),\n",
        "    callbacks=keras.callbacks.EarlyStopping(monitor='val_f1_score_m',\n",
        "                                            patience=5,\n",
        "                                            restore_best_weights=True)\n",
        ")"
      ],
      "metadata": {
        "colab": {
          "base_uri": "https://localhost:8080/"
        },
        "id": "QPm_FYgKPgL1",
        "outputId": "4fb7f30f-4fd6-4299-c0c0-fbf2d0bb3b34"
      },
      "execution_count": 17,
      "outputs": [
        {
          "output_type": "stream",
          "name": "stdout",
          "text": [
            "Epoch 1/10\n",
            "675/675 [==============================] - 8s 7ms/step - loss: 0.5648 - f1_score_m: 0.7151 - val_loss: 0.5082 - val_f1_score_m: 0.7897\n",
            "Epoch 2/10\n",
            "675/675 [==============================] - 4s 6ms/step - loss: 0.4707 - f1_score_m: 0.8059 - val_loss: 0.4638 - val_f1_score_m: 0.7812\n",
            "Epoch 3/10\n",
            "675/675 [==============================] - 5s 7ms/step - loss: 0.4445 - f1_score_m: 0.8169 - val_loss: 0.4427 - val_f1_score_m: 0.8155\n",
            "Epoch 4/10\n",
            "675/675 [==============================] - 7s 10ms/step - loss: 0.4382 - f1_score_m: 0.8182 - val_loss: 0.4399 - val_f1_score_m: 0.8138\n",
            "Epoch 5/10\n",
            "675/675 [==============================] - 3s 5ms/step - loss: 0.4337 - f1_score_m: 0.8205 - val_loss: 0.4373 - val_f1_score_m: 0.8179\n",
            "Epoch 6/10\n",
            "675/675 [==============================] - 4s 5ms/step - loss: 0.4317 - f1_score_m: 0.8218 - val_loss: 0.4448 - val_f1_score_m: 0.8092\n",
            "Epoch 7/10\n",
            "675/675 [==============================] - 4s 5ms/step - loss: 0.4302 - f1_score_m: 0.8203 - val_loss: 0.4376 - val_f1_score_m: 0.8179\n"
          ]
        },
        {
          "output_type": "execute_result",
          "data": {
            "text/plain": [
              "<keras.callbacks.History at 0x7f9f5d175c10>"
            ]
          },
          "metadata": {},
          "execution_count": 17
        }
      ]
    },
    {
      "cell_type": "markdown",
      "source": [
        "# 8. Statistical method for anomaly detection"
      ],
      "metadata": {
        "id": "yK5gFpMLzMOa"
      }
    },
    {
      "cell_type": "code",
      "source": [],
      "metadata": {
        "id": "YL8bwNoYzR9k"
      },
      "execution_count": null,
      "outputs": []
    }
  ]
}