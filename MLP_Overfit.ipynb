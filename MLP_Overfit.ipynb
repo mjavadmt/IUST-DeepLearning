{
  "cells": [
    {
      "cell_type": "markdown",
      "metadata": {
        "id": "2qRMMxyX_P92"
      },
      "source": [
        "# Overfitting Problem\n",
        "#### Here you need to create a model that overfits, then use different methods to avoid it"
      ]
    },
    {
      "cell_type": "markdown",
      "metadata": {
        "id": "P0918l53_P94"
      },
      "source": [
        "### Import libraries"
      ]
    },
    {
      "cell_type": "code",
      "execution_count": null,
      "metadata": {
        "id": "GgTv79CGcaS3"
      },
      "outputs": [],
      "source": [
        "import matplotlib.pyplot as plt\n",
        "import numpy as np\n",
        "from sklearn.model_selection import train_test_split\n",
        "%matplotlib inline"
      ]
    },
    {
      "cell_type": "markdown",
      "metadata": {
        "id": "lBCS_hp9_P95"
      },
      "source": [
        "### Generate Sample Data"
      ]
    },
    {
      "cell_type": "code",
      "execution_count": null,
      "metadata": {
        "id": "GQiA-gDKcdrg"
      },
      "outputs": [],
      "source": [
        "# This function generates random data for 2 different classes\n",
        "\n",
        "# np.random.seed(0xdeadbeef)\n",
        "\n",
        "def make_sample(nexamples, means=([0.,0.],[1.,1.]), sigma=1.):\n",
        "    normal = np.random.multivariate_normal\n",
        "    # squared width:\n",
        "    s2 = sigma**2.\n",
        "    # below, we provide the coordinates of the mean as \n",
        "    # a first argument, and then the covariance matrix\n",
        "    # which describes the width of the Gaussian along the \n",
        "    # two directions.\n",
        "    # we generate nexamples examples for each category\n",
        "    sgx0 = normal(means[0], [[s2, 0.], [0.,s2]], nexamples)\n",
        "    sgx1 = normal(means[1], [[s2, 0.], [0.,s2]], nexamples)\n",
        "    # setting the labels for each category\n",
        "    sgy0 = np.zeros((nexamples,))\n",
        "    sgy1 = np.ones((nexamples,))\n",
        "    sgx = np.concatenate([sgx0,sgx1])\n",
        "    sgy = np.concatenate([sgy0,sgy1])\n",
        "    return sgx, sgy"
      ]
    },
    {
      "cell_type": "code",
      "execution_count": null,
      "metadata": {
        "id": "x56SkqITchGu"
      },
      "outputs": [],
      "source": [
        "# Don't change the number of samples for your first model.\n",
        "# After that (For your second model) you can play with the numbers to see how increasing your dataset helps to avoid overfitting\n",
        "\n",
        "sgx, sgy = make_sample(30)"
      ]
    },
    {
      "cell_type": "code",
      "source": [
        "print(sgy)"
      ],
      "metadata": {
        "colab": {
          "base_uri": "https://localhost:8080/"
        },
        "id": "BEi_vAjpsyd3",
        "outputId": "5b2a5ecc-5e5d-4046-98ac-1317f05fcd4f"
      },
      "execution_count": null,
      "outputs": [
        {
          "output_type": "stream",
          "name": "stdout",
          "text": [
            "[0. 0. 0. 0. 0. 0. 0. 0. 0. 0. 0. 0. 0. 0. 0. 0. 0. 0. 0. 0. 0. 0. 0. 0.\n",
            " 0. 0. 0. 0. 0. 0. 1. 1. 1. 1. 1. 1. 1. 1. 1. 1. 1. 1. 1. 1. 1. 1. 1. 1.\n",
            " 1. 1. 1. 1. 1. 1. 1. 1. 1. 1. 1. 1.]\n"
          ]
        }
      ]
    },
    {
      "cell_type": "code",
      "execution_count": null,
      "metadata": {
        "colab": {
          "base_uri": "https://localhost:8080/",
          "height": 296
        },
        "id": "qATqmk4E_P96",
        "outputId": "4ec7e0de-a2b4-488c-84b3-4207d996ba03"
      },
      "outputs": [
        {
          "output_type": "execute_result",
          "data": {
            "text/plain": [
              "Text(0, 0.5, 'x2')"
            ]
          },
          "metadata": {},
          "execution_count": 6
        },
        {
          "output_type": "display_data",
          "data": {
            "text/plain": [
              "<Figure size 432x288 with 1 Axes>"
            ],
            "image/png": "[encoded data removed]"
          },
          "metadata": {
            "needs_background": "light"
          }
        }
      ],
      "source": [
        "# note how the two categories are plotted\n",
        "# together in one go by providing the \n",
        "# label array as color argument (c=sgy)\n",
        "\n",
        "plt.scatter(sgx[:,0], sgx[:,1], alpha=0.5, c=sgy)\n",
        "plt.xlabel('x1')\n",
        "plt.ylabel('x2')"
      ]
    },
    {
      "cell_type": "markdown",
      "metadata": {
        "id": "pRZ55UxC_P97"
      },
      "source": [
        "### Import Keras"
      ]
    },
    {
      "cell_type": "code",
      "execution_count": null,
      "metadata": {
        "id": "9tIxM1YDcnBx"
      },
      "outputs": [],
      "source": [
        "from keras.models import Sequential\n",
        "from keras.layers import Dense, Activation, Dropout, Input\n",
        "from keras.optimizers import Adam\n",
        "from keras.losses import BinaryCrossentropy\n",
        "import tensorflow as tf\n",
        "from keras.regularizers import l1, l2\n"
      ]
    },
    {
      "cell_type": "markdown",
      "metadata": {
        "id": "p-kkZ_Ir_P98"
      },
      "source": [
        "### Create a model that overfits"
      ]
    },
    {
      "cell_type": "code",
      "execution_count": null,
      "metadata": {
        "id": "aFixbKHA_P98"
      },
      "outputs": [],
      "source": [
        "# Create a Sequential MLP model with these Dense layers:\n",
        "# 3 hidden layers with 50 units each and 'relu' activation\n",
        "# 1 unit output with 'softmax' activation\n",
        "\n",
        "model = Sequential()\n",
        "model.add(Input(shape=(2,)))\n",
        "model.add(Dense(units=50, activation='relu'))\n",
        "model.add(Dense(units=50, activation='relu'))\n",
        "model.add(Dense(units=50, activation='relu'))\n",
        "model.add(Dense(units=1, activation='sigmoid'))\n",
        "########################\n",
        "## PUT YOUR CODE HERE ##\n",
        "########################\n"
      ]
    },
    {
      "cell_type": "code",
      "execution_count": null,
      "metadata": {
        "id": "L63stDJt_P98"
      },
      "outputs": [],
      "source": [
        "# Split your dataset to test and train with your desired implementation\n",
        "# use sklearn.model_selection.train_test_split\n",
        "\n",
        "X_train, X_test, y_train, y_test = train_test_split(sgx, sgy, test_size=0.6)\n",
        "########################\n",
        "## PUT YOUR CODE HERE ##\n",
        "########################"
      ]
    },
    {
      "cell_type": "code",
      "execution_count": null,
      "metadata": {
        "id": "Gwic7jis_P99"
      },
      "outputs": [],
      "source": [
        "# Compile with your desired optimizer and loss function with 'accuracy' as metric\n",
        "# Don't forget to monitor the overfitting, you should take care of val_accuracy and val_loss\n",
        "\n",
        "model.compile(optimizer='rmsprop',\n",
        "              loss=\"binary_crossentropy\",\n",
        "              metrics=['accuracy'])\n",
        "\n",
        "########################\n",
        "## PUT YOUR CODE HERE ##\n",
        "########################"
      ]
    },
    {
      "cell_type": "code",
      "execution_count": null,
      "metadata": {
        "colab": {
          "base_uri": "https://localhost:8080/"
        },
        "id": "tC7T9gIz_P99",
        "outputId": "7d6269ce-58ef-4fb5-ec90-63138af83699"
      },
      "outputs": [
        {
          "output_type": "stream",
          "name": "stdout",
          "text": [
            "Epoch 1/150\n",
            "1/1 [==============================] - 3s 3s/step - loss: 0.6870 - accuracy: 0.5263 - val_loss: 0.5722 - val_accuracy: 0.6000\n",
            "Epoch 2/150\n",
            "1/1 [==============================] - 0s 31ms/step - loss: 0.6666 - accuracy: 0.6842 - val_loss: 0.5573 - val_accuracy: 0.6000\n",
            "Epoch 3/150\n",
            "1/1 [==============================] - 0s 34ms/step - loss: 0.6538 - accuracy: 0.6842 - val_loss: 0.5452 - val_accuracy: 0.6000\n",
            "Epoch 4/150\n",
            "1/1 [==============================] - 0s 31ms/step - loss: 0.6437 - accuracy: 0.7368 - val_loss: 0.5343 - val_accuracy: 0.6000\n",
            "Epoch 5/150\n",
            "1/1 [==============================] - 0s 30ms/step - loss: 0.6352 - accuracy: 0.7368 - val_loss: 0.5312 - val_accuracy: 0.6000\n",
            "Epoch 6/150\n",
            "1/1 [==============================] - 0s 29ms/step - loss: 0.6276 - accuracy: 0.7368 - val_loss: 0.5218 - val_accuracy: 0.6000\n",
            "Epoch 7/150\n",
            "1/1 [==============================] - 0s 30ms/step - loss: 0.6205 - accuracy: 0.7368 - val_loss: 0.5177 - val_accuracy: 0.6000\n",
            "Epoch 8/150\n",
            "1/1 [==============================] - 0s 30ms/step - loss: 0.6141 - accuracy: 0.7368 - val_loss: 0.5093 - val_accuracy: 0.6000\n",
            "Epoch 9/150\n",
            "1/1 [==============================] - 0s 30ms/step - loss: 0.6081 - accuracy: 0.7368 - val_loss: 0.5095 - val_accuracy: 0.6000\n",
            "Epoch 10/150\n",
            "1/1 [==============================] - 0s 28ms/step - loss: 0.6016 - accuracy: 0.7368 - val_loss: 0.5037 - val_accuracy: 0.6000\n",
            "Epoch 11/150\n",
            "1/1 [==============================] - 0s 28ms/step - loss: 0.5953 - accuracy: 0.7368 - val_loss: 0.5023 - val_accuracy: 0.6000\n",
            "Epoch 12/150\n",
            "1/1 [==============================] - 0s 28ms/step - loss: 0.5896 - accuracy: 0.7368 - val_loss: 0.4923 - val_accuracy: 0.6000\n",
            "Epoch 13/150\n",
            "1/1 [==============================] - 0s 30ms/step - loss: 0.5844 - accuracy: 0.7368 - val_loss: 0.4948 - val_accuracy: 0.6000\n",
            "Epoch 14/150\n",
            "1/1 [==============================] - 0s 27ms/step - loss: 0.5785 - accuracy: 0.7368 - val_loss: 0.4881 - val_accuracy: 0.6000\n",
            "Epoch 15/150\n",
            "1/1 [==============================] - 0s 28ms/step - loss: 0.5731 - accuracy: 0.7368 - val_loss: 0.4905 - val_accuracy: 0.6000\n",
            "Epoch 16/150\n",
            "1/1 [==============================] - 0s 33ms/step - loss: 0.5679 - accuracy: 0.7368 - val_loss: 0.4821 - val_accuracy: 0.6000\n",
            "Epoch 17/150\n",
            "1/1 [==============================] - 0s 28ms/step - loss: 0.5629 - accuracy: 0.7368 - val_loss: 0.4856 - val_accuracy: 0.6000\n",
            "Epoch 18/150\n",
            "1/1 [==============================] - 0s 30ms/step - loss: 0.5578 - accuracy: 0.7368 - val_loss: 0.4794 - val_accuracy: 0.6000\n",
            "Epoch 19/150\n",
            "1/1 [==============================] - 0s 29ms/step - loss: 0.5528 - accuracy: 0.7368 - val_loss: 0.4810 - val_accuracy: 0.6000\n",
            "Epoch 20/150\n",
            "1/1 [==============================] - 0s 31ms/step - loss: 0.5482 - accuracy: 0.7368 - val_loss: 0.4755 - val_accuracy: 0.6000\n",
            "Epoch 21/150\n",
            "1/1 [==============================] - 0s 30ms/step - loss: 0.5429 - accuracy: 0.7368 - val_loss: 0.4778 - val_accuracy: 0.6000\n",
            "Epoch 22/150\n",
            "1/1 [==============================] - 0s 29ms/step - loss: 0.5379 - accuracy: 0.7368 - val_loss: 0.4680 - val_accuracy: 0.6000\n",
            "Epoch 23/150\n",
            "1/1 [==============================] - 0s 27ms/step - loss: 0.5332 - accuracy: 0.7368 - val_loss: 0.4737 - val_accuracy: 0.6000\n",
            "Epoch 24/150\n",
            "1/1 [==============================] - 0s 27ms/step - loss: 0.5275 - accuracy: 0.7368 - val_loss: 0.4653 - val_accuracy: 0.6000\n",
            "Epoch 25/150\n",
            "1/1 [==============================] - 0s 28ms/step - loss: 0.5222 - accuracy: 0.7368 - val_loss: 0.4659 - val_accuracy: 0.6000\n",
            "Epoch 26/150\n",
            "1/1 [==============================] - 0s 35ms/step - loss: 0.5176 - accuracy: 0.7368 - val_loss: 0.4613 - val_accuracy: 0.6000\n",
            "Epoch 27/150\n",
            "1/1 [==============================] - 0s 46ms/step - loss: 0.5134 - accuracy: 0.7895 - val_loss: 0.4695 - val_accuracy: 0.6000\n",
            "Epoch 28/150\n",
            "1/1 [==============================] - 0s 29ms/step - loss: 0.5090 - accuracy: 0.7368 - val_loss: 0.4568 - val_accuracy: 0.6000\n",
            "Epoch 29/150\n",
            "1/1 [==============================] - 0s 28ms/step - loss: 0.5044 - accuracy: 0.7895 - val_loss: 0.4658 - val_accuracy: 0.6000\n",
            "Epoch 30/150\n",
            "1/1 [==============================] - 0s 28ms/step - loss: 0.4996 - accuracy: 0.7895 - val_loss: 0.4573 - val_accuracy: 0.6000\n",
            "Epoch 31/150\n",
            "1/1 [==============================] - 0s 28ms/step - loss: 0.4953 - accuracy: 0.7895 - val_loss: 0.4622 - val_accuracy: 0.6000\n",
            "Epoch 32/150\n",
            "1/1 [==============================] - 0s 31ms/step - loss: 0.4905 - accuracy: 0.7895 - val_loss: 0.4541 - val_accuracy: 0.6000\n",
            "Epoch 33/150\n",
            "1/1 [==============================] - 0s 31ms/step - loss: 0.4868 - accuracy: 0.7895 - val_loss: 0.4642 - val_accuracy: 0.6000\n",
            "Epoch 34/150\n",
            "1/1 [==============================] - 0s 29ms/step - loss: 0.4820 - accuracy: 0.7895 - val_loss: 0.4545 - val_accuracy: 0.6000\n",
            "Epoch 35/150\n",
            "1/1 [==============================] - 0s 27ms/step - loss: 0.4779 - accuracy: 0.7895 - val_loss: 0.4599 - val_accuracy: 0.6000\n",
            "Epoch 36/150\n",
            "1/1 [==============================] - 0s 26ms/step - loss: 0.4729 - accuracy: 0.7895 - val_loss: 0.4555 - val_accuracy: 0.6000\n",
            "Epoch 37/150\n",
            "1/1 [==============================] - 0s 27ms/step - loss: 0.4690 - accuracy: 0.7895 - val_loss: 0.4592 - val_accuracy: 0.6000\n",
            "Epoch 38/150\n",
            "1/1 [==============================] - 0s 29ms/step - loss: 0.4644 - accuracy: 0.7895 - val_loss: 0.4563 - val_accuracy: 0.6000\n",
            "Epoch 39/150\n",
            "1/1 [==============================] - 0s 36ms/step - loss: 0.4606 - accuracy: 0.7895 - val_loss: 0.4590 - val_accuracy: 0.6000\n",
            "Epoch 40/150\n",
            "1/1 [==============================] - 0s 29ms/step - loss: 0.4562 - accuracy: 0.7895 - val_loss: 0.4570 - val_accuracy: 0.6000\n",
            "Epoch 41/150\n",
            "1/1 [==============================] - 0s 29ms/step - loss: 0.4525 - accuracy: 0.8421 - val_loss: 0.4651 - val_accuracy: 0.6000\n",
            "Epoch 42/150\n",
            "1/1 [==============================] - 0s 29ms/step - loss: 0.4482 - accuracy: 0.8421 - val_loss: 0.4578 - val_accuracy: 0.6000\n",
            "Epoch 43/150\n",
            "1/1 [==============================] - 0s 27ms/step - loss: 0.4443 - accuracy: 0.8421 - val_loss: 0.4631 - val_accuracy: 0.6000\n",
            "Epoch 44/150\n",
            "1/1 [==============================] - 0s 30ms/step - loss: 0.4398 - accuracy: 0.8421 - val_loss: 0.4612 - val_accuracy: 0.6000\n",
            "Epoch 45/150\n",
            "1/1 [==============================] - 0s 29ms/step - loss: 0.4360 - accuracy: 0.8421 - val_loss: 0.4683 - val_accuracy: 0.6000\n",
            "Epoch 46/150\n",
            "1/1 [==============================] - 0s 31ms/step - loss: 0.4317 - accuracy: 0.8421 - val_loss: 0.4637 - val_accuracy: 0.6000\n",
            "Epoch 47/150\n",
            "1/1 [==============================] - 0s 29ms/step - loss: 0.4278 - accuracy: 0.8421 - val_loss: 0.4728 - val_accuracy: 0.8000\n",
            "Epoch 48/150\n",
            "1/1 [==============================] - 0s 29ms/step - loss: 0.4240 - accuracy: 0.8947 - val_loss: 0.4700 - val_accuracy: 0.6000\n",
            "Epoch 49/150\n",
            "1/1 [==============================] - 0s 29ms/step - loss: 0.4193 - accuracy: 0.8947 - val_loss: 0.4778 - val_accuracy: 0.8000\n",
            "Epoch 50/150\n",
            "1/1 [==============================] - 0s 34ms/step - loss: 0.4155 - accuracy: 0.8947 - val_loss: 0.4704 - val_accuracy: 0.6000\n",
            "Epoch 51/150\n",
            "1/1 [==============================] - 0s 31ms/step - loss: 0.4114 - accuracy: 0.8947 - val_loss: 0.4849 - val_accuracy: 0.8000\n",
            "Epoch 52/150\n",
            "1/1 [==============================] - 0s 31ms/step - loss: 0.4082 - accuracy: 0.8947 - val_loss: 0.4771 - val_accuracy: 0.6000\n",
            "Epoch 53/150\n",
            "1/1 [==============================] - 0s 28ms/step - loss: 0.4033 - accuracy: 0.8947 - val_loss: 0.4889 - val_accuracy: 0.8000\n",
            "Epoch 54/150\n",
            "1/1 [==============================] - 0s 37ms/step - loss: 0.3994 - accuracy: 0.8947 - val_loss: 0.4805 - val_accuracy: 0.8000\n",
            "Epoch 55/150\n",
            "1/1 [==============================] - 0s 28ms/step - loss: 0.3956 - accuracy: 0.8947 - val_loss: 0.4972 - val_accuracy: 0.8000\n",
            "Epoch 56/150\n",
            "1/1 [==============================] - 0s 36ms/step - loss: 0.3915 - accuracy: 0.8947 - val_loss: 0.4869 - val_accuracy: 0.8000\n",
            "Epoch 57/150\n",
            "1/1 [==============================] - 0s 33ms/step - loss: 0.3875 - accuracy: 0.8947 - val_loss: 0.4966 - val_accuracy: 0.8000\n",
            "Epoch 58/150\n",
            "1/1 [==============================] - 0s 30ms/step - loss: 0.3833 - accuracy: 0.8947 - val_loss: 0.4932 - val_accuracy: 0.8000\n",
            "Epoch 59/150\n",
            "1/1 [==============================] - 0s 28ms/step - loss: 0.3795 - accuracy: 0.8947 - val_loss: 0.5063 - val_accuracy: 0.8000\n",
            "Epoch 60/150\n",
            "1/1 [==============================] - 0s 30ms/step - loss: 0.3758 - accuracy: 0.8947 - val_loss: 0.5000 - val_accuracy: 0.8000\n",
            "Epoch 61/150\n",
            "1/1 [==============================] - 0s 30ms/step - loss: 0.3717 - accuracy: 0.8947 - val_loss: 0.5125 - val_accuracy: 0.8000\n",
            "Epoch 62/150\n",
            "1/1 [==============================] - 0s 40ms/step - loss: 0.3680 - accuracy: 0.8947 - val_loss: 0.5037 - val_accuracy: 0.8000\n",
            "Epoch 63/150\n",
            "1/1 [==============================] - 0s 30ms/step - loss: 0.3643 - accuracy: 0.8947 - val_loss: 0.5255 - val_accuracy: 0.8000\n",
            "Epoch 64/150\n",
            "1/1 [==============================] - 0s 30ms/step - loss: 0.3606 - accuracy: 0.8947 - val_loss: 0.5146 - val_accuracy: 0.8000\n",
            "Epoch 65/150\n",
            "1/1 [==============================] - 0s 30ms/step - loss: 0.3565 - accuracy: 0.8947 - val_loss: 0.5249 - val_accuracy: 0.8000\n",
            "Epoch 66/150\n",
            "1/1 [==============================] - 0s 32ms/step - loss: 0.3527 - accuracy: 0.8947 - val_loss: 0.5251 - val_accuracy: 0.8000\n",
            "Epoch 67/150\n",
            "1/1 [==============================] - 0s 34ms/step - loss: 0.3486 - accuracy: 0.8947 - val_loss: 0.5302 - val_accuracy: 0.8000\n",
            "Epoch 68/150\n",
            "1/1 [==============================] - 0s 30ms/step - loss: 0.3449 - accuracy: 0.8947 - val_loss: 0.5319 - val_accuracy: 0.8000\n",
            "Epoch 69/150\n",
            "1/1 [==============================] - 0s 30ms/step - loss: 0.3407 - accuracy: 0.8947 - val_loss: 0.5471 - val_accuracy: 0.8000\n",
            "Epoch 70/150\n",
            "1/1 [==============================] - 0s 29ms/step - loss: 0.3371 - accuracy: 0.8947 - val_loss: 0.5412 - val_accuracy: 0.8000\n",
            "Epoch 71/150\n",
            "1/1 [==============================] - 0s 31ms/step - loss: 0.3330 - accuracy: 0.8947 - val_loss: 0.5580 - val_accuracy: 0.8000\n",
            "Epoch 72/150\n",
            "1/1 [==============================] - 0s 30ms/step - loss: 0.3294 - accuracy: 0.8947 - val_loss: 0.5473 - val_accuracy: 0.8000\n",
            "Epoch 73/150\n",
            "1/1 [==============================] - 0s 31ms/step - loss: 0.3252 - accuracy: 0.8947 - val_loss: 0.5707 - val_accuracy: 0.6000\n",
            "Epoch 74/150\n",
            "1/1 [==============================] - 0s 29ms/step - loss: 0.3224 - accuracy: 0.8947 - val_loss: 0.5579 - val_accuracy: 0.8000\n",
            "Epoch 75/150\n",
            "1/1 [==============================] - 0s 28ms/step - loss: 0.3188 - accuracy: 0.8947 - val_loss: 0.5860 - val_accuracy: 0.6000\n",
            "Epoch 76/150\n",
            "1/1 [==============================] - 0s 28ms/step - loss: 0.3151 - accuracy: 0.8947 - val_loss: 0.5737 - val_accuracy: 0.8000\n",
            "Epoch 77/150\n",
            "1/1 [==============================] - 0s 29ms/step - loss: 0.3111 - accuracy: 0.8947 - val_loss: 0.5839 - val_accuracy: 0.6000\n",
            "Epoch 78/150\n",
            "1/1 [==============================] - 0s 31ms/step - loss: 0.3074 - accuracy: 0.8947 - val_loss: 0.5944 - val_accuracy: 0.6000\n",
            "Epoch 79/150\n",
            "1/1 [==============================] - 0s 30ms/step - loss: 0.3041 - accuracy: 0.8947 - val_loss: 0.5941 - val_accuracy: 0.6000\n",
            "Epoch 80/150\n",
            "1/1 [==============================] - 0s 30ms/step - loss: 0.3004 - accuracy: 0.8947 - val_loss: 0.5918 - val_accuracy: 0.6000\n",
            "Epoch 81/150\n",
            "1/1 [==============================] - 0s 27ms/step - loss: 0.2974 - accuracy: 0.8947 - val_loss: 0.6298 - val_accuracy: 0.6000\n",
            "Epoch 82/150\n",
            "1/1 [==============================] - 0s 43ms/step - loss: 0.2943 - accuracy: 0.9474 - val_loss: 0.6033 - val_accuracy: 0.6000\n",
            "Epoch 83/150\n",
            "1/1 [==============================] - 0s 29ms/step - loss: 0.2914 - accuracy: 0.8947 - val_loss: 0.6512 - val_accuracy: 0.6000\n",
            "Epoch 84/150\n",
            "1/1 [==============================] - 0s 39ms/step - loss: 0.2886 - accuracy: 0.9474 - val_loss: 0.6135 - val_accuracy: 0.6000\n",
            "Epoch 85/150\n",
            "1/1 [==============================] - 0s 29ms/step - loss: 0.2851 - accuracy: 0.8947 - val_loss: 0.6678 - val_accuracy: 0.6000\n",
            "Epoch 86/150\n",
            "1/1 [==============================] - 0s 29ms/step - loss: 0.2824 - accuracy: 0.9474 - val_loss: 0.6373 - val_accuracy: 0.6000\n",
            "Epoch 87/150\n",
            "1/1 [==============================] - 0s 27ms/step - loss: 0.2787 - accuracy: 0.8947 - val_loss: 0.6571 - val_accuracy: 0.6000\n",
            "Epoch 88/150\n",
            "1/1 [==============================] - 0s 28ms/step - loss: 0.2753 - accuracy: 0.9474 - val_loss: 0.6432 - val_accuracy: 0.6000\n",
            "Epoch 89/150\n",
            "1/1 [==============================] - 0s 28ms/step - loss: 0.2725 - accuracy: 0.8947 - val_loss: 0.6782 - val_accuracy: 0.6000\n",
            "Epoch 90/150\n",
            "1/1 [==============================] - 0s 27ms/step - loss: 0.2698 - accuracy: 0.9474 - val_loss: 0.6524 - val_accuracy: 0.6000\n",
            "Epoch 91/150\n",
            "1/1 [==============================] - 0s 27ms/step - loss: 0.2669 - accuracy: 0.8947 - val_loss: 0.7060 - val_accuracy: 0.6000\n",
            "Epoch 92/150\n",
            "1/1 [==============================] - 0s 28ms/step - loss: 0.2642 - accuracy: 0.9474 - val_loss: 0.6624 - val_accuracy: 0.6000\n",
            "Epoch 93/150\n",
            "1/1 [==============================] - 0s 30ms/step - loss: 0.2610 - accuracy: 0.8947 - val_loss: 0.7113 - val_accuracy: 0.6000\n",
            "Epoch 94/150\n",
            "1/1 [==============================] - 0s 34ms/step - loss: 0.2584 - accuracy: 0.8947 - val_loss: 0.6713 - val_accuracy: 0.6000\n",
            "Epoch 95/150\n",
            "1/1 [==============================] - 0s 29ms/step - loss: 0.2548 - accuracy: 0.8947 - val_loss: 0.7344 - val_accuracy: 0.6000\n",
            "Epoch 96/150\n",
            "1/1 [==============================] - 0s 30ms/step - loss: 0.2523 - accuracy: 0.9474 - val_loss: 0.6941 - val_accuracy: 0.6000\n",
            "Epoch 97/150\n",
            "1/1 [==============================] - 0s 29ms/step - loss: 0.2493 - accuracy: 0.9474 - val_loss: 0.7249 - val_accuracy: 0.6000\n",
            "Epoch 98/150\n",
            "1/1 [==============================] - 0s 28ms/step - loss: 0.2473 - accuracy: 0.9474 - val_loss: 0.6969 - val_accuracy: 0.6000\n",
            "Epoch 99/150\n",
            "1/1 [==============================] - 0s 36ms/step - loss: 0.2452 - accuracy: 0.8947 - val_loss: 0.7517 - val_accuracy: 0.6000\n",
            "Epoch 100/150\n",
            "1/1 [==============================] - 0s 29ms/step - loss: 0.2427 - accuracy: 0.8947 - val_loss: 0.7002 - val_accuracy: 0.6000\n",
            "Epoch 101/150\n",
            "1/1 [==============================] - 0s 29ms/step - loss: 0.2405 - accuracy: 0.9474 - val_loss: 0.7758 - val_accuracy: 0.6000\n",
            "Epoch 102/150\n",
            "1/1 [==============================] - 0s 47ms/step - loss: 0.2384 - accuracy: 0.8947 - val_loss: 0.7128 - val_accuracy: 0.6000\n",
            "Epoch 103/150\n",
            "1/1 [==============================] - 0s 31ms/step - loss: 0.2354 - accuracy: 0.9474 - val_loss: 0.7905 - val_accuracy: 0.6000\n",
            "Epoch 104/150\n",
            "1/1 [==============================] - 0s 28ms/step - loss: 0.2337 - accuracy: 0.9474 - val_loss: 0.7408 - val_accuracy: 0.6000\n",
            "Epoch 105/150\n",
            "1/1 [==============================] - 0s 26ms/step - loss: 0.2307 - accuracy: 0.9474 - val_loss: 0.7719 - val_accuracy: 0.6000\n",
            "Epoch 106/150\n",
            "1/1 [==============================] - 0s 27ms/step - loss: 0.2285 - accuracy: 0.9474 - val_loss: 0.7359 - val_accuracy: 0.6000\n",
            "Epoch 107/150\n",
            "1/1 [==============================] - 0s 31ms/step - loss: 0.2269 - accuracy: 0.9474 - val_loss: 0.8257 - val_accuracy: 0.6000\n",
            "Epoch 108/150\n",
            "1/1 [==============================] - 0s 30ms/step - loss: 0.2257 - accuracy: 0.8947 - val_loss: 0.7532 - val_accuracy: 0.6000\n",
            "Epoch 109/150\n",
            "1/1 [==============================] - 0s 35ms/step - loss: 0.2229 - accuracy: 0.9474 - val_loss: 0.8132 - val_accuracy: 0.6000\n",
            "Epoch 110/150\n",
            "1/1 [==============================] - 0s 32ms/step - loss: 0.2211 - accuracy: 0.8947 - val_loss: 0.7563 - val_accuracy: 0.6000\n",
            "Epoch 111/150\n",
            "1/1 [==============================] - 0s 29ms/step - loss: 0.2194 - accuracy: 0.9474 - val_loss: 0.8527 - val_accuracy: 0.6000\n",
            "Epoch 112/150\n",
            "1/1 [==============================] - 0s 28ms/step - loss: 0.2180 - accuracy: 0.8947 - val_loss: 0.7771 - val_accuracy: 0.6000\n",
            "Epoch 113/150\n",
            "1/1 [==============================] - 0s 29ms/step - loss: 0.2158 - accuracy: 0.9474 - val_loss: 0.8292 - val_accuracy: 0.6000\n",
            "Epoch 114/150\n",
            "1/1 [==============================] - 0s 30ms/step - loss: 0.2134 - accuracy: 0.9474 - val_loss: 0.7718 - val_accuracy: 0.6000\n",
            "Epoch 115/150\n",
            "1/1 [==============================] - 0s 35ms/step - loss: 0.2117 - accuracy: 0.9474 - val_loss: 0.8715 - val_accuracy: 0.6000\n",
            "Epoch 116/150\n",
            "1/1 [==============================] - 0s 28ms/step - loss: 0.2105 - accuracy: 0.9474 - val_loss: 0.7949 - val_accuracy: 0.6000\n",
            "Epoch 117/150\n",
            "1/1 [==============================] - 0s 28ms/step - loss: 0.2085 - accuracy: 0.9474 - val_loss: 0.8650 - val_accuracy: 0.6000\n",
            "Epoch 118/150\n",
            "1/1 [==============================] - 0s 35ms/step - loss: 0.2075 - accuracy: 0.9474 - val_loss: 0.7888 - val_accuracy: 0.6000\n",
            "Epoch 119/150\n",
            "1/1 [==============================] - 0s 29ms/step - loss: 0.2058 - accuracy: 0.9474 - val_loss: 0.9116 - val_accuracy: 0.4000\n",
            "Epoch 120/150\n",
            "1/1 [==============================] - 0s 29ms/step - loss: 0.2047 - accuracy: 0.8947 - val_loss: 0.8136 - val_accuracy: 0.6000\n",
            "Epoch 121/150\n",
            "1/1 [==============================] - 0s 31ms/step - loss: 0.2025 - accuracy: 0.9474 - val_loss: 0.8880 - val_accuracy: 0.6000\n",
            "Epoch 122/150\n",
            "1/1 [==============================] - 0s 30ms/step - loss: 0.2011 - accuracy: 0.9474 - val_loss: 0.8164 - val_accuracy: 0.6000\n",
            "Epoch 123/150\n",
            "1/1 [==============================] - 0s 30ms/step - loss: 0.1991 - accuracy: 0.9474 - val_loss: 0.8790 - val_accuracy: 0.6000\n",
            "Epoch 124/150\n",
            "1/1 [==============================] - 0s 30ms/step - loss: 0.1979 - accuracy: 0.9474 - val_loss: 0.8153 - val_accuracy: 0.6000\n",
            "Epoch 125/150\n",
            "1/1 [==============================] - 0s 30ms/step - loss: 0.1964 - accuracy: 0.9474 - val_loss: 0.9133 - val_accuracy: 0.4000\n",
            "Epoch 126/150\n",
            "1/1 [==============================] - 0s 30ms/step - loss: 0.1954 - accuracy: 0.9474 - val_loss: 0.8254 - val_accuracy: 0.6000\n",
            "Epoch 127/150\n",
            "1/1 [==============================] - 0s 29ms/step - loss: 0.1939 - accuracy: 0.9474 - val_loss: 0.9298 - val_accuracy: 0.4000\n",
            "Epoch 128/150\n",
            "1/1 [==============================] - 0s 30ms/step - loss: 0.1928 - accuracy: 0.9474 - val_loss: 0.8332 - val_accuracy: 0.6000\n",
            "Epoch 129/150\n",
            "1/1 [==============================] - 0s 32ms/step - loss: 0.1916 - accuracy: 0.9474 - val_loss: 0.9418 - val_accuracy: 0.4000\n",
            "Epoch 130/150\n",
            "1/1 [==============================] - 0s 30ms/step - loss: 0.1909 - accuracy: 0.8947 - val_loss: 0.8358 - val_accuracy: 0.6000\n",
            "Epoch 131/150\n",
            "1/1 [==============================] - 0s 29ms/step - loss: 0.1890 - accuracy: 0.9474 - val_loss: 0.9141 - val_accuracy: 0.6000\n",
            "Epoch 132/150\n",
            "1/1 [==============================] - 0s 29ms/step - loss: 0.1870 - accuracy: 0.9474 - val_loss: 0.8442 - val_accuracy: 0.6000\n",
            "Epoch 133/150\n",
            "1/1 [==============================] - 0s 29ms/step - loss: 0.1850 - accuracy: 0.9474 - val_loss: 0.9473 - val_accuracy: 0.4000\n",
            "Epoch 134/150\n",
            "1/1 [==============================] - 0s 33ms/step - loss: 0.1840 - accuracy: 0.9474 - val_loss: 0.8724 - val_accuracy: 0.6000\n",
            "Epoch 135/150\n",
            "1/1 [==============================] - 0s 30ms/step - loss: 0.1825 - accuracy: 0.9474 - val_loss: 0.9335 - val_accuracy: 0.6000\n",
            "Epoch 136/150\n",
            "1/1 [==============================] - 0s 29ms/step - loss: 0.1816 - accuracy: 0.9474 - val_loss: 0.8562 - val_accuracy: 0.6000\n",
            "Epoch 137/150\n",
            "1/1 [==============================] - 0s 37ms/step - loss: 0.1804 - accuracy: 0.9474 - val_loss: 0.9776 - val_accuracy: 0.4000\n",
            "Epoch 138/150\n",
            "1/1 [==============================] - 0s 31ms/step - loss: 0.1798 - accuracy: 0.9474 - val_loss: 0.8628 - val_accuracy: 0.6000\n",
            "Epoch 139/150\n",
            "1/1 [==============================] - 0s 32ms/step - loss: 0.1787 - accuracy: 0.9474 - val_loss: 0.9865 - val_accuracy: 0.4000\n",
            "Epoch 140/150\n",
            "1/1 [==============================] - 0s 30ms/step - loss: 0.1788 - accuracy: 0.9474 - val_loss: 0.8540 - val_accuracy: 0.6000\n",
            "Epoch 141/150\n",
            "1/1 [==============================] - 0s 27ms/step - loss: 0.1771 - accuracy: 0.9474 - val_loss: 0.9889 - val_accuracy: 0.4000\n",
            "Epoch 142/150\n",
            "1/1 [==============================] - 0s 31ms/step - loss: 0.1755 - accuracy: 0.9474 - val_loss: 0.8769 - val_accuracy: 0.6000\n",
            "Epoch 143/150\n",
            "1/1 [==============================] - 0s 29ms/step - loss: 0.1737 - accuracy: 0.9474 - val_loss: 0.9811 - val_accuracy: 0.4000\n",
            "Epoch 144/150\n",
            "1/1 [==============================] - 0s 30ms/step - loss: 0.1728 - accuracy: 0.9474 - val_loss: 0.8829 - val_accuracy: 0.6000\n",
            "Epoch 145/150\n",
            "1/1 [==============================] - 0s 29ms/step - loss: 0.1707 - accuracy: 0.9474 - val_loss: 0.9511 - val_accuracy: 0.6000\n",
            "Epoch 146/150\n",
            "1/1 [==============================] - 0s 28ms/step - loss: 0.1695 - accuracy: 0.9474 - val_loss: 0.8824 - val_accuracy: 0.6000\n",
            "Epoch 147/150\n",
            "1/1 [==============================] - 0s 31ms/step - loss: 0.1685 - accuracy: 0.9474 - val_loss: 1.0099 - val_accuracy: 0.4000\n",
            "Epoch 148/150\n",
            "1/1 [==============================] - 0s 29ms/step - loss: 0.1686 - accuracy: 0.9474 - val_loss: 0.8917 - val_accuracy: 0.6000\n",
            "Epoch 149/150\n",
            "1/1 [==============================] - 0s 28ms/step - loss: 0.1668 - accuracy: 0.9474 - val_loss: 0.9922 - val_accuracy: 0.4000\n",
            "Epoch 150/150\n",
            "1/1 [==============================] - 0s 29ms/step - loss: 0.1667 - accuracy: 0.9474 - val_loss: 0.8783 - val_accuracy: 0.6000\n"
          ]
        }
      ],
      "source": [
        "# Start training and fit your model with desired parameters and validation_split=0.2\n",
        "\n",
        "########################\n",
        "history = model.fit(X_train, y_train, validation_split=0.2, epochs=150)\n",
        "########################"
      ]
    },
    {
      "cell_type": "markdown",
      "metadata": {
        "id": "Pmw87jMJ_P9-"
      },
      "source": [
        "### Plot Your Results"
      ]
    },
    {
      "cell_type": "code",
      "execution_count": null,
      "metadata": {
        "colab": {
          "base_uri": "https://localhost:8080/",
          "height": 545
        },
        "id": "134UziWRQQ2x",
        "outputId": "4a04cecd-b86e-41cb-ff5b-3d6ed276809d"
      },
      "outputs": [
        {
          "output_type": "display_data",
          "data": {
            "text/plain": [
              "<Figure size 432x288 with 1 Axes>"
            ],
            "image/png": "[encoded data removed]"
          },
          "metadata": {
            "needs_background": "light"
          }
        },
        {
          "output_type": "display_data",
          "data": {
            "text/plain": [
              "<Figure size 432x288 with 1 Axes>"
            ],
            "image/png": "[encoded data removed]"
          },
          "metadata": {
            "needs_background": "light"
          }
        }
      ],
      "source": [
        "import matplotlib.pyplot as plt\n",
        "acc = history.history['accuracy']\n",
        "val_acc = history.history['val_accuracy']\n",
        "loss = history.history['loss']\n",
        "val_loss = history.history['val_loss']\n",
        "\n",
        "epochs = range(len(acc))\n",
        "\n",
        "plt.plot(epochs, acc, 'r', label='Training accuracy')\n",
        "plt.plot(epochs, val_acc, 'b', label='Validation accuracy')\n",
        "plt.title('Training and validation accuracy')\n",
        "plt.legend()\n",
        "\n",
        "plt.figure()\n",
        "\n",
        "plt.plot(epochs, loss, 'r', label='Training Loss')\n",
        "plt.plot(epochs, val_loss, 'b', label='Validation Loss')\n",
        "plt.title('Training and validation loss')\n",
        "plt.legend()\n",
        "\n",
        "plt.show()"
      ]
    },
    {
      "cell_type": "markdown",
      "metadata": {
        "id": "9gb10Xt9_P9_"
      },
      "source": [
        "### Evaluate your model"
      ]
    },
    {
      "cell_type": "code",
      "execution_count": null,
      "metadata": {
        "colab": {
          "base_uri": "https://localhost:8080/"
        },
        "id": "WMzZjed3ei39",
        "outputId": "3570ff95-0bb4-43b3-83d1-1bb19c4636a9"
      },
      "outputs": [
        {
          "output_type": "stream",
          "name": "stdout",
          "text": [
            "1/1 [==============================] - 0s 23ms/step - loss: 0.3140 - accuracy: 0.8750\n",
            "train evaluation : [0.3140222430229187, 0.875]\n",
            "2/2 [==============================] - 0s 7ms/step - loss: 1.1651 - accuracy: 0.5833\n",
            "test evaluation : [1.1651369333267212, 0.5833333134651184]\n"
          ]
        }
      ],
      "source": [
        "# Evaluate your model with train and test data\n",
        "\n",
        "print(f\"train evaluation : {model.evaluate(X_train, y_train)}\")\n",
        "\n",
        "print(f\"test evaluation : {model.evaluate(X_test, y_test)}\")\n",
        "########################\n",
        "## PUT YOUR CODE HERE ##\n",
        "########################"
      ]
    },
    {
      "cell_type": "markdown",
      "metadata": {
        "id": "KOtWY-EX_P9_"
      },
      "source": [
        "# Now you need to use your knowledge and methods (Regularization, Dropout, etc) to prevent overfitting and then evaluate and compare your results"
      ]
    },
    {
      "cell_type": "code",
      "source": [
        "sgx, sgy = make_sample(30)\n",
        "\n",
        "X_train, X_test, y_train, y_test = train_test_split(sgx, sgy, test_size=0.2, shuffle=True)\n"
      ],
      "metadata": {
        "id": "f3BbV7QmmMHL"
      },
      "execution_count": null,
      "outputs": []
    },
    {
      "cell_type": "code",
      "source": [
        "model_without_overfit = Sequential()\n",
        "model.add(Input(shape=(2,)))\n",
        "model_without_overfit.add(Dense(units=32, activation='relu', kernel_regularizer=l2(0.05), bias_regularizer=l2(0.05)))\n",
        "model_without_overfit.add(Dropout(0.1))\n",
        "model_without_overfit.add(Dense(units=32, activation='relu', kernel_regularizer=l2(0.05), bias_regularizer=l2(0.05)))\n",
        "model_without_overfit.add(Dropout(0.3))\n",
        "model_without_overfit.add(Dense(units=1, activation='sigmoid'))"
      ],
      "metadata": {
        "id": "BzsIkdu3e0ef"
      },
      "execution_count": null,
      "outputs": []
    },
    {
      "cell_type": "code",
      "source": [
        "from keras.callbacks import EarlyStopping\n",
        "\n",
        "\n",
        "es_loss = EarlyStopping(monitor='val_loss', mode='min', patience=5)\n",
        "\n",
        "model_without_overfit.compile(optimizer='rmsprop',\n",
        "              loss=\"binary_crossentropy\",\n",
        "              metrics=['accuracy'],\n",
        "              )\n",
        "\n",
        "history = model_without_overfit.fit(X_train, y_train, validation_split=0.3, epochs=100, callbacks=[es_loss])"
      ],
      "metadata": {
        "colab": {
          "base_uri": "https://localhost:8080/"
        },
        "id": "W6c3vqI6lCe5",
        "outputId": "70b1d102-9fd4-48c6-d668-6a615acc067d"
      },
      "execution_count": null,
      "outputs": [
        {
          "output_type": "stream",
          "name": "stdout",
          "text": [
            "Epoch 1/100\n",
            "2/2 [==============================] - 1s 193ms/step - loss: 2.5210 - accuracy: 0.3939 - val_loss: 2.4080 - val_accuracy: 0.4667\n",
            "Epoch 2/100\n",
            "2/2 [==============================] - 0s 44ms/step - loss: 2.4696 - accuracy: 0.4848 - val_loss: 2.3460 - val_accuracy: 0.4667\n",
            "Epoch 3/100\n",
            "2/2 [==============================] - 0s 26ms/step - loss: 2.3558 - accuracy: 0.4848 - val_loss: 2.3028 - val_accuracy: 0.4667\n",
            "Epoch 4/100\n",
            "2/2 [==============================] - 0s 25ms/step - loss: 2.3346 - accuracy: 0.4545 - val_loss: 2.2607 - val_accuracy: 0.4667\n",
            "Epoch 5/100\n",
            "2/2 [==============================] - 0s 24ms/step - loss: 2.2811 - accuracy: 0.5152 - val_loss: 2.2087 - val_accuracy: 0.4667\n",
            "Epoch 6/100\n",
            "2/2 [==============================] - 0s 26ms/step - loss: 2.2462 - accuracy: 0.5455 - val_loss: 2.1699 - val_accuracy: 0.4667\n",
            "Epoch 7/100\n",
            "2/2 [==============================] - 0s 26ms/step - loss: 2.1702 - accuracy: 0.5758 - val_loss: 2.1396 - val_accuracy: 0.4667\n",
            "Epoch 8/100\n",
            "2/2 [==============================] - 0s 24ms/step - loss: 2.1960 - accuracy: 0.4848 - val_loss: 2.1014 - val_accuracy: 0.4667\n",
            "Epoch 9/100\n",
            "2/2 [==============================] - 0s 25ms/step - loss: 2.1681 - accuracy: 0.4545 - val_loss: 2.0726 - val_accuracy: 0.4667\n",
            "Epoch 10/100\n",
            "2/2 [==============================] - 0s 24ms/step - loss: 2.1160 - accuracy: 0.5758 - val_loss: 2.0417 - val_accuracy: 0.4667\n",
            "Epoch 11/100\n",
            "2/2 [==============================] - 0s 25ms/step - loss: 2.1174 - accuracy: 0.4848 - val_loss: 2.0116 - val_accuracy: 0.4667\n",
            "Epoch 12/100\n",
            "2/2 [==============================] - 0s 24ms/step - loss: 2.0731 - accuracy: 0.5758 - val_loss: 1.9916 - val_accuracy: 0.4667\n",
            "Epoch 13/100\n",
            "2/2 [==============================] - 0s 30ms/step - loss: 2.0482 - accuracy: 0.4848 - val_loss: 1.9595 - val_accuracy: 0.4667\n",
            "Epoch 14/100\n",
            "2/2 [==============================] - 0s 26ms/step - loss: 1.9857 - accuracy: 0.6364 - val_loss: 1.9401 - val_accuracy: 0.4667\n",
            "Epoch 15/100\n",
            "2/2 [==============================] - 0s 26ms/step - loss: 2.0066 - accuracy: 0.4545 - val_loss: 1.9160 - val_accuracy: 0.4667\n",
            "Epoch 16/100\n",
            "2/2 [==============================] - 0s 26ms/step - loss: 1.9578 - accuracy: 0.5152 - val_loss: 1.8971 - val_accuracy: 0.5333\n",
            "Epoch 17/100\n",
            "2/2 [==============================] - 0s 27ms/step - loss: 1.9567 - accuracy: 0.6667 - val_loss: 1.8670 - val_accuracy: 0.5333\n",
            "Epoch 18/100\n",
            "2/2 [==============================] - 0s 27ms/step - loss: 1.9291 - accuracy: 0.6667 - val_loss: 1.8412 - val_accuracy: 0.6000\n",
            "Epoch 19/100\n",
            "2/2 [==============================] - 0s 26ms/step - loss: 1.9078 - accuracy: 0.5758 - val_loss: 1.8264 - val_accuracy: 0.6667\n",
            "Epoch 20/100\n",
            "2/2 [==============================] - 0s 28ms/step - loss: 1.8890 - accuracy: 0.6364 - val_loss: 1.8004 - val_accuracy: 0.6667\n",
            "Epoch 21/100\n",
            "2/2 [==============================] - 0s 24ms/step - loss: 1.8191 - accuracy: 0.6667 - val_loss: 1.7759 - val_accuracy: 0.6000\n",
            "Epoch 22/100\n",
            "2/2 [==============================] - 0s 25ms/step - loss: 1.8228 - accuracy: 0.6667 - val_loss: 1.7556 - val_accuracy: 0.7333\n",
            "Epoch 23/100\n",
            "2/2 [==============================] - 0s 24ms/step - loss: 1.8298 - accuracy: 0.6364 - val_loss: 1.7295 - val_accuracy: 0.7333\n",
            "Epoch 24/100\n",
            "2/2 [==============================] - 0s 25ms/step - loss: 1.7940 - accuracy: 0.6364 - val_loss: 1.7081 - val_accuracy: 0.8000\n",
            "Epoch 25/100\n",
            "2/2 [==============================] - 0s 25ms/step - loss: 1.7658 - accuracy: 0.6970 - val_loss: 1.6890 - val_accuracy: 0.8000\n",
            "Epoch 26/100\n",
            "2/2 [==============================] - 0s 23ms/step - loss: 1.7747 - accuracy: 0.6364 - val_loss: 1.6680 - val_accuracy: 0.8000\n",
            "Epoch 27/100\n",
            "2/2 [==============================] - 0s 23ms/step - loss: 1.7353 - accuracy: 0.6364 - val_loss: 1.6490 - val_accuracy: 0.8000\n",
            "Epoch 28/100\n",
            "2/2 [==============================] - 0s 24ms/step - loss: 1.7227 - accuracy: 0.5455 - val_loss: 1.6233 - val_accuracy: 0.8000\n",
            "Epoch 29/100\n",
            "2/2 [==============================] - 0s 27ms/step - loss: 1.7103 - accuracy: 0.6667 - val_loss: 1.6115 - val_accuracy: 0.8667\n",
            "Epoch 30/100\n",
            "2/2 [==============================] - 0s 26ms/step - loss: 1.6669 - accuracy: 0.7576 - val_loss: 1.5919 - val_accuracy: 0.8667\n",
            "Epoch 31/100\n",
            "2/2 [==============================] - 0s 27ms/step - loss: 1.6747 - accuracy: 0.6970 - val_loss: 1.5679 - val_accuracy: 0.8667\n",
            "Epoch 32/100\n",
            "2/2 [==============================] - 0s 26ms/step - loss: 1.6490 - accuracy: 0.7273 - val_loss: 1.5489 - val_accuracy: 0.8667\n",
            "Epoch 33/100\n",
            "2/2 [==============================] - 0s 27ms/step - loss: 1.6157 - accuracy: 0.7273 - val_loss: 1.5229 - val_accuracy: 0.8667\n",
            "Epoch 34/100\n",
            "2/2 [==============================] - 0s 25ms/step - loss: 1.5810 - accuracy: 0.7576 - val_loss: 1.5093 - val_accuracy: 0.8667\n",
            "Epoch 35/100\n",
            "2/2 [==============================] - 0s 24ms/step - loss: 1.5762 - accuracy: 0.7576 - val_loss: 1.4940 - val_accuracy: 0.9333\n",
            "Epoch 36/100\n",
            "2/2 [==============================] - 0s 29ms/step - loss: 1.5403 - accuracy: 0.7273 - val_loss: 1.4748 - val_accuracy: 0.9333\n",
            "Epoch 37/100\n",
            "2/2 [==============================] - 0s 27ms/step - loss: 1.5540 - accuracy: 0.7273 - val_loss: 1.4630 - val_accuracy: 0.9333\n",
            "Epoch 38/100\n",
            "2/2 [==============================] - 0s 26ms/step - loss: 1.5203 - accuracy: 0.7576 - val_loss: 1.4412 - val_accuracy: 0.9333\n",
            "Epoch 39/100\n",
            "2/2 [==============================] - 0s 27ms/step - loss: 1.5087 - accuracy: 0.8182 - val_loss: 1.4223 - val_accuracy: 0.9333\n",
            "Epoch 40/100\n",
            "2/2 [==============================] - 0s 25ms/step - loss: 1.5048 - accuracy: 0.7273 - val_loss: 1.4080 - val_accuracy: 0.9333\n",
            "Epoch 41/100\n",
            "2/2 [==============================] - 0s 29ms/step - loss: 1.4895 - accuracy: 0.7879 - val_loss: 1.3978 - val_accuracy: 0.9333\n",
            "Epoch 42/100\n",
            "2/2 [==============================] - 0s 26ms/step - loss: 1.4885 - accuracy: 0.7576 - val_loss: 1.3843 - val_accuracy: 0.9333\n",
            "Epoch 43/100\n",
            "2/2 [==============================] - 0s 26ms/step - loss: 1.4524 - accuracy: 0.8182 - val_loss: 1.3645 - val_accuracy: 0.9333\n",
            "Epoch 44/100\n",
            "2/2 [==============================] - 0s 28ms/step - loss: 1.4237 - accuracy: 0.7273 - val_loss: 1.3450 - val_accuracy: 0.9333\n",
            "Epoch 45/100\n",
            "2/2 [==============================] - 0s 25ms/step - loss: 1.4162 - accuracy: 0.7576 - val_loss: 1.3250 - val_accuracy: 0.9333\n",
            "Epoch 46/100\n",
            "2/2 [==============================] - 0s 30ms/step - loss: 1.3879 - accuracy: 0.7879 - val_loss: 1.3066 - val_accuracy: 0.9333\n",
            "Epoch 47/100\n",
            "2/2 [==============================] - 0s 26ms/step - loss: 1.3883 - accuracy: 0.7576 - val_loss: 1.2879 - val_accuracy: 0.9333\n",
            "Epoch 48/100\n",
            "2/2 [==============================] - 0s 25ms/step - loss: 1.3699 - accuracy: 0.7273 - val_loss: 1.2736 - val_accuracy: 0.9333\n",
            "Epoch 49/100\n",
            "2/2 [==============================] - 0s 25ms/step - loss: 1.3761 - accuracy: 0.7576 - val_loss: 1.2571 - val_accuracy: 0.9333\n",
            "Epoch 50/100\n",
            "2/2 [==============================] - 0s 27ms/step - loss: 1.3286 - accuracy: 0.7273 - val_loss: 1.2427 - val_accuracy: 0.9333\n",
            "Epoch 51/100\n",
            "2/2 [==============================] - 0s 23ms/step - loss: 1.3168 - accuracy: 0.8182 - val_loss: 1.2229 - val_accuracy: 0.9333\n",
            "Epoch 52/100\n",
            "2/2 [==============================] - 0s 24ms/step - loss: 1.3116 - accuracy: 0.7576 - val_loss: 1.2109 - val_accuracy: 0.9333\n",
            "Epoch 53/100\n",
            "2/2 [==============================] - 0s 24ms/step - loss: 1.2972 - accuracy: 0.8182 - val_loss: 1.1940 - val_accuracy: 0.9333\n",
            "Epoch 54/100\n",
            "2/2 [==============================] - 0s 43ms/step - loss: 1.3036 - accuracy: 0.7273 - val_loss: 1.1795 - val_accuracy: 0.9333\n",
            "Epoch 55/100\n",
            "2/2 [==============================] - 0s 25ms/step - loss: 1.2432 - accuracy: 0.7879 - val_loss: 1.1616 - val_accuracy: 0.9333\n",
            "Epoch 56/100\n",
            "2/2 [==============================] - 0s 26ms/step - loss: 1.2449 - accuracy: 0.7879 - val_loss: 1.1470 - val_accuracy: 0.9333\n",
            "Epoch 57/100\n",
            "2/2 [==============================] - 0s 25ms/step - loss: 1.2234 - accuracy: 0.8182 - val_loss: 1.1312 - val_accuracy: 0.9333\n",
            "Epoch 58/100\n",
            "2/2 [==============================] - 0s 24ms/step - loss: 1.2239 - accuracy: 0.7879 - val_loss: 1.1182 - val_accuracy: 0.9333\n",
            "Epoch 59/100\n",
            "2/2 [==============================] - 0s 24ms/step - loss: 1.2075 - accuracy: 0.8182 - val_loss: 1.1071 - val_accuracy: 0.9333\n",
            "Epoch 60/100\n",
            "2/2 [==============================] - 0s 25ms/step - loss: 1.1996 - accuracy: 0.7879 - val_loss: 1.0910 - val_accuracy: 0.9333\n",
            "Epoch 61/100\n",
            "2/2 [==============================] - 0s 25ms/step - loss: 1.1922 - accuracy: 0.8485 - val_loss: 1.0795 - val_accuracy: 0.9333\n",
            "Epoch 62/100\n",
            "2/2 [==============================] - 0s 25ms/step - loss: 1.1585 - accuracy: 0.7576 - val_loss: 1.0654 - val_accuracy: 0.9333\n",
            "Epoch 63/100\n",
            "2/2 [==============================] - 0s 27ms/step - loss: 1.1713 - accuracy: 0.7576 - val_loss: 1.0495 - val_accuracy: 0.9333\n",
            "Epoch 64/100\n",
            "2/2 [==============================] - 0s 30ms/step - loss: 1.1978 - accuracy: 0.6970 - val_loss: 1.0357 - val_accuracy: 0.9333\n",
            "Epoch 65/100\n",
            "2/2 [==============================] - 0s 26ms/step - loss: 1.1215 - accuracy: 0.7879 - val_loss: 1.0258 - val_accuracy: 0.9333\n",
            "Epoch 66/100\n",
            "2/2 [==============================] - 0s 27ms/step - loss: 1.1395 - accuracy: 0.7576 - val_loss: 1.0182 - val_accuracy: 0.9333\n",
            "Epoch 67/100\n",
            "2/2 [==============================] - 0s 29ms/step - loss: 1.1070 - accuracy: 0.7879 - val_loss: 1.0050 - val_accuracy: 0.9333\n",
            "Epoch 68/100\n",
            "2/2 [==============================] - 0s 24ms/step - loss: 1.0982 - accuracy: 0.8182 - val_loss: 0.9918 - val_accuracy: 0.9333\n",
            "Epoch 69/100\n",
            "2/2 [==============================] - 0s 27ms/step - loss: 1.1000 - accuracy: 0.7576 - val_loss: 0.9787 - val_accuracy: 0.9333\n",
            "Epoch 70/100\n",
            "2/2 [==============================] - 0s 26ms/step - loss: 1.0655 - accuracy: 0.8182 - val_loss: 0.9668 - val_accuracy: 0.9333\n",
            "Epoch 71/100\n",
            "2/2 [==============================] - 0s 26ms/step - loss: 1.0806 - accuracy: 0.7576 - val_loss: 0.9564 - val_accuracy: 0.9333\n",
            "Epoch 72/100\n",
            "2/2 [==============================] - 0s 27ms/step - loss: 1.0832 - accuracy: 0.7576 - val_loss: 0.9495 - val_accuracy: 0.9333\n",
            "Epoch 73/100\n",
            "2/2 [==============================] - 0s 28ms/step - loss: 1.0571 - accuracy: 0.7273 - val_loss: 0.9376 - val_accuracy: 0.9333\n",
            "Epoch 74/100\n",
            "2/2 [==============================] - 0s 29ms/step - loss: 1.0257 - accuracy: 0.7879 - val_loss: 0.9260 - val_accuracy: 0.9333\n",
            "Epoch 75/100\n",
            "2/2 [==============================] - 0s 26ms/step - loss: 1.0321 - accuracy: 0.7576 - val_loss: 0.9142 - val_accuracy: 0.9333\n",
            "Epoch 76/100\n",
            "2/2 [==============================] - 0s 31ms/step - loss: 1.0259 - accuracy: 0.7576 - val_loss: 0.9079 - val_accuracy: 0.9333\n",
            "Epoch 77/100\n",
            "2/2 [==============================] - 0s 26ms/step - loss: 0.9985 - accuracy: 0.7879 - val_loss: 0.8974 - val_accuracy: 0.9333\n",
            "Epoch 78/100\n",
            "2/2 [==============================] - 0s 25ms/step - loss: 1.0070 - accuracy: 0.7273 - val_loss: 0.8856 - val_accuracy: 0.9333\n",
            "Epoch 79/100\n",
            "2/2 [==============================] - 0s 24ms/step - loss: 1.0174 - accuracy: 0.7879 - val_loss: 0.8759 - val_accuracy: 0.9333\n",
            "Epoch 80/100\n",
            "2/2 [==============================] - 0s 27ms/step - loss: 0.9870 - accuracy: 0.7879 - val_loss: 0.8667 - val_accuracy: 0.9333\n",
            "Epoch 81/100\n",
            "2/2 [==============================] - 0s 27ms/step - loss: 0.9772 - accuracy: 0.7576 - val_loss: 0.8558 - val_accuracy: 0.9333\n",
            "Epoch 82/100\n",
            "2/2 [==============================] - 0s 26ms/step - loss: 0.9603 - accuracy: 0.7576 - val_loss: 0.8508 - val_accuracy: 0.9333\n",
            "Epoch 83/100\n",
            "2/2 [==============================] - 0s 26ms/step - loss: 0.9488 - accuracy: 0.7879 - val_loss: 0.8406 - val_accuracy: 0.9333\n",
            "Epoch 84/100\n",
            "2/2 [==============================] - 0s 26ms/step - loss: 0.9551 - accuracy: 0.7576 - val_loss: 0.8350 - val_accuracy: 0.9333\n",
            "Epoch 85/100\n",
            "2/2 [==============================] - 0s 27ms/step - loss: 0.9554 - accuracy: 0.7576 - val_loss: 0.8301 - val_accuracy: 0.9333\n",
            "Epoch 86/100\n",
            "2/2 [==============================] - 0s 34ms/step - loss: 0.9666 - accuracy: 0.7879 - val_loss: 0.8216 - val_accuracy: 0.9333\n",
            "Epoch 87/100\n",
            "2/2 [==============================] - 0s 25ms/step - loss: 0.9020 - accuracy: 0.7879 - val_loss: 0.8129 - val_accuracy: 0.9333\n",
            "Epoch 88/100\n",
            "2/2 [==============================] - 0s 32ms/step - loss: 0.9215 - accuracy: 0.7576 - val_loss: 0.8047 - val_accuracy: 0.9333\n",
            "Epoch 89/100\n",
            "2/2 [==============================] - 0s 27ms/step - loss: 0.9080 - accuracy: 0.8182 - val_loss: 0.8006 - val_accuracy: 1.0000\n",
            "Epoch 90/100\n",
            "2/2 [==============================] - 0s 26ms/step - loss: 0.9047 - accuracy: 0.7273 - val_loss: 0.7963 - val_accuracy: 0.9333\n",
            "Epoch 91/100\n",
            "2/2 [==============================] - 0s 27ms/step - loss: 0.9062 - accuracy: 0.7576 - val_loss: 0.7882 - val_accuracy: 0.9333\n",
            "Epoch 92/100\n",
            "2/2 [==============================] - 0s 27ms/step - loss: 0.8874 - accuracy: 0.7273 - val_loss: 0.7785 - val_accuracy: 0.9333\n",
            "Epoch 93/100\n",
            "2/2 [==============================] - 0s 25ms/step - loss: 0.8730 - accuracy: 0.7879 - val_loss: 0.7691 - val_accuracy: 0.9333\n",
            "Epoch 94/100\n",
            "2/2 [==============================] - 0s 28ms/step - loss: 0.8918 - accuracy: 0.7576 - val_loss: 0.7594 - val_accuracy: 0.9333\n",
            "Epoch 95/100\n",
            "2/2 [==============================] - 0s 26ms/step - loss: 0.8743 - accuracy: 0.7576 - val_loss: 0.7513 - val_accuracy: 0.9333\n",
            "Epoch 96/100\n",
            "2/2 [==============================] - 0s 29ms/step - loss: 0.8543 - accuracy: 0.7273 - val_loss: 0.7434 - val_accuracy: 0.9333\n",
            "Epoch 97/100\n",
            "2/2 [==============================] - 0s 26ms/step - loss: 0.8446 - accuracy: 0.7273 - val_loss: 0.7399 - val_accuracy: 0.9333\n",
            "Epoch 98/100\n",
            "2/2 [==============================] - 0s 24ms/step - loss: 0.8596 - accuracy: 0.7273 - val_loss: 0.7386 - val_accuracy: 1.0000\n",
            "Epoch 99/100\n",
            "2/2 [==============================] - 0s 26ms/step - loss: 0.8745 - accuracy: 0.7879 - val_loss: 0.7328 - val_accuracy: 1.0000\n",
            "Epoch 100/100\n",
            "2/2 [==============================] - 0s 25ms/step - loss: 0.8370 - accuracy: 0.7576 - val_loss: 0.7297 - val_accuracy: 1.0000\n"
          ]
        }
      ]
    },
    {
      "cell_type": "code",
      "source": [
        "import matplotlib.pyplot as plt\n",
        "acc = history.history['accuracy']\n",
        "val_acc = history.history['val_accuracy']\n",
        "loss = history.history['loss']\n",
        "val_loss = history.history['val_loss']\n",
        "\n",
        "epochs = range(len(acc))\n",
        "\n",
        "plt.plot(epochs, acc, 'r', label='Training accuracy')\n",
        "plt.plot(epochs, val_acc, 'b', label='Validation accuracy')\n",
        "plt.title('Training and validation accuracy')\n",
        "plt.legend()\n",
        "\n",
        "plt.figure()\n",
        "\n",
        "plt.plot(epochs, loss, 'r', label='Training Loss')\n",
        "plt.plot(epochs, val_loss, 'b', label='Validation Loss')\n",
        "plt.title('Training and validation loss')\n",
        "plt.legend()\n",
        "\n",
        "plt.show()"
      ],
      "metadata": {
        "colab": {
          "base_uri": "https://localhost:8080/",
          "height": 545
        },
        "id": "P_-0TgfPldyR",
        "outputId": "4d5c0215-ad40-41fa-e9d0-fc9bced9714e"
      },
      "execution_count": null,
      "outputs": [
        {
          "output_type": "display_data",
          "data": {
            "text/plain": [
              "<Figure size 432x288 with 1 Axes>"
            ],
            "image/png": "[encoded data removed]"
          },
          "metadata": {
            "needs_background": "light"
          }
        },
        {
          "output_type": "display_data",
          "data": {
            "text/plain": [
              "<Figure size 432x288 with 1 Axes>"
            ],
            "image/png": "[encoded data removed]"
          },
          "metadata": {
            "needs_background": "light"
          }
        }
      ]
    },
    {
      "cell_type": "code",
      "source": [
        "from sklearn.model_selection import KFold\n",
        "\n",
        "kfold = KFold(n_splits=4, shuffle=True)\n",
        "\n",
        "best_model = Sequential()\n",
        "best_model.add(Dense(units=32, activation='relu', kernel_regularizer=l2(0.05), bias_regularizer=l2(0.05)))\n",
        "best_model.add(Dropout(0.1))\n",
        "best_model.add(Dense(units=32, activation='relu', kernel_regularizer=l2(0.05), bias_regularizer=l2(0.05)))\n",
        "best_model.add(Dropout(0.3))\n",
        "best_model.add(Dense(units=1, activation='sigmoid'))\n",
        "\n",
        "best_model.compile(optimizer='rmsprop',\n",
        "              loss=\"binary_crossentropy\",\n",
        "              metrics=['accuracy'],\n",
        "              )\n",
        "\n",
        "curr_fold = 1\n",
        "for train, test in kfold.split(X_train, y_train):\n",
        "\n",
        "  es_loss = EarlyStopping(monitor='val_loss', mode='min', patience=10)\n",
        "\n",
        "  history = best_model.fit(X_train, y_train, validation_split=0.3, epochs=100, callbacks=[es_loss], verbose=0)\n",
        "\n",
        "  print(f\"fold : {curr_fold}\")\n",
        "\n",
        "  print(f\"train evaluation : {best_model.evaluate(X_train, y_train)}\")\n",
        "\n",
        "  print(f\"test evaluation : {best_model.evaluate(X_test, y_test)}\")\n",
        "\n",
        "  print(\"-\" * 100)\n",
        "\n",
        "  curr_fold += 1"
      ],
      "metadata": {
        "colab": {
          "base_uri": "https://localhost:8080/"
        },
        "id": "-bVZ_I1plvk8",
        "outputId": "389dbb5b-4d5b-41b5-a3ee-5779ad9dc7be"
      },
      "execution_count": null,
      "outputs": [
        {
          "output_type": "stream",
          "name": "stdout",
          "text": [
            "fold : 1\n",
            "2/2 [==============================] - 0s 11ms/step - loss: 0.8206 - accuracy: 0.8542\n",
            "train evaluation : [0.8206451535224915, 0.8541666865348816]\n",
            "1/1 [==============================] - 0s 57ms/step - loss: 0.7923 - accuracy: 0.7500\n",
            "test evaluation : [0.7923110127449036, 0.75]\n",
            "----------------------------------------------------------------------------------------------------\n",
            "fold : 2\n",
            "2/2 [==============================] - 0s 9ms/step - loss: 0.5830 - accuracy: 0.8333\n",
            "train evaluation : [0.583027720451355, 0.8333333134651184]\n",
            "1/1 [==============================] - 0s 22ms/step - loss: 0.5719 - accuracy: 0.9167\n",
            "test evaluation : [0.5719218850135803, 0.9166666865348816]\n",
            "----------------------------------------------------------------------------------------------------\n",
            "fold : 3\n",
            "2/2 [==============================] - 0s 8ms/step - loss: 0.5265 - accuracy: 0.8750\n",
            "train evaluation : [0.5265281200408936, 0.875]\n",
            "1/1 [==============================] - 0s 20ms/step - loss: 0.5254 - accuracy: 0.9167\n",
            "test evaluation : [0.5254135727882385, 0.9166666865348816]\n",
            "----------------------------------------------------------------------------------------------------\n",
            "fold : 4\n",
            "2/2 [==============================] - 0s 7ms/step - loss: 0.5194 - accuracy: 0.8750\n",
            "train evaluation : [0.5194306969642639, 0.875]\n",
            "1/1 [==============================] - 0s 18ms/step - loss: 0.5171 - accuracy: 0.9167\n",
            "test evaluation : [0.5170531868934631, 0.9166666865348816]\n",
            "----------------------------------------------------------------------------------------------------\n"
          ]
        }
      ]
    },
    {
      "cell_type": "code",
      "source": [],
      "metadata": {
        "id": "TR3Fv8ujpOEd"
      },
      "execution_count": null,
      "outputs": []
    }
  ],
  "metadata": {
    "colab": {
      "provenance": []
    },
    "kernelspec": {
      "display_name": "Python 3.10.4 64-bit",
      "language": "python",
      "name": "python3"
    },
    "language_info": {
      "codemirror_mode": {
        "name": "ipython",
        "version": 3
      },
      "file_extension": ".py",
      "mimetype": "text/x-python",
      "name": "python",
      "nbconvert_exporter": "python",
      "pygments_lexer": "ipython3",
      "version": "3.10.4"
    },
    "vscode": {
      "interpreter": {
        "hash": "4ee546d62f846516ddb8e27534e16a3e95e555642571b21ccffd475d8dbd5c7d"
      }
    },
    "accelerator": "GPU",
    "gpuClass": "standard"
  },
  "nbformat": 4,
  "nbformat_minor": 0
}