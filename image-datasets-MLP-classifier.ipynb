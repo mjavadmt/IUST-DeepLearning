{
  "cells": [
    {
      "cell_type": "markdown",
      "metadata": {
        "id": "g7uk8yWkokGr"
      },
      "source": [
        "# Dataset\n",
        "https://www.tensorflow.org/api_docs/python/tf/keras/datasets"
      ]
    },
    {
      "cell_type": "code",
      "execution_count": 1,
      "metadata": {
        "id": "nVALD1hFofRY"
      },
      "outputs": [],
      "source": [
        "from tensorflow.keras import datasets\n",
        "from tensorflow.keras.utils import to_categorical\n",
        "import matplotlib.pyplot as plt\n",
        "import numpy as np"
      ]
    },
    {
      "cell_type": "markdown",
      "metadata": {
        "id": "gWTHXi1ep0we"
      },
      "source": [
        "## MNIST\n",
        "https://www.tensorflow.org/api_docs/python/tf/keras/datasets/mnist/load_data"
      ]
    },
    {
      "cell_type": "markdown",
      "metadata": {
        "id": "EkSbYJzHym6E"
      },
      "source": [
        "### Loading dataset and Coverting labels to categorical form\n",
        "https://www.tensorflow.org/api_docs/python/tf/keras/utils/to_categorical"
      ]
    },
    {
      "cell_type": "code",
      "execution_count": 2,
      "metadata": {
        "colab": {
          "base_uri": "https://localhost:8080/"
        },
        "id": "G_QUf-nTpNLP",
        "outputId": "c15095ff-ac8a-45b6-f5a2-c1618ef685d3"
      },
      "outputs": [],
      "source": [
        "(x_train_1, y_train_1), (x_test_1, y_test_1) = datasets.mnist.load_data()\n",
        "y_train_1 = to_categorical(y_train_1, num_classes=10)\n",
        "y_test_1 = to_categorical(y_test_1, num_classes=10)"
      ]
    },
    {
      "cell_type": "markdown",
      "metadata": {
        "id": "AsBhGMkvyFGN"
      },
      "source": [
        "### Train and Test data shapes"
      ]
    },
    {
      "cell_type": "code",
      "execution_count": null,
      "metadata": {
        "id": "jVvjb6sLph_z",
        "outputId": "6d1e94e2-7b45-4f3f-ccf4-33a8cc27998e"
      },
      "outputs": [
        {
          "name": "stdout",
          "output_type": "stream",
          "text": [
            "(60000, 28, 28)\n",
            "(60000, 10)\n"
          ]
        }
      ],
      "source": [
        "print(x_train_1.shape)\n",
        "print(y_train_1.shape)"
      ]
    },
    {
      "cell_type": "code",
      "execution_count": 43,
      "metadata": {},
      "outputs": [
        {
          "name": "stdout",
          "output_type": "stream",
          "text": [
            "(28, 28)\n"
          ]
        }
      ],
      "source": [
        "print(x_test_1[0].shape)"
      ]
    },
    {
      "cell_type": "code",
      "execution_count": null,
      "metadata": {
        "id": "NygMmPNZpqk6",
        "outputId": "a028d339-d7f9-4d91-ff3c-61b7300f1cb0"
      },
      "outputs": [
        {
          "name": "stdout",
          "output_type": "stream",
          "text": [
            "(10000, 28, 28)\n",
            "(10000, 10)\n"
          ]
        }
      ],
      "source": [
        "print(x_test_1.shape)\n",
        "print(y_test_1.shape)"
      ]
    },
    {
      "cell_type": "markdown",
      "metadata": {
        "id": "ueAuBtxtzBk3"
      },
      "source": [
        "### Showing one the dataset examples"
      ]
    },
    {
      "cell_type": "code",
      "execution_count": null,
      "metadata": {
        "id": "06kEayfrqgzM",
        "outputId": "939752c0-6a45-4282-c18e-fe0c840261bb"
      },
      "outputs": [
        {
          "data": {
            "text/plain": [
              "<matplotlib.image.AxesImage at 0x1d5e004eeb0>"
            ]
          },
          "execution_count": 5,
          "metadata": {},
          "output_type": "execute_result"
        },
        {
          "data": {
            "image/png": "[encoded data removed]",
            "text/plain": [
              "<Figure size 432x288 with 1 Axes>"
            ]
          },
          "metadata": {
            "needs_background": "light",
            "transient": {}
          },
          "output_type": "display_data"
        }
      ],
      "source": [
        "index = 0\n",
        "fig, (ax1) = plt.subplots(1, 1)\n",
        "ax1.imshow(x_train_1[index])"
      ]
    },
    {
      "cell_type": "markdown",
      "metadata": {
        "id": "7YwcmtmXp-yS"
      },
      "source": [
        "## CIFAR-10\n",
        "https://www.tensorflow.org/api_docs/python/tf/keras/datasets/cifar10/load_data"
      ]
    },
    {
      "cell_type": "markdown",
      "metadata": {
        "id": "hi48RVaKz6yM"
      },
      "source": [
        "### Loading dataset and Coverting labels to categorical form\n",
        "https://www.tensorflow.org/api_docs/python/tf/keras/utils/to_categorical"
      ]
    },
    {
      "cell_type": "code",
      "execution_count": 3,
      "metadata": {
        "colab": {
          "base_uri": "https://localhost:8080/"
        },
        "id": "xQxtIuqhpwwL",
        "outputId": "18f9ca30-1fc4-467b-c698-7b995badd5cd"
      },
      "outputs": [],
      "source": [
        "(x_train_2, y_train_2), (x_test_2, y_test_2) = datasets.cifar10.load_data()\n",
        "y_train_2 = to_categorical(y_train_2, num_classes=10)\n",
        "y_test_2 = to_categorical(y_test_2, num_classes=10)"
      ]
    },
    {
      "cell_type": "markdown",
      "metadata": {
        "id": "W8YHQHg00Oq0"
      },
      "source": [
        "### Train and Test data shapes"
      ]
    },
    {
      "cell_type": "code",
      "execution_count": null,
      "metadata": {
        "id": "0oCJRo-EqKfp",
        "outputId": "80a09cda-2bee-44f8-cb23-c2ff55977ab5"
      },
      "outputs": [
        {
          "name": "stdout",
          "output_type": "stream",
          "text": [
            "(50000, 32, 32, 3)\n",
            "(50000, 10)\n"
          ]
        }
      ],
      "source": [
        "print(x_train_2.shape)\n",
        "print(y_train_2.shape)"
      ]
    },
    {
      "cell_type": "code",
      "execution_count": null,
      "metadata": {
        "id": "DbOirP-PqNu2",
        "outputId": "5bca8f11-260a-4339-ebdd-36ab92ff447f"
      },
      "outputs": [
        {
          "name": "stdout",
          "output_type": "stream",
          "text": [
            "(10000, 32, 32, 3)\n",
            "(10000, 10)\n"
          ]
        }
      ],
      "source": [
        "print(x_test_2.shape)\n",
        "print(y_test_2.shape)"
      ]
    },
    {
      "cell_type": "markdown",
      "metadata": {
        "id": "JGRbv3Tx0VRh"
      },
      "source": [
        "### Showing one the dataset examples"
      ]
    },
    {
      "cell_type": "code",
      "execution_count": null,
      "metadata": {
        "id": "PRDPVOAmqQjE",
        "outputId": "e41276f8-4529-41f7-ab39-d67243be6916"
      },
      "outputs": [
        {
          "data": {
            "text/plain": [
              "<matplotlib.image.AxesImage at 0x1d5e57c4df0>"
            ]
          },
          "execution_count": 9,
          "metadata": {},
          "output_type": "execute_result"
        },
        {
          "data": {
            "image/png": "[encoded data removed]",
            "text/plain": [
              "<Figure size 432x288 with 1 Axes>"
            ]
          },
          "metadata": {
            "needs_background": "light",
            "transient": {}
          },
          "output_type": "display_data"
        }
      ],
      "source": [
        "index = 4\n",
        "fig, (ax1) = plt.subplots(1, 1)\n",
        "ax1.imshow(x_train_2[index])"
      ]
    },
    {
      "cell_type": "markdown",
      "metadata": {
        "id": "G-xQLrD2rX_D"
      },
      "source": [
        "## FER-2013\n",
        "learn more about FER-2013 dataset:\n",
        "https://www.kaggle.com/datasets/msambare/fer2013"
      ]
    },
    {
      "cell_type": "code",
      "execution_count": 4,
      "metadata": {
        "id": "kmX6SFoFrd_i"
      },
      "outputs": [],
      "source": [
        "# !wget -N -q \"https://raw.githubusercontent.com/nikomadol/datasets/main/FER-2013/archive.zip\"\n",
        "# !unzip -n -q archive.zip\n",
        "train_dir = './train/'\n",
        "test_dir = './test/'"
      ]
    },
    {
      "cell_type": "markdown",
      "metadata": {
        "id": "MgvUdeSesHz6"
      },
      "source": [
        "### Image Data Generator\n",
        "https://www.tensorflow.org/api_docs/python/tf/keras/preprocessing/image/ImageDataGenerator"
      ]
    },
    {
      "cell_type": "code",
      "execution_count": 5,
      "metadata": {
        "id": "x1jTAJBtt_1l"
      },
      "outputs": [],
      "source": [
        "from tensorflow.keras.preprocessing.image import ImageDataGenerator"
      ]
    },
    {
      "cell_type": "markdown",
      "metadata": {
        "id": "NONacoWyQLt6"
      },
      "source": [
        "#### Create Image Data Generator for Train and Test sets"
      ]
    },
    {
      "cell_type": "code",
      "execution_count": 6,
      "metadata": {
        "id": "ibsA5aaqr643"
      },
      "outputs": [],
      "source": [
        "train_datagen = ImageDataGenerator(\n",
        "    rescale=1./255,\n",
        "    zoom_range=0.3,\n",
        "    horizontal_flip=True,\n",
        "    vertical_flip=False,\n",
        "    validation_split=0.2,\n",
        ")\n",
        "\n",
        "test_datagen = ImageDataGenerator(rescale=1./255)"
      ]
    },
    {
      "cell_type": "markdown",
      "metadata": {
        "id": "pbDqvW_SQ4th"
      },
      "source": [
        "#### Use **.flow_from_directory(directory)** to read Train and Test sets"
      ]
    },
    {
      "cell_type": "code",
      "execution_count": 7,
      "metadata": {
        "id": "iiGZmiR7tFe5",
        "outputId": "1b351055-33f4-4e8e-f6a3-ca48e5532cfc"
      },
      "outputs": [
        {
          "name": "stdout",
          "output_type": "stream",
          "text": [
            "Found 28709 images belonging to 7 classes.\n",
            "Found 7178 images belonging to 7 classes.\n"
          ]
        }
      ],
      "source": [
        "train_set = train_datagen.flow_from_directory(\n",
        "    train_dir,\n",
        "    batch_size=64,\n",
        "    target_size=(48, 48),\n",
        "    # shuffle=True,\n",
        "    color_mode='grayscale',\n",
        "    class_mode='categorical',\n",
        ")\n",
        "\n",
        "test_set = test_datagen.flow_from_directory(\n",
        "    test_dir,\n",
        "    batch_size=64,\n",
        "    target_size=(48, 48),\n",
        "    # shuffle=True,\n",
        "    color_mode='grayscale',\n",
        "    class_mode='categorical',\n",
        ")"
      ]
    },
    {
      "cell_type": "code",
      "execution_count": null,
      "metadata": {
        "id": "cS-22-lZuQRD",
        "outputId": "bf41466d-6622-417b-ec6b-58d2ddecdd50"
      },
      "outputs": [
        {
          "name": "stdout",
          "output_type": "stream",
          "text": [
            "<keras.preprocessing.image.DirectoryIterator object at 0x0000020C201FFDC0>\n",
            "<keras.preprocessing.image.DirectoryIterator object at 0x0000020C201FF1C0>\n"
          ]
        }
      ],
      "source": [
        "print(train_set)\n",
        "print(test_set)"
      ]
    },
    {
      "cell_type": "markdown",
      "metadata": {
        "id": "VIVa8A4Oun6c"
      },
      "source": [
        "# Model\n",
        "https://www.tensorflow.org/api_docs/python/tf/keras/models\n",
        "\n",
        "https://www.tensorflow.org/api_docs/python/tf/keras/layers\n"
      ]
    },
    {
      "cell_type": "code",
      "execution_count": 8,
      "metadata": {
        "id": "JYhftIS6wH4h"
      },
      "outputs": [],
      "source": [
        "from tensorflow.keras import layers\r\n",
        "from tensorflow.keras.utils import plot_model"
      ]
    },
    {
      "cell_type": "markdown",
      "metadata": {
        "id": "_d0F574OviHF"
      },
      "source": [
        "## Sequential\n",
        "https://www.tensorflow.org/guide/keras/sequential_model"
      ]
    },
    {
      "cell_type": "code",
      "execution_count": 9,
      "metadata": {
        "id": "k1-msOy3vdZd"
      },
      "outputs": [],
      "source": [
        "from tensorflow.keras.models import Sequential\r\n",
        "from tensorflow import keras"
      ]
    },
    {
      "cell_type": "code",
      "execution_count": 23,
      "metadata": {
        "id": "CJQZG6AAvs70"
      },
      "outputs": [],
      "source": [
        "model_temp_1 = Sequential()\r\n",
        "\r\n",
        "# Input Layer\r\n",
        "model_temp_1.add(layers.Input(shape=(50, 50)))\r\n",
        "model_temp_1.add(layers.Flatten())\r\n",
        "\r\n",
        "# Hidden Layer\r\n",
        "model_temp_1.add(layers.Dense(128))\r\n",
        "model_temp_1.add(layers.Activation('relu'))\r\n",
        "\r\n",
        "# Output Layer\r\n",
        "model_temp_1.add(layers.Dense(5))\r\n",
        "model_temp_1.add(layers.Activation('softmax'))"
      ]
    },
    {
      "cell_type": "markdown",
      "metadata": {
        "id": "wh621fXMUaYR"
      },
      "source": [
        "### Model Summary\n",
        "https://www.tensorflow.org/js/guide/models_and_layers#model_summary"
      ]
    },
    {
      "cell_type": "code",
      "execution_count": 24,
      "metadata": {
        "colab": {
          "base_uri": "https://localhost:8080/"
        },
        "id": "4UnIk6sGxLNh",
        "outputId": "b22d8115-2ac6-43cf-b0f9-0f1a82b19b9b"
      },
      "outputs": [
        {
          "name": "stdout",
          "output_type": "stream",
          "text": [
            "Model: \"sequential_1\"\n",
            "_________________________________________________________________\n",
            " Layer (type)                Output Shape              Param #   \n",
            "=================================================================\n",
            " flatten_3 (Flatten)         (None, 2500)              0         \n",
            "                                                                 \n",
            " dense_6 (Dense)             (None, 128)               320128    \n",
            "                                                                 \n",
            " activation_4 (Activation)   (None, 128)               0         \n",
            "                                                                 \n",
            " dense_7 (Dense)             (None, 5)                 645       \n",
            "                                                                 \n",
            " activation_5 (Activation)   (None, 5)                 0         \n",
            "                                                                 \n",
            "=================================================================\n",
            "Total params: 320,773\n",
            "Trainable params: 320,773\n",
            "Non-trainable params: 0\n",
            "_________________________________________________________________\n"
          ]
        }
      ],
      "source": [
        "model_temp_1.summary()"
      ]
    },
    {
      "cell_type": "markdown",
      "metadata": {
        "id": "5cLKoVBwWoab"
      },
      "source": [
        "### Plotting Model and Save it as **structure_1.png**\n",
        "https://www.tensorflow.org/api_docs/python/tf/keras/utils/plot_model "
      ]
    },
    {
      "cell_type": "code",
      "execution_count": 25,
      "metadata": {
        "colab": {
          "base_uri": "https://localhost:8080/",
          "height": 422
        },
        "id": "SyCzEMRYxLMC",
        "outputId": "8f38094c-3ce3-4496-8bf7-dd626e3037db"
      },
      "outputs": [
        {
          "data": {
            "image/png": "[encoded data removed]",
            "text/plain": "<IPython.core.display.Image object>"
          },
          "execution_count": 25,
          "metadata": {},
          "output_type": "execute_result"
        }
      ],
      "source": [
        "plot_model(\n",
        "    model_temp_1,\n",
        "    to_file=\"structure_1.png\",\n",
        "    show_shapes=True,\n",
        "    show_layer_names=True,\n",
        ")"
      ]
    },
    {
      "cell_type": "markdown",
      "metadata": {
        "id": "a3fGzxhuvlmB"
      },
      "source": [
        "## Functional API \n",
        "https://www.tensorflow.org/guide/keras/functional"
      ]
    },
    {
      "cell_type": "code",
      "execution_count": 12,
      "metadata": {
        "id": "zJf3UzRzvqAX"
      },
      "outputs": [],
      "source": [
        "from tensorflow.keras.models import Model"
      ]
    },
    {
      "cell_type": "code",
      "execution_count": 13,
      "metadata": {
        "id": "issu4z2mzlpD"
      },
      "outputs": [],
      "source": [
        "def model_factory(input_shape, num_classes):\n",
        "    # Input Layer\n",
        "    input = layers.Input(shape=input_shape)\n",
        "    x = layers.Flatten()(input)\n",
        "\n",
        "    # Hidden Layer\n",
        "    x = layers.Dense(128)(x)\n",
        "    x = layers.Activation('relu')(x)\n",
        "\n",
        "    # Output Layer\n",
        "    x = layers.Dense(num_classes)(x)\n",
        "    output = layers.Activation('softmax')(x)\n",
        "\n",
        "    return Model(inputs=input, outputs=output)"
      ]
    },
    {
      "cell_type": "code",
      "execution_count": 14,
      "metadata": {
        "id": "cyiFUQEx1DPw"
      },
      "outputs": [],
      "source": [
        "model_template_2 = model_factory(\r\n",
        "    input_shape=(50, 50),\r\n",
        "    num_classes=5,\r\n",
        ")"
      ]
    },
    {
      "cell_type": "markdown",
      "metadata": {
        "id": "fryM17I8YqmD"
      },
      "source": [
        "### Model Summary"
      ]
    },
    {
      "cell_type": "code",
      "execution_count": 15,
      "metadata": {
        "id": "ZdHqhV1W1P_6"
      },
      "outputs": [
        {
          "name": "stdout",
          "output_type": "stream",
          "text": [
            "Model: \"model\"\n",
            "_________________________________________________________________\n",
            " Layer (type)                Output Shape              Param #   \n",
            "=================================================================\n",
            " input_2 (InputLayer)        [(None, 50, 50)]          0         \n",
            "                                                                 \n",
            " flatten_1 (Flatten)         (None, 2500)              0         \n",
            "                                                                 \n",
            " dense_2 (Dense)             (None, 128)               320128    \n",
            "                                                                 \n",
            " activation (Activation)     (None, 128)               0         \n",
            "                                                                 \n",
            " dense_3 (Dense)             (None, 5)                 645       \n",
            "                                                                 \n",
            " activation_1 (Activation)   (None, 5)                 0         \n",
            "                                                                 \n",
            "=================================================================\n",
            "Total params: 320,773\n",
            "Trainable params: 320,773\n",
            "Non-trainable params: 0\n",
            "_________________________________________________________________\n"
          ]
        }
      ],
      "source": [
        "model_template_2.summary()"
      ]
    },
    {
      "cell_type": "markdown",
      "metadata": {
        "id": "Il7CnnQfYtFB"
      },
      "source": [
        "### Plotting Model and Save it as **structure_2.png**"
      ]
    },
    {
      "cell_type": "code",
      "execution_count": 16,
      "metadata": {
        "id": "hsAMlz221RCb"
      },
      "outputs": [
        {
          "data": {
            "image/png": "[encoded data removed]",
            "text/plain": "<IPython.core.display.Image object>"
          },
          "execution_count": 16,
          "metadata": {},
          "output_type": "execute_result"
        }
      ],
      "source": [
        "plot_model(\n",
        "    model_template_2,\n",
        "    to_file=\"structure_2.png\",\n",
        "    show_shapes=True,\n",
        "    show_layer_names=True,\n",
        ")"
      ]
    },
    {
      "cell_type": "markdown",
      "metadata": {
        "id": "X_k-PnIx7JTi"
      },
      "source": [
        "## Optimizers and Loss\n",
        "https://www.tensorflow.org/api_docs/python/tf/keras/optimizers/SGD\n",
        "\n",
        "https://www.tensorflow.org/api_docs/python/tf/keras/losses"
      ]
    },
    {
      "cell_type": "code",
      "execution_count": 18,
      "metadata": {
        "id": "Ibu8V5AB7Rrb"
      },
      "outputs": [],
      "source": [
        "from tensorflow.keras.optimizers import SGD"
      ]
    },
    {
      "cell_type": "code",
      "execution_count": 19,
      "metadata": {
        "id": "jd4JS7mX7P69"
      },
      "outputs": [],
      "source": [
        "sgd_optimizer = SGD(\r\n",
        "    learning_rate=0.01,\r\n",
        "    momentum=0.0,\r\n",
        ")\r\n",
        "\r\n",
        "loss = 'categorical_crossentropy'"
      ]
    },
    {
      "cell_type": "markdown",
      "metadata": {
        "id": "p52dlnj645YI"
      },
      "source": [
        "## Compile, Fit and Evaluation\n",
        "https://www.tensorflow.org/api_docs/python/tf/keras/Model#compile\n",
        "\n",
        "https://www.tensorflow.org/api_docs/python/tf/keras/Model#fit\n",
        "\n",
        "https://www.tensorflow.org/api_docs/python/tf/keras/Model#evaluate\n",
        "\n",
        "https://keras.io/api/models/model_training_apis/#predict-method"
      ]
    },
    {
      "cell_type": "markdown",
      "metadata": {
        "id": "Qj97C2Ie6d49"
      },
      "source": [
        "### MNIST"
      ]
    },
    {
      "cell_type": "code",
      "execution_count": 50,
      "metadata": {
        "id": "geDiiuHU47VI"
      },
      "outputs": [
        {
          "name": "stdout",
          "output_type": "stream",
          "text": [
            "Epoch 1/5\n",
            "750/750 [==============================] - 1s 2ms/step - loss: 43.9981 - accuracy: 0.3039 - val_loss: 1.6166 - val_accuracy: 0.4074\n",
            "Epoch 2/5\n",
            "750/750 [==============================] - 1s 2ms/step - loss: 1.5296 - accuracy: 0.4728 - val_loss: 1.2734 - val_accuracy: 0.6152\n",
            "Epoch 3/5\n",
            "750/750 [==============================] - 1s 2ms/step - loss: 1.3618 - accuracy: 0.5304 - val_loss: 1.3316 - val_accuracy: 0.5195\n",
            "Epoch 4/5\n",
            "750/750 [==============================] - 1s 2ms/step - loss: 1.3191 - accuracy: 0.5421 - val_loss: 1.2469 - val_accuracy: 0.5657\n",
            "Epoch 5/5\n",
            "750/750 [==============================] - 1s 1ms/step - loss: 1.2748 - accuracy: 0.5526 - val_loss: 1.1904 - val_accuracy: 0.5941\n"
          ]
        }
      ],
      "source": [
        "model_mnist = model_factory(\r\n",
        "    input_shape=(28, 28),\r\n",
        "    num_classes=10,\r\n",
        ")\r\n",
        "\r\n",
        "model_mnist.compile(\r\n",
        "    loss=loss,\r\n",
        "    optimizer=sgd_optimizer,\r\n",
        "    metrics=['accuracy'],\r\n",
        ")\r\n",
        "\r\n",
        "history = model_mnist.fit(\r\n",
        "    x=x_train_1,\r\n",
        "    y=y_train_1,\r\n",
        "    batch_size=64,\r\n",
        "    epochs=5,\r\n",
        "    validation_split=0.2,\r\n",
        "    shuffle=True,\r\n",
        ")"
      ]
    },
    {
      "cell_type": "markdown",
      "metadata": {
        "id": "tD4ee660soz1"
      },
      "source": [
        "#### Plotting model Loss and Accuracy on train and validation sets per epoch"
      ]
    },
    {
      "cell_type": "code",
      "execution_count": 51,
      "metadata": {
        "id": "cEdazOlB_Nwm"
      },
      "outputs": [
        {
          "data": {
            "text/plain": "<matplotlib.legend.Legend at 0x1f43e77c2b0>"
          },
          "execution_count": 51,
          "metadata": {},
          "output_type": "execute_result"
        },
        {
          "data": {
            "image/png": "[encoded data removed]",
            "text/plain": "<Figure size 432x288 with 2 Axes>"
          },
          "metadata": {
            "needs_background": "light",
            "transient": {}
          },
          "output_type": "display_data"
        }
      ],
      "source": [
        "fig, (ax1, ax2) = plt.subplots(1, 2)\n",
        "\n",
        "ax1.plot(history.history['accuracy'])\n",
        "ax1.plot(history.history['val_accuracy'])\n",
        "ax1.set_title('Model accuracy')\n",
        "ax1.set_ylabel('accuracy')\n",
        "ax1.set_xlabel('epoch')\n",
        "ax1.legend(['training', 'validation'], loc='lower right')\n",
        "\n",
        "ax2.plot(history.history['loss'])\n",
        "ax2.plot(history.history['val_loss'])\n",
        "ax2.set_title('Model loss')\n",
        "ax2.set_ylabel('loss')\n",
        "ax2.set_xlabel('epoch')\n",
        "ax2.legend(['training', 'validation'], loc='upper right')"
      ]
    },
    {
      "cell_type": "markdown",
      "metadata": {
        "id": "Fl9Ux9FWt4Zb"
      },
      "source": [
        "#### Evaluating Test set"
      ]
    },
    {
      "cell_type": "code",
      "execution_count": 52,
      "metadata": {
        "id": "8LZQk6Tm8wCg"
      },
      "outputs": [
        {
          "name": "stdout",
          "output_type": "stream",
          "text": [
            "157/157 [==============================] - 0s 940us/step - loss: 1.2136 - accuracy: 0.5881\n"
          ]
        },
        {
          "data": {
            "text/plain": "[1.2136350870132446, 0.588100016117096]"
          },
          "execution_count": 52,
          "metadata": {},
          "output_type": "execute_result"
        }
      ],
      "source": [
        "model_mnist.evaluate(\r\n",
        "    x=x_test_1,\r\n",
        "    y=y_test_1,\r\n",
        "    batch_size=64,\r\n",
        ")"
      ]
    },
    {
      "cell_type": "markdown",
      "metadata": {
        "id": "5zN0uxmeu-Ru"
      },
      "source": [
        "#### Predicting Some samples from Test set"
      ]
    },
    {
      "cell_type": "code",
      "execution_count": 54,
      "metadata": {
        "id": "FjKUvVLjvIy7"
      },
      "outputs": [
        {
          "name": "stdout",
          "output_type": "stream",
          "text": [
            "1/1 [==============================] - 0s 12ms/step\n",
            "y_predicted : 7 , y_true : 7\n",
            "1/1 [==============================] - 0s 12ms/step\n",
            "y_predicted : 6 , y_true : 9\n",
            "1/1 [==============================] - 0s 12ms/step\n",
            "y_predicted : 1 , y_true : 1\n"
          ]
        }
      ],
      "source": [
        "# Write your code here\r\n",
        "sample_mnist = [0, 20, 40]\r\n",
        "for sample in sample_mnist:\r\n",
        "    y_predicted = model_mnist.predict(np.array([x_test_1[sample]]))\r\n",
        "    print(f\"y_predicted : {np.argmax(y_predicted)} , y_true : {np.argmax(y_test_1[sample])}\")"
      ]
    },
    {
      "cell_type": "markdown",
      "metadata": {
        "id": "LwWDgkDD6jq8"
      },
      "source": [
        "### FER-2013"
      ]
    },
    {
      "cell_type": "code",
      "execution_count": 55,
      "metadata": {
        "id": "xhpiYihb6UvK"
      },
      "outputs": [
        {
          "name": "stdout",
          "output_type": "stream",
          "text": [
            "Epoch 1/5\n",
            "449/449 [==============================] - 122s 271ms/step - loss: 1.8042 - accuracy: 0.2548 - val_loss: 1.7964 - val_accuracy: 0.2441\n",
            "Epoch 2/5\n",
            "449/449 [==============================] - 27s 60ms/step - loss: 1.7599 - accuracy: 0.2901 - val_loss: 1.7396 - val_accuracy: 0.3117\n",
            "Epoch 3/5\n",
            "449/449 [==============================] - 26s 59ms/step - loss: 1.7399 - accuracy: 0.3034 - val_loss: 1.7239 - val_accuracy: 0.3113\n",
            "Epoch 4/5\n",
            "449/449 [==============================] - 26s 59ms/step - loss: 1.7292 - accuracy: 0.3123 - val_loss: 1.7477 - val_accuracy: 0.2933\n",
            "Epoch 5/5\n",
            "449/449 [==============================] - 26s 58ms/step - loss: 1.7163 - accuracy: 0.3210 - val_loss: 1.7108 - val_accuracy: 0.3218\n"
          ]
        }
      ],
      "source": [
        "model_fer = model_factory(\r\n",
        "    input_shape=(48, 48, 1),\r\n",
        "    num_classes=7\r\n",
        ")\r\n",
        "\r\n",
        "model_fer.compile(\r\n",
        "    loss=loss,\r\n",
        "    optimizer=sgd_optimizer,\r\n",
        "    metrics=['accuracy'],\r\n",
        ")\r\n",
        "\r\n",
        "history = model_fer.fit(\r\n",
        "    x=train_set,\r\n",
        "    epochs=5,\r\n",
        "    validation_data=train_set,\r\n",
        ")"
      ]
    },
    {
      "cell_type": "markdown",
      "metadata": {
        "id": "tamhcKqjz_7x"
      },
      "source": [
        "#### Plotting model Loss and Accuracy on train and validation sets per epoch"
      ]
    },
    {
      "cell_type": "code",
      "execution_count": 56,
      "metadata": {
        "id": "cQIveFdgEMQM"
      },
      "outputs": [
        {
          "data": {
            "text/plain": "<matplotlib.legend.Legend at 0x1f43f03b6d0>"
          },
          "execution_count": 56,
          "metadata": {},
          "output_type": "execute_result"
        },
        {
          "data": {
            "image/png": "[encoded data removed]",
            "text/plain": "<Figure size 432x288 with 2 Axes>"
          },
          "metadata": {
            "needs_background": "light",
            "transient": {}
          },
          "output_type": "display_data"
        }
      ],
      "source": [
        "fig, (ax1, ax2) = plt.subplots(1, 2)\n",
        "\n",
        "ax1.plot(history.history['accuracy'])\n",
        "ax1.plot(history.history['val_accuracy'])\n",
        "ax1.set_title('Model accuracy')\n",
        "ax1.set_ylabel('accuracy')\n",
        "ax1.set_xlabel('epoch')\n",
        "ax1.legend(['training', 'validation'], loc='lower right')\n",
        "\n",
        "ax2.plot(history.history['loss'])\n",
        "ax2.plot(history.history['val_loss'])\n",
        "ax2.set_title('Model loss')\n",
        "ax2.set_ylabel('loss')\n",
        "ax2.set_xlabel('epoch')\n",
        "ax2.legend(['training', 'validation'], loc='upper right')"
      ]
    },
    {
      "cell_type": "markdown",
      "metadata": {
        "id": "Mif4KIHT0F6z"
      },
      "source": [
        "#### Evaluating Test set"
      ]
    },
    {
      "cell_type": "code",
      "execution_count": 57,
      "metadata": {
        "id": "XgC_WGxf9ikw"
      },
      "outputs": [
        {
          "name": "stdout",
          "output_type": "stream",
          "text": [
            "113/113 [==============================] - 24s 214ms/step - loss: 1.6885 - accuracy: 0.3378\n"
          ]
        },
        {
          "data": {
            "text/plain": "[1.6885430812835693, 0.3378378450870514]"
          },
          "execution_count": 57,
          "metadata": {},
          "output_type": "execute_result"
        }
      ],
      "source": [
        "model_fer.evaluate(\n",
        "    x=test_set,\n",
        ")"
      ]
    },
    {
      "cell_type": "markdown",
      "metadata": {
        "id": "dT2L0pzV0ZPY"
      },
      "source": [
        "#### Predicting Some samples from Test set"
      ]
    },
    {
      "cell_type": "code",
      "execution_count": null,
      "metadata": {},
      "outputs": [],
      "source": [
        "print(test_set[0][0].shape)"
      ]
    },
    {
      "cell_type": "code",
      "execution_count": 58,
      "metadata": {
        "id": "JzTNAgBa0aME"
      },
      "outputs": [
        {
          "name": "stdout",
          "output_type": "stream",
          "text": [
            "113/113 [==============================] - 2s 18ms/step\n"
          ]
        },
        {
          "data": {
            "text/plain": "Text(0.5, 1.0, 'label: happy \\n actual: fear')"
          },
          "execution_count": 58,
          "metadata": {},
          "output_type": "execute_result"
        },
        {
          "data": {
            "text/plain": "<Figure size 432x288 with 0 Axes>"
          },
          "metadata": {
            "transient": {}
          },
          "output_type": "display_data"
        },
        {
          "data": {
            "image/png": "[encoded data removed]",
            "text/plain": "<Figure size 432x288 with 3 Axes>"
          },
          "metadata": {
            "needs_background": "light",
            "transient": {}
          },
          "output_type": "display_data"
        }
      ],
      "source": [
        "prediction = model_fer.predict(test_set)\n",
        "# convert prediction to labels\n",
        "labels = prediction.argmax(axis=-1)\n",
        "\n",
        "# labels list\n",
        "label_list = list(test_set.class_indices.keys())\n",
        "\n",
        "plt.figure()\n",
        "f, axarr = plt.subplots(1,3) \n",
        "\n",
        "# use the created array to output your multiple images.\n",
        "axarr[0].imshow(np.squeeze(test_set[0][0][5]))\n",
        "label_1 = label_list[test_set[0][1][5].argmax(axis=-1)]\n",
        "axarr[1].imshow(np.squeeze(test_set[0][0][29]))\n",
        "label_2 = label_list[test_set[0][1][29].argmax(axis=-1)]\n",
        "axarr[2].imshow(np.squeeze(test_set[0][0][10]))\n",
        "label_3 = label_list[test_set[0][1][10].argmax(axis=-1)]\n",
        "\n",
        "# Show predicted label for each image\n",
        "axarr[0].set_title(f'predicted: {label_list[labels[5]]} \\n actual: {label_1}')\n",
        "axarr[1].set_title(f'label: {label_list[labels[29]]} \\n actual: {label_2}')\n",
        "axarr[2].set_title(f'label: {label_list[labels[10]]} \\n actual: {label_3}')"
      ]
    },
    {
      "cell_type": "code",
      "execution_count": null,
      "metadata": {},
      "outputs": [],
      "source": []
    }
  ],
  "metadata": {
    "colab": {
      "collapsed_sections": [],
      "provenance": []
    },
    "kernelspec": {
      "display_name": "Python 3.9.6 64-bit",
      "metadata": {
        "interpreter": {
          "hash": "df642eef7b43fe7a4a517bca7a97690968a466268416ac555ac71584a4a4c66c"
        }
      },
      "name": "python3"
    },
    "language_info": {
      "codemirror_mode": {
        "name": "ipython",
        "version": 3
      },
      "file_extension": ".py",
      "mimetype": "text/x-python",
      "name": "python",
      "nbconvert_exporter": "python",
      "pygments_lexer": "ipython3",
      "version": "3.9.6"
    }
  },
  "nbformat": 4,
  "nbformat_minor": 0
}