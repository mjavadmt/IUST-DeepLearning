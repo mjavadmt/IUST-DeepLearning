{
  "cells": [
    {
      "cell_type": "markdown",
      "metadata": {
        "id": "SOTf1HDVEIF4"
      },
      "source": [
        "## Import"
      ]
    },
    {
      "cell_type": "code",
      "execution_count": 2,
      "metadata": {
        "colab": {
          "base_uri": "https://localhost:8080/"
        },
        "id": "jEhux3zaGMD5",
        "outputId": "8ad63265-457d-461e-e0db-b1dba39403d2"
      },
      "outputs": [
        {
          "output_type": "stream",
          "name": "stdout",
          "text": [
            "Looking in indexes: https://pypi.org/simple, https://us-python.pkg.dev/colab-wheels/public/simple/\n",
            "Requirement already satisfied: keras-cv in /usr/local/lib/python3.8/dist-packages (0.4.0)\n",
            "Requirement already satisfied: regex in /usr/local/lib/python3.8/dist-packages (from keras-cv) (2022.6.2)\n",
            "Requirement already satisfied: packaging in /usr/local/lib/python3.8/dist-packages (from keras-cv) (21.3)\n",
            "Requirement already satisfied: absl-py in /usr/local/lib/python3.8/dist-packages (from keras-cv) (1.3.0)\n",
            "Requirement already satisfied: pyparsing!=3.0.5,>=2.0.2 in /usr/local/lib/python3.8/dist-packages (from packaging->keras-cv) (3.0.9)\n"
          ]
        }
      ],
      "source": [
        "!pip install keras-cv\n",
        "!pip install -q -U keras-tuner"
      ]
    },
    {
      "cell_type": "code",
      "execution_count": 3,
      "metadata": {
        "id": "TKuCCid_gSgn",
        "colab": {
          "base_uri": "https://localhost:8080/"
        },
        "outputId": "6e57a162-77b5-4ce0-a3fc-993b3de02285"
      },
      "outputs": [
        {
          "output_type": "stream",
          "name": "stderr",
          "text": [
            "<ipython-input-3-438ed8b334b7>:9: DeprecationWarning: `import kerastuner` is deprecated, please use `import keras_tuner`.\n",
            "  from kerastuner.tuners import RandomSearch\n"
          ]
        }
      ],
      "source": [
        "import tensorflow as tf\n",
        "import numpy as np\n",
        "from tensorflow import keras\n",
        "from tensorflow.keras import layers\n",
        "import keras_tuner as kt\n",
        "import matplotlib.pyplot as plt\n",
        "from keras.utils import np_utils\n",
        "from tensorflow.keras.layers import Conv2D, MaxPooling2D, Dense, Flatten, Activation, Dropout\n",
        "from kerastuner.tuners import RandomSearch"
      ]
    },
    {
      "cell_type": "markdown",
      "metadata": {
        "id": "-KWvg9W_ENsy"
      },
      "source": [
        "## Load and Pre-process Data"
      ]
    },
    {
      "cell_type": "code",
      "execution_count": null,
      "metadata": {
        "colab": {
          "base_uri": "https://localhost:8080/"
        },
        "id": "GvgYFtUUEFUu",
        "outputId": "cd819713-78a4-40bc-cb62-c948e5c3ba3f"
      },
      "outputs": [
        {
          "output_type": "stream",
          "name": "stdout",
          "text": [
            "Downloading data from https://www.cs.toronto.edu/~kriz/cifar-10-python.tar.gz\n",
            "170498071/170498071 [==============================] - 6s 0us/step\n"
          ]
        },
        {
          "output_type": "execute_result",
          "data": {
            "text/plain": [
              "(50000, 32, 32, 3)"
            ]
          },
          "metadata": {},
          "execution_count": 4
        }
      ],
      "source": [
        "(img_train, label_train), (img_test, label_test) = keras.datasets.cifar10.load_data()\n",
        "img_train.shape"
      ]
    },
    {
      "cell_type": "code",
      "execution_count": null,
      "metadata": {
        "id": "0lm7gb_KQmgm"
      },
      "outputs": [],
      "source": [
        "# Creating a list of all the class labels\n",
        "class_names = ['airplane', 'automobile', 'bird', 'cat', 'deer',\n",
        "               'dog', 'frog', 'horse', 'ship', 'truck']\n",
        "\n",
        "# Visualizing some of the images from the training dataset\n",
        "plt.figure(figsize=[10,10])\n",
        "for i in range (25):    # for first 25 images\n",
        "  plt.subplot(5, 5, i+1)\n",
        "  plt.xticks([])\n",
        "  plt.yticks([])\n",
        "  plt.grid(False)\n",
        "  plt.imshow(img_train[i], cmap=plt.cm.binary)\n",
        "  plt.xlabel(class_names[label_train[i][0]])\n",
        "\n",
        "plt.show()"
      ]
    },
    {
      "cell_type": "code",
      "execution_count": null,
      "metadata": {
        "id": "kuVoo4HARR_l"
      },
      "outputs": [],
      "source": [
        "# Converting the pixels data to float type and Standardizing (255 is the total number of pixels an image can have)\n",
        "img_train = img_train.astype('float32') / 255.0\n",
        "img_test = img_test.astype('float32') / 255.0\n",
        "\n",
        "# One hot encoding the target class (labels)\n",
        "num_classes = 10\n",
        "label_train = tf.keras.utils.to_categorical(label_train, num_classes)\n",
        "label_test = tf.keras.utils.to_categorical(label_test, num_classes)"
      ]
    },
    {
      "cell_type": "markdown",
      "metadata": {
        "id": "Jc6wdiuGE22A"
      },
      "source": [
        "## Base model"
      ]
    },
    {
      "cell_type": "code",
      "execution_count": null,
      "metadata": {
        "id": "N2H-KgJ6E5Gb"
      },
      "outputs": [],
      "source": [
        "def model_builder():\n",
        "  model = keras.Sequential()\n",
        "  model.add(layers.Conv2D(32, (3,3), padding='same', activation='relu', input_shape=(32,32,3)))\n",
        "  model.add(layers.BatchNormalization())\n",
        "  model.add(layers.Conv2D(32, (3,3), padding='same', activation='relu'))\n",
        "  model.add(layers.BatchNormalization())\n",
        "  model.add(layers.MaxPooling2D(pool_size=(2,2)))\n",
        "  model.add(layers.Dropout(0.3))\n",
        "\n",
        "  model.add(layers.Conv2D(64, (3,3), padding='same', activation='relu'))\n",
        "  model.add(layers.BatchNormalization())\n",
        "  model.add(layers.Conv2D(64, (3,3), padding='same', activation='relu'))\n",
        "  model.add(layers.BatchNormalization())\n",
        "  model.add(layers.MaxPooling2D(pool_size=(2,2)))\n",
        "  model.add(layers.Dropout(0.5))\n",
        "  \n",
        "  model.add(layers.GlobalAveragePooling2D())\n",
        "  model.add(layers.Dense(128, activation='relu'))\n",
        "  model.add(layers.BatchNormalization())\n",
        "  model.add(layers.Dropout(0.5))\n",
        "  model.add(layers.Dense(num_classes, activation='softmax'))    # num_classes = 10\n",
        "  \n",
        "  model.compile(optimizer=keras.optimizers.Adam(learning_rate=0.01),\n",
        "                loss=keras.losses.CategoricalCrossentropy(),\n",
        "                metrics=['accuracy'])\n",
        "\n",
        "  return model"
      ]
    },
    {
      "cell_type": "code",
      "execution_count": null,
      "metadata": {
        "colab": {
          "base_uri": "https://localhost:8080/"
        },
        "id": "VpSpwTZkFCik",
        "outputId": "8e41425d-44e1-4c38-d671-d3ecdd079a42"
      },
      "outputs": [
        {
          "name": "stdout",
          "output_type": "stream",
          "text": [
            "Epoch 1/30\n",
            "782/782 [==============================] - 8s 9ms/step - loss: 1.6210 - accuracy: 0.4080 - val_loss: 1.9682 - val_accuracy: 0.4083\n",
            "Epoch 2/30\n",
            "782/782 [==============================] - 7s 9ms/step - loss: 1.2120 - accuracy: 0.5647 - val_loss: 3.0011 - val_accuracy: 0.1816\n",
            "Epoch 3/30\n",
            "782/782 [==============================] - 7s 9ms/step - loss: 1.0938 - accuracy: 0.6107 - val_loss: 1.3347 - val_accuracy: 0.5480\n",
            "Epoch 4/30\n",
            "782/782 [==============================] - 7s 9ms/step - loss: 1.0244 - accuracy: 0.6399 - val_loss: 1.0764 - val_accuracy: 0.6154\n",
            "Epoch 5/30\n",
            "782/782 [==============================] - 7s 9ms/step - loss: 0.9776 - accuracy: 0.6549 - val_loss: 1.1006 - val_accuracy: 0.6194\n",
            "Epoch 6/30\n",
            "782/782 [==============================] - 7s 9ms/step - loss: 0.9351 - accuracy: 0.6707 - val_loss: 1.2633 - val_accuracy: 0.5546\n",
            "Epoch 7/30\n",
            "782/782 [==============================] - 7s 9ms/step - loss: 0.9078 - accuracy: 0.6814 - val_loss: 0.8694 - val_accuracy: 0.6917\n",
            "Epoch 8/30\n",
            "782/782 [==============================] - 7s 9ms/step - loss: 0.8818 - accuracy: 0.6950 - val_loss: 0.8165 - val_accuracy: 0.7101\n",
            "Epoch 9/30\n",
            "782/782 [==============================] - 7s 9ms/step - loss: 0.8530 - accuracy: 0.7038 - val_loss: 1.0462 - val_accuracy: 0.6493\n",
            "Epoch 10/30\n",
            "782/782 [==============================] - 7s 9ms/step - loss: 0.8316 - accuracy: 0.7085 - val_loss: 1.0921 - val_accuracy: 0.6343\n",
            "Epoch 11/30\n",
            "782/782 [==============================] - 7s 9ms/step - loss: 0.8179 - accuracy: 0.7154 - val_loss: 0.7906 - val_accuracy: 0.7200\n",
            "Epoch 12/30\n",
            "782/782 [==============================] - 7s 9ms/step - loss: 0.8004 - accuracy: 0.7217 - val_loss: 0.7862 - val_accuracy: 0.7208\n",
            "Epoch 13/30\n",
            "782/782 [==============================] - 7s 9ms/step - loss: 0.7891 - accuracy: 0.7272 - val_loss: 0.8379 - val_accuracy: 0.7138\n",
            "Epoch 14/30\n",
            "782/782 [==============================] - 7s 9ms/step - loss: 0.7736 - accuracy: 0.7308 - val_loss: 0.8106 - val_accuracy: 0.7229\n",
            "Epoch 15/30\n",
            "782/782 [==============================] - 7s 9ms/step - loss: 0.7575 - accuracy: 0.7376 - val_loss: 0.7365 - val_accuracy: 0.7447\n",
            "Epoch 16/30\n",
            "782/782 [==============================] - 7s 9ms/step - loss: 0.7516 - accuracy: 0.7411 - val_loss: 0.7765 - val_accuracy: 0.7402\n",
            "Epoch 17/30\n",
            "782/782 [==============================] - 7s 9ms/step - loss: 0.7367 - accuracy: 0.7472 - val_loss: 0.6640 - val_accuracy: 0.7692\n",
            "Epoch 18/30\n",
            "782/782 [==============================] - 7s 9ms/step - loss: 0.7380 - accuracy: 0.7457 - val_loss: 0.6812 - val_accuracy: 0.7655\n",
            "Epoch 19/30\n",
            "782/782 [==============================] - 7s 9ms/step - loss: 0.7255 - accuracy: 0.7497 - val_loss: 0.6650 - val_accuracy: 0.7679\n",
            "Epoch 20/30\n",
            "782/782 [==============================] - 7s 9ms/step - loss: 0.7162 - accuracy: 0.7526 - val_loss: 0.6129 - val_accuracy: 0.7855\n",
            "Epoch 21/30\n",
            "782/782 [==============================] - 7s 9ms/step - loss: 0.7153 - accuracy: 0.7553 - val_loss: 0.6709 - val_accuracy: 0.7686\n",
            "Epoch 22/30\n",
            "782/782 [==============================] - 7s 9ms/step - loss: 0.7011 - accuracy: 0.7581 - val_loss: 0.6005 - val_accuracy: 0.7937\n",
            "Epoch 23/30\n",
            "782/782 [==============================] - 7s 9ms/step - loss: 0.6949 - accuracy: 0.7601 - val_loss: 0.7379 - val_accuracy: 0.7503\n",
            "Epoch 24/30\n",
            "782/782 [==============================] - 7s 9ms/step - loss: 0.6920 - accuracy: 0.7617 - val_loss: 0.6231 - val_accuracy: 0.7863\n",
            "Epoch 25/30\n",
            "782/782 [==============================] - 7s 9ms/step - loss: 0.6849 - accuracy: 0.7634 - val_loss: 0.7134 - val_accuracy: 0.7538\n",
            "Epoch 26/30\n",
            "782/782 [==============================] - 7s 9ms/step - loss: 0.6836 - accuracy: 0.7637 - val_loss: 0.6425 - val_accuracy: 0.7820\n",
            "Epoch 27/30\n",
            "782/782 [==============================] - 7s 9ms/step - loss: 0.6797 - accuracy: 0.7685 - val_loss: 0.8984 - val_accuracy: 0.7000\n",
            "Epoch 28/30\n",
            "782/782 [==============================] - 7s 9ms/step - loss: 0.6716 - accuracy: 0.7700 - val_loss: 0.6110 - val_accuracy: 0.7893\n",
            "Epoch 29/30\n",
            "782/782 [==============================] - 7s 9ms/step - loss: 0.6618 - accuracy: 0.7710 - val_loss: 0.6597 - val_accuracy: 0.7778\n",
            "Epoch 30/30\n",
            "782/782 [==============================] - 7s 9ms/step - loss: 0.6643 - accuracy: 0.7698 - val_loss: 0.6235 - val_accuracy: 0.7883\n"
          ]
        }
      ],
      "source": [
        "model = model_builder()\n",
        "history = model.fit(img_train, label_train, batch_size=64, epochs=30,\n",
        "                    validation_data=(img_test, label_test))"
      ]
    },
    {
      "cell_type": "markdown",
      "source": [
        "## Loading and Preprocessing"
      ],
      "metadata": {
        "id": "ZQXrWwGxZ8ih"
      }
    },
    {
      "cell_type": "code",
      "source": [
        "def normalize(x):\n",
        "    min_val = np.min(x)\n",
        "    max_val = np.max(x)\n",
        "    x = (x-min_val) / (max_val-min_val)\n",
        "    return x\n",
        "\n",
        "# load data\n",
        "(X_train, y_train), (X_test, y_test) = keras.datasets.cifar10.load_data()\n",
        "\n",
        "\n",
        "X_train = X_train.astype('float32')\n",
        "X_test = X_test.astype('float32')\n",
        "X_train = normalize(X_train)\n",
        "X_test = normalize(X_test)\n",
        "X_train = X_train.reshape(-1,32, 32, 3)  # reshaping for convnet\n",
        "\n",
        "\n",
        "y_train = np_utils.to_categorical(y_train)\n",
        "y_test = np_utils.to_categorical(y_test)\n",
        "num_classes = y_test.shape[1]"
      ],
      "metadata": {
        "id": "ToikJD70Z79z",
        "colab": {
          "base_uri": "https://localhost:8080/"
        },
        "outputId": "9329e252-99b2-4767-a731-0efe15bfe56d"
      },
      "execution_count": 4,
      "outputs": [
        {
          "output_type": "stream",
          "name": "stdout",
          "text": [
            "Downloading data from https://www.cs.toronto.edu/~kriz/cifar-10-python.tar.gz\n",
            "170498071/170498071 [==============================] - 2s 0us/step\n"
          ]
        }
      ]
    },
    {
      "cell_type": "markdown",
      "metadata": {
        "id": "Pl7DWBtdEwho"
      },
      "source": [
        "## Keras Tuner"
      ]
    },
    {
      "cell_type": "code",
      "execution_count": 11,
      "metadata": {
        "id": "SVSbSgV_EYtl",
        "colab": {
          "base_uri": "https://localhost:8080/"
        },
        "outputId": "4b21fc93-1149-4b45-eb21-e7d3fd22e238"
      },
      "outputs": [
        {
          "output_type": "stream",
          "name": "stdout",
          "text": [
            "Trial 1 Complete [00h 03m 39s]\n",
            "val_accuracy: 0.7016333341598511\n",
            "\n",
            "Best val_accuracy So Far: 0.7016333341598511\n",
            "Total elapsed time: 00h 03m 39s\n",
            "Model: \"sequential\"\n",
            "_________________________________________________________________\n",
            " Layer (type)                Output Shape              Param #   \n",
            "=================================================================\n",
            " conv2d (Conv2D)             (None, 30, 30, 64)        1792      \n",
            "                                                                 \n",
            " activation (Activation)     (None, 30, 30, 64)        0         \n",
            "                                                                 \n",
            " max_pooling2d (MaxPooling2D  (None, 15, 15, 64)       0         \n",
            " )                                                               \n",
            "                                                                 \n",
            " conv2d_1 (Conv2D)           (None, 13, 13, 64)        36928     \n",
            "                                                                 \n",
            " activation_1 (Activation)   (None, 13, 13, 64)        0         \n",
            "                                                                 \n",
            " conv2d_2 (Conv2D)           (None, 11, 11, 64)        36928     \n",
            "                                                                 \n",
            " activation_2 (Activation)   (None, 11, 11, 64)        0         \n",
            "                                                                 \n",
            " conv2d_3 (Conv2D)           (None, 9, 9, 64)          36928     \n",
            "                                                                 \n",
            " activation_3 (Activation)   (None, 9, 9, 64)          0         \n",
            "                                                                 \n",
            " max_pooling2d_1 (MaxPooling  (None, 4, 4, 64)         0         \n",
            " 2D)                                                             \n",
            "                                                                 \n",
            " dropout (Dropout)           (None, 4, 4, 64)          0         \n",
            "                                                                 \n",
            " flatten (Flatten)           (None, 1024)              0         \n",
            "                                                                 \n",
            " dense (Dense)               (None, 128)               131200    \n",
            "                                                                 \n",
            " activation_4 (Activation)   (None, 128)               0         \n",
            "                                                                 \n",
            " dense_1 (Dense)             (None, 10)                1290      \n",
            "                                                                 \n",
            " activation_5 (Activation)   (None, 10)                0         \n",
            "                                                                 \n",
            "=================================================================\n",
            "Total params: 245,066\n",
            "Trainable params: 245,066\n",
            "Non-trainable params: 0\n",
            "_________________________________________________________________\n"
          ]
        },
        {
          "output_type": "stream",
          "name": "stderr",
          "text": [
            "WARNING:tensorflow:Detecting that an object or model or tf.train.Checkpoint is being deleted with unrestored values. See the following logs for the specific values in question. To silence these warnings, use `status.expect_partial()`. See https://www.tensorflow.org/api_docs/python/tf/train/Checkpoint#restorefor details about the status object returned by the restore function.\n",
            "WARNING:tensorflow:Value in checkpoint could not be found in the restored object: (root).optimizer.iter\n",
            "WARNING:tensorflow:Value in checkpoint could not be found in the restored object: (root).optimizer.beta_1\n",
            "WARNING:tensorflow:Value in checkpoint could not be found in the restored object: (root).optimizer.beta_2\n",
            "WARNING:tensorflow:Value in checkpoint could not be found in the restored object: (root).optimizer.decay\n",
            "WARNING:tensorflow:Value in checkpoint could not be found in the restored object: (root).optimizer.learning_rate\n"
          ]
        },
        {
          "output_type": "stream",
          "name": "stdout",
          "text": [
            "None\n",
            "{'n_layers': 3, 'drop_out': 0.1, 'n_nodes': 128, 'learning_rate': 0.001}\n",
            "Model: \"sequential\"\n",
            "_________________________________________________________________\n",
            " Layer (type)                Output Shape              Param #   \n",
            "=================================================================\n",
            " conv2d (Conv2D)             (None, 30, 30, 64)        1792      \n",
            "                                                                 \n",
            " activation (Activation)     (None, 30, 30, 64)        0         \n",
            "                                                                 \n",
            " max_pooling2d (MaxPooling2D  (None, 15, 15, 64)       0         \n",
            " )                                                               \n",
            "                                                                 \n",
            " conv2d_1 (Conv2D)           (None, 13, 13, 64)        36928     \n",
            "                                                                 \n",
            " activation_1 (Activation)   (None, 13, 13, 64)        0         \n",
            "                                                                 \n",
            " conv2d_2 (Conv2D)           (None, 11, 11, 64)        36928     \n",
            "                                                                 \n",
            " activation_2 (Activation)   (None, 11, 11, 64)        0         \n",
            "                                                                 \n",
            " conv2d_3 (Conv2D)           (None, 9, 9, 64)          36928     \n",
            "                                                                 \n",
            " activation_3 (Activation)   (None, 9, 9, 64)          0         \n",
            "                                                                 \n",
            " max_pooling2d_1 (MaxPooling  (None, 4, 4, 64)         0         \n",
            " 2D)                                                             \n",
            "                                                                 \n",
            " dropout (Dropout)           (None, 4, 4, 64)          0         \n",
            "                                                                 \n",
            " flatten (Flatten)           (None, 1024)              0         \n",
            "                                                                 \n",
            " dense (Dense)               (None, 128)               131200    \n",
            "                                                                 \n",
            " activation_4 (Activation)   (None, 128)               0         \n",
            "                                                                 \n",
            " dense_1 (Dense)             (None, 10)                1290      \n",
            "                                                                 \n",
            " activation_5 (Activation)   (None, 10)                0         \n",
            "                                                                 \n",
            "=================================================================\n",
            "Total params: 245,066\n",
            "Trainable params: 245,066\n",
            "Non-trainable params: 0\n",
            "_________________________________________________________________\n",
            "None\n",
            "313/313 [==============================] - 1s 4ms/step - loss: 0.8532 - accuracy: 0.7109\n",
            "loss: 0.8532324433326721\n",
            "accuracy: 0.7109000086784363\n"
          ]
        }
      ],
      "source": [
        "def build_model(hp):  # random search passes this hyperparameter() object \n",
        "    model = keras.models.Sequential()\n",
        "\n",
        "    model.add(Conv2D(64, (3, 3), input_shape=X_train.shape[1:]))\n",
        "\n",
        "    model.add(Activation('relu'))\n",
        "    model.add(MaxPooling2D(pool_size=(2, 2)))\n",
        "\n",
        "    for i in range(hp.Int('n_layers', 1, 4)):  # adding variation of layers.\n",
        "        model.add(Conv2D(64, (3, 3)))\n",
        "        model.add(Activation('relu'))\n",
        "    model.add(MaxPooling2D(pool_size=(2, 2)))\n",
        "    model.add(Dropout(hp.Choice('drop_out', values=[0.1, 0.2, 0.3])))\n",
        "    model.add(Flatten())\n",
        "    model.add(Dense(hp.Choice(f'n_nodes',\n",
        "                              values=[128, 256, 512])))\n",
        "    model.add(Activation('relu'))\n",
        "    model.add(Dense(10))\n",
        "    model.add(Activation(\"softmax\"))\n",
        "    hp_learning_rate = hp.Choice('learning_rate', values=[0.1, 0.01, 0.001])\n",
        "    model.compile(optimizer=keras.optimizers.Adam(learning_rate=hp_learning_rate),\n",
        "                  loss=\"categorical_crossentropy\",\n",
        "                  metrics=[\"accuracy\"])\n",
        "\n",
        "    return model\n",
        "\n",
        "tuner = RandomSearch(\n",
        "    build_model,\n",
        "    objective='val_accuracy',\n",
        "    max_trials=1,  # how many model variations to test?\n",
        "    executions_per_trial=3,  # how many trials per variation? (same model could perform differently)\n",
        "    directory='deep_5',\n",
        "    project_name='hw6_5')\n",
        "# Number of epochs\n",
        "NUM_EPOCH = 6\n",
        "\n",
        "tuner.search(x=X_train,\n",
        "             y=y_train,\n",
        "             epochs=NUM_EPOCH,\n",
        "             batch_size=32,\n",
        "             validation_data=(X_test, y_test))\n",
        "\n",
        "print(tuner.get_best_models()[0].summary())\n",
        "print(tuner.get_best_hyperparameters()[0].values)\n",
        "\n",
        "model = tuner.get_best_models(num_models=1)[0]\n",
        "print (model.summary())\n",
        "# Evaluate the best model.\n",
        "loss, accuracy = model.evaluate(X_test, y_test)\n",
        "print('loss:', loss)\n",
        "print('accuracy:', accuracy)"
      ]
    },
    {
      "cell_type": "markdown",
      "metadata": {
        "id": "A4mR8ujsJJAe"
      },
      "source": [
        "## Train best model"
      ]
    },
    {
      "cell_type": "code",
      "execution_count": 13,
      "metadata": {
        "id": "XajusexNJMbB",
        "colab": {
          "base_uri": "https://localhost:8080/"
        },
        "outputId": "c79ccfeb-d97b-4e16-b11f-8ed6b3a219d0"
      },
      "outputs": [
        {
          "output_type": "stream",
          "name": "stdout",
          "text": [
            "Epoch 1/8\n",
            "704/704 [==============================] - 6s 8ms/step - loss: 0.4011 - accuracy: 0.8605 - val_loss: 0.6481 - val_accuracy: 0.7852\n",
            "Epoch 2/8\n",
            "704/704 [==============================] - 5s 7ms/step - loss: 0.3717 - accuracy: 0.8706 - val_loss: 0.6323 - val_accuracy: 0.7895\n",
            "Epoch 3/8\n",
            "704/704 [==============================] - 6s 8ms/step - loss: 0.3474 - accuracy: 0.8767 - val_loss: 0.6120 - val_accuracy: 0.8024\n",
            "Epoch 4/8\n",
            "704/704 [==============================] - 5s 7ms/step - loss: 0.3327 - accuracy: 0.8816 - val_loss: 0.5975 - val_accuracy: 0.8104\n",
            "Epoch 5/8\n",
            "704/704 [==============================] - 6s 9ms/step - loss: 0.3200 - accuracy: 0.8852 - val_loss: 0.5906 - val_accuracy: 0.8180\n",
            "Epoch 6/8\n",
            "704/704 [==============================] - 7s 10ms/step - loss: 0.2983 - accuracy: 0.8916 - val_loss: 0.5878 - val_accuracy: 0.8250\n",
            "Epoch 7/8\n",
            "704/704 [==============================] - 5s 8ms/step - loss: 0.2751 - accuracy: 0.9015 - val_loss: 0.6403 - val_accuracy: 0.8132\n",
            "Epoch 8/8\n",
            "704/704 [==============================] - 6s 9ms/step - loss: 0.2672 - accuracy: 0.9030 - val_loss: 0.5747 - val_accuracy: 0.8391\n"
          ]
        }
      ],
      "source": [
        "history = model.fit(X_train, y_train, validation_split=0.1, epochs=8, batch_size=64)"
      ]
    },
    {
      "cell_type": "markdown",
      "metadata": {
        "id": "TH0C563nvNvg"
      },
      "source": [
        "## Evaluate best model"
      ]
    },
    {
      "cell_type": "code",
      "execution_count": 36,
      "metadata": {
        "id": "TgwXL9kKvSny",
        "colab": {
          "base_uri": "https://localhost:8080/"
        },
        "outputId": "90d9bd15-14f1-4577-b2ca-c57d1973d04f"
      },
      "outputs": [
        {
          "output_type": "stream",
          "name": "stdout",
          "text": [
            "313/313 [==============================] - 1s 2ms/step\n",
            "f1 score is : 0.716950995882926\n",
            "precision score is : 0.718713640713901\n",
            "recall score is :  0.7171\n"
          ]
        }
      ],
      "source": [
        "from sklearn.metrics import accuracy_score, f1_score, precision_score, recall_score, classification_report, confusion_matrix\n",
        "\n",
        "y_predicted = model.predict(X_test)\n",
        "y_predicted = y_predicted.argmax(axis=1)\n",
        "y_test_index = y_test.argmax(axis=1)\n",
        "print(f\"f1 score is : {f1_score(y_test_index, y_predicted, average='macro')}\")\n",
        "print(f\"precision score is : {precision_score(y_test_index, y_predicted, average='macro')}\")\n",
        "print(f\"recall score is :  {recall_score(y_test_index, y_predicted, average='macro')}\")"
      ]
    },
    {
      "cell_type": "markdown",
      "metadata": {
        "id": "cU1VWfbFvRXB"
      },
      "source": [
        "## Analyse with Confusion Matrix"
      ]
    },
    {
      "cell_type": "code",
      "execution_count": 38,
      "metadata": {
        "id": "T3ezmdhfvZBF",
        "colab": {
          "base_uri": "https://localhost:8080/",
          "height": 279
        },
        "outputId": "9e8b3421-02fa-4361-9255-d20fcd62597a"
      },
      "outputs": [
        {
          "output_type": "display_data",
          "data": {
            "text/plain": [
              "<Figure size 432x288 with 2 Axes>"
            ],
            "image/png": "[encoded data removed]"
          },
          "metadata": {
            "needs_background": "light"
          }
        }
      ],
      "source": [
        "from sklearn import metrics\n",
        "\n",
        "confusion_matrix = metrics.confusion_matrix(y_test_index, y_predicted)\n",
        "\n",
        "cm_display = metrics.ConfusionMatrixDisplay(confusion_matrix = confusion_matrix, display_labels = np.arange(10))\n",
        "\n",
        "cm_display.plot()\n",
        "plt.show()"
      ]
    },
    {
      "cell_type": "code",
      "source": [],
      "metadata": {
        "id": "N70cJ9sK60NC"
      },
      "execution_count": null,
      "outputs": []
    }
  ],
  "metadata": {
    "accelerator": "GPU",
    "colab": {
      "collapsed_sections": [
        "-KWvg9W_ENsy"
      ],
      "provenance": []
    },
    "gpuClass": "standard",
    "kernelspec": {
      "display_name": "Python 3 (ipykernel)",
      "language": "python",
      "name": "python3"
    },
    "language_info": {
      "codemirror_mode": {
        "name": "ipython",
        "version": 3
      },
      "file_extension": ".py",
      "mimetype": "text/x-python",
      "name": "python",
      "nbconvert_exporter": "python",
      "pygments_lexer": "ipython3",
      "version": "3.9.2"
    }
  },
  "nbformat": 4,
  "nbformat_minor": 0
}