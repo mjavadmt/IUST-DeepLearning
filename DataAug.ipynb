{
  "cells": [
    {
      "cell_type": "markdown",
      "metadata": {
        "id": "FWtXGX8KhkeA"
      },
      "source": [
        "# Data Agumentation Problem\n",
        "#### Here you need to compare two models with and without agumentation to see the difference"
      ]
    },
    {
      "cell_type": "markdown",
      "metadata": {
        "id": "uDbJVkjehkeE"
      },
      "source": [
        "### Import libraries"
      ]
    },
    {
      "cell_type": "code",
      "execution_count": null,
      "metadata": {
        "id": "DApO-QgeUJyh"
      },
      "outputs": [],
      "source": [
        "import glob\n",
        "import cv2\n",
        "import numpy as np\n",
        "import random"
      ]
    },
    {
      "cell_type": "markdown",
      "metadata": {
        "id": "Lm5vFIhMhkeF"
      },
      "source": [
        "### Read Images"
      ]
    },
    {
      "cell_type": "code",
      "source": [
        "from google.colab import drive\n",
        "drive.mount('/content/drive')"
      ],
      "metadata": {
        "colab": {
          "base_uri": "https://localhost:8080/"
        },
        "id": "ohJvt83fi5Ri",
        "outputId": "4e53bb23-40e5-4781-d6d4-2b201e5f1c71"
      },
      "execution_count": null,
      "outputs": [
        {
          "output_type": "stream",
          "name": "stdout",
          "text": [
            "Mounted at /content/drive\n"
          ]
        }
      ]
    },
    {
      "cell_type": "code",
      "source": [
        "! unzip \"/content/drive/My Drive/deep learning/hw3/data_aug.zip\""
      ],
      "metadata": {
        "colab": {
          "base_uri": "https://localhost:8080/"
        },
        "id": "4j9tpqI5jRnS",
        "outputId": "2b73aa1e-3fd7-4aa8-c9a1-719937313907"
      },
      "execution_count": null,
      "outputs": [
        {
          "output_type": "stream",
          "name": "stdout",
          "text": [
            "Archive:  /content/drive/My Drive/deep learning/hw3/data_aug.zip\n",
            "  inflating: data_aug/cat.7305.jpg   \n",
            "  inflating: data_aug/dog.12247.jpg  \n",
            "  inflating: data_aug/dog.306.jpg    \n",
            "  inflating: data_aug/cat.4344.jpg   \n",
            "  inflating: data_aug/cat.1807.jpg   \n",
            "  inflating: data_aug/dog.11833.jpg  \n",
            "  inflating: data_aug/cat.5077.jpg   \n",
            "  inflating: data_aug/dog.10221.jpg  \n",
            "  inflating: data_aug/dog.6503.jpg   \n",
            "  inflating: data_aug/cat.5009.jpg   \n",
            "  inflating: data_aug/cat.7738.jpg   \n",
            "  inflating: data_aug/dog.9719.jpg   \n",
            "  inflating: data_aug/dog.9374.jpg   \n",
            "  inflating: data_aug/cat.10172.jpg  \n",
            "  inflating: data_aug/cat.2482.jpg   \n",
            "  inflating: data_aug/dog.42.jpg     \n",
            "  inflating: data_aug/cat.1021.jpg   \n",
            "  inflating: data_aug/dog.658.jpg    \n",
            "  inflating: data_aug/dog.1989.jpg   \n",
            "  inflating: data_aug/dog.6891.jpg   \n",
            "  inflating: data_aug/dog.301.jpg    \n",
            "  inflating: data_aug/cat.1666.jpg   \n",
            "  inflating: data_aug/dog.4439.jpg   \n",
            "  inflating: data_aug/cat.6706.jpg   \n",
            "  inflating: data_aug/cat.11843.jpg  \n",
            "  inflating: data_aug/cat.12479.jpg  \n",
            "  inflating: data_aug/dog.12181.jpg  \n",
            "  inflating: data_aug/cat.9378.jpg   \n",
            "  inflating: data_aug/cat.4772.jpg   \n",
            "  inflating: data_aug/cat.2098.jpg   \n",
            "  inflating: data_aug/dog.5657.jpg   \n",
            "  inflating: data_aug/cat.12263.jpg  \n",
            "  inflating: data_aug/dog.7487.jpg   \n",
            "  inflating: data_aug/dog.12031.jpg  \n",
            "  inflating: data_aug/dog.2078.jpg   \n",
            "  inflating: data_aug/cat.11946.jpg  \n",
            "  inflating: data_aug/cat.9501.jpg   \n",
            "  inflating: data_aug/dog.11777.jpg  \n",
            "  inflating: data_aug/dog.12399.jpg  \n",
            "  inflating: data_aug/cat.223.jpg    \n",
            "  inflating: data_aug/cat.2749.jpg   \n",
            "  inflating: data_aug/cat.8608.jpg   \n",
            "  inflating: data_aug/dog.6966.jpg   \n",
            "  inflating: data_aug/dog.6892.jpg   \n",
            "  inflating: data_aug/dog.9440.jpg   \n",
            "  inflating: data_aug/dog.1781.jpg   \n",
            "  inflating: data_aug/dog.3048.jpg   \n",
            "  inflating: data_aug/cat.3469.jpg   \n",
            "  inflating: data_aug/cat.4177.jpg   \n",
            "  inflating: data_aug/cat.5005.jpg   \n",
            "  inflating: data_aug/dog.11154.jpg  \n",
            "  inflating: data_aug/cat.6762.jpg   \n",
            "  inflating: data_aug/cat.8309.jpg   \n",
            "  inflating: data_aug/dog.2242.jpg   \n",
            "  inflating: data_aug/dog.699.jpg    \n",
            "  inflating: data_aug/cat.6038.jpg   \n",
            "  inflating: data_aug/cat.11959.jpg  \n",
            "  inflating: data_aug/cat.4071.jpg   \n",
            "  inflating: data_aug/cat.2479.jpg   \n",
            "  inflating: data_aug/cat.225.jpg    \n",
            "  inflating: data_aug/dog.7778.jpg   \n",
            "  inflating: data_aug/cat.9860.jpg   \n",
            "  inflating: data_aug/cat.9499.jpg   \n",
            "  inflating: data_aug/dog.8228.jpg   \n",
            "  inflating: data_aug/cat.11521.jpg  \n",
            "  inflating: data_aug/cat.3543.jpg   \n",
            "  inflating: data_aug/dog.10890.jpg  \n",
            "  inflating: data_aug/dog.11675.jpg  \n",
            "  inflating: data_aug/cat.11535.jpg  \n",
            "  inflating: data_aug/dog.6132.jpg   \n",
            "  inflating: data_aug/cat.4279.jpg   \n",
            "  inflating: data_aug/cat.98.jpg     \n",
            "  inflating: data_aug/dog.8629.jpg   \n",
            "  inflating: data_aug/dog.2092.jpg   \n",
            "  inflating: data_aug/cat.343.jpg    \n",
            "  inflating: data_aug/cat.9239.jpg   \n",
            "  inflating: data_aug/dog.10546.jpg  \n",
            "  inflating: data_aug/dog.12029.jpg  \n",
            "  inflating: data_aug/dog.5920.jpg   \n",
            "  inflating: data_aug/dog.11283.jpg  \n",
            "  inflating: data_aug/cat.119.jpg    \n",
            "  inflating: data_aug/cat.2326.jpg   \n",
            "  inflating: data_aug/dog.2793.jpg   \n",
            "  inflating: data_aug/dog.1687.jpg   \n",
            "  inflating: data_aug/cat.8908.jpg   \n",
            "  inflating: data_aug/cat.10949.jpg  \n",
            "  inflating: data_aug/dog.8715.jpg   \n",
            "  inflating: data_aug/cat.8740.jpg   \n",
            "  inflating: data_aug/cat.4126.jpg   \n",
            "  inflating: data_aug/cat.9890.jpg   \n",
            "  inflating: data_aug/dog.3788.jpg   \n",
            "  inflating: data_aug/dog.91.jpg     \n",
            "  inflating: data_aug/dog.3565.jpg   \n",
            "  inflating: data_aug/cat.1848.jpg   \n",
            "  inflating: data_aug/cat.10195.jpg  \n",
            "  inflating: data_aug/dog.11099.jpg  \n",
            "  inflating: data_aug/dog.6219.jpg   \n",
            "  inflating: data_aug/dog.8296.jpg   \n",
            "  inflating: data_aug/dog.11634.jpg  \n",
            "  inflating: data_aug/dog.9326.jpg   \n"
          ]
        }
      ]
    },
    {
      "cell_type": "code",
      "execution_count": null,
      "metadata": {
        "id": "KnJzql-edFlp",
        "colab": {
          "base_uri": "https://localhost:8080/"
        },
        "outputId": "1064a0b0-1de3-40b5-d986-9a2147149106"
      },
      "outputs": [
        {
          "output_type": "stream",
          "name": "stdout",
          "text": [
            "[1 0 1 0 1 0 0 1 1 1 1 0 0 1 0 0 0 0 1 1 0 0 0 1 1 0 1 1 0 0 0 1 0 0 1 1 1\n",
            " 0 0 1 1 1 0 0 0 0 0 0 1 1 0 0 1 0 1 0 0 1 1 1 0 1 0 1 0 1 1 0 1 1 1 0 1 1\n",
            " 0 0 0 1 0 0 1 1 0 1 0 0 0 1 0 1 1 1 1 1 0 1 0 0 1 1]\n"
          ]
        }
      ],
      "source": [
        "# First we should read all the images from the provided directory,\n",
        "# 1. first unzip the .zip file attached with homeworks\n",
        "# 2. read images from directory\n",
        "# 3. create labels array\n",
        "import os \n",
        "from PIL import Image\n",
        "\n",
        "\n",
        "samples = []\n",
        "labels = []\n",
        "for image in os.listdir('data_aug'):\n",
        "    # print(image)\n",
        "    image_array = Image.open(f\"data_aug/{image}\").convert(\"RGB\")\n",
        "    image_array = np.asarray(image_array)\n",
        "    labels.append(0 if \"cat\" in image else 1)\n",
        "    samples.append(image_array)\n",
        "\n",
        "labels = np.array(labels)  \n",
        "print(labels)    \n",
        "\n",
        "\n"
      ]
    },
    {
      "cell_type": "markdown",
      "metadata": {
        "id": "o-LfENTchkeG"
      },
      "source": [
        "### Prepare Dataset"
      ]
    },
    {
      "cell_type": "code",
      "execution_count": null,
      "metadata": {
        "id": "AhInWVpUeqI2",
        "colab": {
          "base_uri": "https://localhost:8080/"
        },
        "outputId": "2f8fb54a-3136-4be1-d441-ce61a22109e1"
      },
      "outputs": [
        {
          "output_type": "stream",
          "name": "stderr",
          "text": [
            "/usr/local/lib/python3.7/dist-packages/ipykernel_launcher.py:3: VisibleDeprecationWarning: Creating an ndarray from ragged nested sequences (which is a list-or-tuple of lists-or-tuples-or ndarrays with different lengths or shapes) is deprecated. If you meant to do this, you must specify 'dtype=object' when creating the ndarray.\n",
            "  This is separate from the ipykernel package so we can avoid doing imports until\n"
          ]
        }
      ],
      "source": [
        "# Normalize your dataset in a way to have a image dataset with pixles in range (0 to 1)\n",
        "########################\n",
        "samples = np.array(samples) / 255\n",
        "########################\n"
      ]
    },
    {
      "cell_type": "code",
      "execution_count": null,
      "metadata": {
        "id": "WJvVTTO1gwr4",
        "colab": {
          "base_uri": "https://localhost:8080/"
        },
        "outputId": "3352f0f9-3605-4335-988d-db08ea805f7a"
      },
      "outputs": [
        {
          "output_type": "stream",
          "name": "stdout",
          "text": [
            "(100, 28, 28, 3)\n"
          ]
        }
      ],
      "source": [
        "# Resize your images to (28 * 28)\n",
        "\n",
        "x_train=[]\n",
        "for image in samples:\n",
        "  converted_image = cv2.resize(image, (28, 28))\n",
        "  x_train.append(converted_image)\n",
        "\n",
        "x_train = np.array(x_train)\n",
        "print(x_train.shape)\n"
      ]
    },
    {
      "cell_type": "code",
      "execution_count": null,
      "metadata": {
        "id": "hHAp88v5hjOX"
      },
      "outputs": [],
      "source": [
        "# Flatten your dataset images \n",
        "\n",
        "length, width, height, channels = x_train.shape\n",
        "\n",
        "x_train = x_train.flatten().reshape(length, width * height * channels)\n"
      ]
    },
    {
      "cell_type": "code",
      "execution_count": null,
      "metadata": {
        "id": "YC-_5hy7iQy7",
        "colab": {
          "base_uri": "https://localhost:8080/"
        },
        "outputId": "59953ae4-d319-4e7b-84d3-3dfcd93cee38"
      },
      "outputs": [
        {
          "output_type": "stream",
          "name": "stdout",
          "text": [
            "x train shape : (100, 2352)\n",
            "y train shape : (100,)\n"
          ]
        }
      ],
      "source": [
        "# Check your dataset and labels to be a numpy ndarray of sizes (800, 28 * 28 * 3) and (800, 1) respectively.\n",
        "\n",
        "print(f\"x train shape : {x_train.shape}\")\n",
        "print(f\"y train shape : {labels.shape}\")"
      ]
    },
    {
      "cell_type": "markdown",
      "metadata": {
        "id": "WVe-xEshhkeI"
      },
      "source": [
        "### Create your Model"
      ]
    },
    {
      "cell_type": "code",
      "execution_count": null,
      "metadata": {
        "id": "tPtU3_i2hkeI"
      },
      "outputs": [],
      "source": [
        "from tensorflow.keras.models import Sequential\n",
        "from tensorflow.keras.layers import Dense, Activation, Input\n",
        "from tensorflow.keras.optimizers import Adam\n",
        "from tensorflow.keras.losses import BinaryCrossentropy"
      ]
    },
    {
      "cell_type": "code",
      "execution_count": null,
      "metadata": {
        "id": "GMnLI8M9hkeI"
      },
      "outputs": [],
      "source": [
        "# create a simple model of Keras MLP with desired number of dense layers and units and activation function\n",
        "# don't forget to shuffle the data\n",
        "# this is a binary classification problem\n",
        "\n",
        "model = Sequential()\n",
        "model.add(Input(shape=(28 * 28 * 3,)))\n",
        "model.add(Dense(units=16, activation='relu'))\n",
        "model.add(Dense(units=4, activation='relu'))\n",
        "model.add(Dense(units=1, activation='sigmoid'))\n",
        "\n",
        "########################\n",
        "## PUT YOUR CODE HERE ##\n",
        "########################"
      ]
    },
    {
      "cell_type": "code",
      "execution_count": null,
      "metadata": {
        "id": "5qqfp__phkeJ"
      },
      "outputs": [],
      "source": [
        "# Split your dataset to test and train with your desired implementation\n",
        "# use sklearn.model_selection.train_test_split\n",
        "from sklearn.model_selection import train_test_split\n",
        "X_train, X_test, y_train, y_test = train_test_split(x_train, labels, test_size=0.2, shuffle=True)"
      ]
    },
    {
      "cell_type": "code",
      "execution_count": null,
      "metadata": {
        "colab": {
          "base_uri": "https://localhost:8080/"
        },
        "id": "nekNkctFhkeJ",
        "outputId": "ff4df923-a484-489d-df74-dfef8dc3eef8"
      },
      "outputs": [
        {
          "output_type": "stream",
          "name": "stdout",
          "text": [
            "Epoch 1/30\n",
            "4/4 [==============================] - 0s 44ms/step - loss: 0.6948 - accuracy: 0.5000 - val_loss: 0.7018 - val_accuracy: 0.3750\n",
            "Epoch 2/30\n",
            "4/4 [==============================] - 0s 8ms/step - loss: 0.6931 - accuracy: 0.5000 - val_loss: 0.6934 - val_accuracy: 0.3750\n",
            "Epoch 3/30\n",
            "4/4 [==============================] - 0s 8ms/step - loss: 0.6931 - accuracy: 0.5156 - val_loss: 0.6962 - val_accuracy: 0.3125\n",
            "Epoch 4/30\n",
            "4/4 [==============================] - 0s 8ms/step - loss: 0.7079 - accuracy: 0.5312 - val_loss: 0.6998 - val_accuracy: 0.3750\n",
            "Epoch 5/30\n",
            "4/4 [==============================] - 0s 9ms/step - loss: 0.6724 - accuracy: 0.6875 - val_loss: 0.6937 - val_accuracy: 0.3750\n",
            "Epoch 6/30\n",
            "4/4 [==============================] - 0s 10ms/step - loss: 0.6570 - accuracy: 0.6562 - val_loss: 0.6445 - val_accuracy: 0.6250\n",
            "Epoch 7/30\n",
            "4/4 [==============================] - 0s 9ms/step - loss: 0.6427 - accuracy: 0.6562 - val_loss: 0.6733 - val_accuracy: 0.5625\n",
            "Epoch 8/30\n",
            "4/4 [==============================] - 0s 9ms/step - loss: 0.6173 - accuracy: 0.6875 - val_loss: 0.6721 - val_accuracy: 0.5625\n",
            "Epoch 9/30\n",
            "4/4 [==============================] - 0s 8ms/step - loss: 0.6019 - accuracy: 0.6406 - val_loss: 0.6946 - val_accuracy: 0.4375\n",
            "Epoch 10/30\n",
            "4/4 [==============================] - 0s 8ms/step - loss: 0.5967 - accuracy: 0.7812 - val_loss: 0.6874 - val_accuracy: 0.6250\n",
            "Epoch 11/30\n",
            "4/4 [==============================] - 0s 14ms/step - loss: 0.6058 - accuracy: 0.6094 - val_loss: 0.7098 - val_accuracy: 0.3750\n",
            "Epoch 12/30\n",
            "4/4 [==============================] - 0s 8ms/step - loss: 0.6115 - accuracy: 0.8125 - val_loss: 0.7164 - val_accuracy: 0.5000\n",
            "Epoch 13/30\n",
            "4/4 [==============================] - 0s 8ms/step - loss: 0.5427 - accuracy: 0.7344 - val_loss: 0.7099 - val_accuracy: 0.5000\n",
            "Epoch 14/30\n",
            "4/4 [==============================] - 0s 9ms/step - loss: 0.5474 - accuracy: 0.7969 - val_loss: 0.7509 - val_accuracy: 0.5625\n",
            "Epoch 15/30\n",
            "4/4 [==============================] - 0s 9ms/step - loss: 0.5011 - accuracy: 0.7656 - val_loss: 0.7980 - val_accuracy: 0.3750\n",
            "Epoch 16/30\n",
            "4/4 [==============================] - 0s 9ms/step - loss: 0.4593 - accuracy: 0.8750 - val_loss: 0.7464 - val_accuracy: 0.5625\n",
            "{'loss': [0.6947563886642456, 0.6930789947509766, 0.6931279301643372, 0.7078729867935181, 0.6724472045898438, 0.6570069789886475, 0.6426925659179688, 0.6173490881919861, 0.6019245386123657, 0.5967251062393188, 0.6058374047279358, 0.6115459203720093, 0.5426623821258545, 0.547419548034668, 0.5010967254638672, 0.4593162536621094], 'accuracy': [0.5, 0.5, 0.515625, 0.53125, 0.6875, 0.65625, 0.65625, 0.6875, 0.640625, 0.78125, 0.609375, 0.8125, 0.734375, 0.796875, 0.765625, 0.875], 'val_loss': [0.7018300294876099, 0.6933780908584595, 0.696232795715332, 0.6998240351676941, 0.6936883330345154, 0.644516110420227, 0.6732882261276245, 0.6720630526542664, 0.6945855617523193, 0.6874065399169922, 0.7098468542098999, 0.7163839340209961, 0.7099260091781616, 0.7509315013885498, 0.7980396747589111, 0.7464353442192078], 'val_accuracy': [0.375, 0.375, 0.3125, 0.375, 0.375, 0.625, 0.5625, 0.5625, 0.4375, 0.625, 0.375, 0.5, 0.5, 0.5625, 0.375, 0.5625]}\n"
          ]
        }
      ],
      "source": [
        "# Compile with your desired optimizer and loss function with 'accuracy' as metric\n",
        "# # Don't forget to monitor the overfitting, you should take care of val_accuracy and val_loss\n",
        "from keras.callbacks import EarlyStopping\n",
        "########################\n",
        "## PUT YOUR CODE HERE ##\n",
        "es_acc = EarlyStopping(monitor='val_accuracy', mode='max', patience=10)\n",
        "es_loss = EarlyStopping(monitor='val_loss', mode='min', patience=10)\n",
        "model.compile(loss='binary_crossentropy', optimizer='adam', metrics=['accuracy'])\n",
        "history = model.fit(X_train, y_train, epochs=30, verbose=1, batch_size=16, validation_split=0.2, callbacks=[es_loss, es_acc])\n",
        "\n",
        "########################\n",
        "print(history.history)\n"
      ]
    },
    {
      "cell_type": "markdown",
      "metadata": {
        "id": "JmzoQHw-hkeJ"
      },
      "source": [
        "### Plot results"
      ]
    },
    {
      "cell_type": "code",
      "execution_count": null,
      "metadata": {
        "colab": {
          "base_uri": "https://localhost:8080/",
          "height": 545
        },
        "id": "H9toaikOhkeJ",
        "outputId": "635a4d92-2686-4254-cee0-b5364d625dd4"
      },
      "outputs": [
        {
          "output_type": "display_data",
          "data": {
            "text/plain": [
              "<Figure size 432x288 with 1 Axes>"
            ],
            "image/png": "[encoded data removed]"
          },
          "metadata": {
            "needs_background": "light"
          }
        },
        {
          "output_type": "display_data",
          "data": {
            "text/plain": [
              "<Figure size 432x288 with 1 Axes>"
            ],
            "image/png": "[encoded data removed]"
          },
          "metadata": {
            "needs_background": "light"
          }
        }
      ],
      "source": [
        "# Plot your data\n",
        "\n",
        "import matplotlib.pyplot as plt\n",
        "acc = history.history['accuracy']\n",
        "val_acc = history.history['val_accuracy']\n",
        "loss = history.history['loss']\n",
        "val_loss = history.history['val_loss']\n",
        "\n",
        "epochs = range(len(acc))\n",
        "\n",
        "plt.plot(epochs, acc, 'r', label='Training accuracy')\n",
        "plt.plot(epochs, val_acc, 'b', label='Validation accuracy')\n",
        "plt.title('Training and validation accuracy')\n",
        "plt.legend()\n",
        "\n",
        "plt.figure()\n",
        "\n",
        "plt.plot(epochs, loss, 'r', label='Training Loss')\n",
        "plt.plot(epochs, val_loss, 'b', label='Validation Loss')\n",
        "plt.title('Training and validation loss')\n",
        "plt.legend()\n",
        "\n",
        "plt.show()"
      ]
    },
    {
      "cell_type": "markdown",
      "metadata": {
        "id": "ZKQMvwGOhkeK"
      },
      "source": [
        "### Evaluate results"
      ]
    },
    {
      "cell_type": "code",
      "execution_count": null,
      "metadata": {
        "colab": {
          "base_uri": "https://localhost:8080/"
        },
        "id": "UiVmXDyKhkeK",
        "outputId": "e0e7c217-be9e-4d86-c670-24a5bb327f3d"
      },
      "outputs": [
        {
          "output_type": "stream",
          "name": "stdout",
          "text": [
            "1/1 [==============================] - 0s 100ms/step - loss: 0.9067 - accuracy: 0.4500\n"
          ]
        },
        {
          "output_type": "execute_result",
          "data": {
            "text/plain": [
              "[0.90667724609375, 0.44999998807907104]"
            ]
          },
          "metadata": {},
          "execution_count": 61
        }
      ],
      "source": [
        "# Evaluate your model on the test data\n",
        "\n",
        "\n",
        "########################\n",
        "model.evaluate(X_test, y_test)\n",
        "########################\n"
      ]
    },
    {
      "cell_type": "markdown",
      "metadata": {
        "id": "W1Og25fWhkeK"
      },
      "source": [
        "# Compare results with and without using agumentation\n",
        "### Now we need to do agumentation to create more images to help us overcome underfitting"
      ]
    },
    {
      "cell_type": "markdown",
      "metadata": {
        "id": "29Hx26sWhkeK"
      },
      "source": [
        "### Agumentation Methods\n",
        "Here you should do the agumentation methods to produce more images\n"
      ]
    },
    {
      "cell_type": "code",
      "execution_count": null,
      "metadata": {
        "id": "T6Y6_veDcNwt"
      },
      "outputs": [],
      "source": [
        "# In this cell you need to implement agumentation methods to increase our data\n",
        "# NOTICE! Only use libraries in CV2 or others, DON'T use KERAS and Pytorch!\n",
        "\n",
        "\n",
        "def fill(img, h, w):\n",
        "    ''' \n",
        "    we use this function to resize the shifted image and fill border pixles with different methods\n",
        "    \n",
        "    arguments \n",
        "    input img: a Numpy ndarray from any size of h * w * ch\n",
        "          h: an integer defining the height of target image\n",
        "          w: an integer defining the width of target image\n",
        "    \n",
        "    output: resized and interpolated image \n",
        "\n",
        "    '''\n",
        "        \n",
        "    img = cv2.resize(img, (h, w), cv2.INTER_CUBIC)\n",
        "    return img\n",
        "\n",
        "\n",
        "def horizontal_shift(img, ratio=0.5):\n",
        "\n",
        "    ''' \n",
        "    we use this function to shift the image horizontally with the given ratio\n",
        "    width_target = width_input - ratio * width_input\n",
        "    \n",
        "    Hint: select ratio in range (-ratio to ratio) uniformly, to simulate horizontally shift to right and left with different ratios\n",
        "\n",
        "\n",
        "    arguments \n",
        "    input img: a Numpy ndarray from any size of h * w * ch\n",
        "          ratio: a float number between 0 and 1\n",
        "    \n",
        "    output: resized and interpolated image \n",
        "\n",
        "    '''\n",
        "    \n",
        "    if ratio > 1 or ratio < 0:\n",
        "        print('Value should be less than 1 and greater than 0')\n",
        "        return img\n",
        "    ratio = random.uniform(-ratio, ratio) # you can change this\n",
        "    h, w = img.shape[:2]\n",
        "    to_shift = w*ratio\n",
        "    if ratio > 0:\n",
        "        img = img[:, :int(w-to_shift), :]\n",
        "    if ratio < 0:\n",
        "        img = img[:, int(-1*to_shift):, :]\n",
        "\n",
        "    img = fill(img, h, w) # fill image borders\n",
        "\n",
        "    return img\n"
      ]
    },
    {
      "cell_type": "code",
      "execution_count": null,
      "metadata": {
        "id": "cmDF6i2kdKli"
      },
      "outputs": [],
      "source": [
        "    \n",
        "def vertical_shift(img, ratio=0.5):\n",
        "\n",
        "    ''' \n",
        "    we use this function to shift the image vertically with the given ratio\n",
        "    width_target = width_input - ratio * width_input\n",
        "    \n",
        "    Hint: select ratio in range (-ratio to ratio) uniformly, to simulate vertically shift to up and down with different ratios\n",
        "\n",
        "\n",
        "    arguments \n",
        "    input img: a Numpy ndarray from any size of h * w * ch\n",
        "          ratio: a float number between 0 and 1\n",
        "    \n",
        "    output: resized and interpolated image \n",
        "\n",
        "    '''\n",
        "\n",
        "    if ratio > 1 or ratio < 0:\n",
        "        print('Value should be less than 1 and greater than 0')\n",
        "        return img\n",
        "    ratio = random.uniform(-ratio, ratio)\n",
        "    h, w = img.shape[:2]\n",
        "    to_shift = h*ratio\n",
        "    if ratio > 0:\n",
        "        img = img[:int(h-to_shift), :, :]\n",
        "    if ratio < 0:\n",
        "        img = img[int(-1*to_shift):, :, :]\n",
        "        \n",
        "    img = fill(img, h, w)\n",
        "\n",
        "    return img\n",
        "\n"
      ]
    },
    {
      "cell_type": "code",
      "execution_count": null,
      "metadata": {
        "id": "pJ31WDBQdNhz"
      },
      "outputs": [],
      "source": [
        "def brightness(img, low, high):\n",
        "\n",
        "    ''' \n",
        "    we use this function to change the brightness of the image with given high and low values\n",
        "    \n",
        "    Hint: first convert to HSV color domain, Next make your image brighter or darker then convert back to BGR\n",
        "\n",
        "    arguments \n",
        "    input img: a Numpy ndarray from any size of h * w * ch\n",
        "          low:\n",
        "          high:\n",
        "    \n",
        "    output: image with different brightness\n",
        "\n",
        "    '''\n",
        "\n",
        "    value = random.uniform(low, high)\n",
        "    hsv = cv2.cvtColor(img, cv2.COLOR_BGR2HSV)\n",
        "    hsv = np.array(hsv, dtype = np.float64)\n",
        "    hsv[:,:,1] = hsv[:,:,1]*value\n",
        "    hsv[:,:,1][hsv[:,:,1]>255]  = 255\n",
        "    hsv[:,:,2] = hsv[:,:,2]*value \n",
        "    hsv[:,:,2][hsv[:,:,2]>255]  = 255\n",
        "    hsv = np.array(hsv, dtype = np.uint8)\n",
        "    img = cv2.cvtColor(hsv, cv2.COLOR_HSV2BGR)\n",
        "    \n",
        "    return img"
      ]
    },
    {
      "cell_type": "code",
      "execution_count": null,
      "metadata": {
        "id": "buuw_F7Bdaq-"
      },
      "outputs": [],
      "source": [
        "\n",
        "def zoom(img, value):\n",
        "\n",
        "    ''' \n",
        "    we use this function to zoom the image with given value\n",
        "    \n",
        "    arguments \n",
        "    input img: a Numpy ndarray from any size of h * w * ch\n",
        "          value: an integer number indicating the zoom effect\n",
        "    \n",
        "    output: zoomed image\n",
        "\n",
        "    '''\n",
        "    \n",
        "    if value > 1 or value < 0:\n",
        "        print('Value for zoom should be less than 1 and greater than 0')\n",
        "        return img\n",
        "    value = random.uniform(value, 1)\n",
        "    h, w = img.shape[:2]\n",
        "    h_taken = int(value*h)\n",
        "    w_taken = int(value*w)\n",
        "    h_start = random.randint(0, h-h_taken)\n",
        "    w_start = random.randint(0, w-w_taken)\n",
        "    img = img[h_start:h_start+h_taken, w_start:w_start+w_taken, :]\n",
        "    \n",
        "    img = fill(img, h, w)\n",
        "\n",
        "    return img"
      ]
    },
    {
      "cell_type": "code",
      "execution_count": null,
      "metadata": {
        "id": "dRQTWQiYde3-"
      },
      "outputs": [],
      "source": [
        "def channel_shift(img, value):\n",
        "\n",
        "    ''' \n",
        "    we use this function to shift color channels to play with colors in the image\n",
        "    \n",
        "    arguments \n",
        "    input img: a Numpy ndarray from any size of h * w * ch\n",
        "          value: an integer number indicating the color change effect\n",
        "    \n",
        "    output: image with changed colors\n",
        "\n",
        "    '''\n",
        "    \n",
        "    value = int(random.uniform(-value, value))\n",
        "    img = img + value\n",
        "    img[:,:,:][img[:,:,:]>255]  = 255\n",
        "    img[:,:,:][img[:,:,:]<0]  = 0\n",
        "    img = img.astype(np.uint8)\n",
        "    \n",
        "    return img"
      ]
    },
    {
      "cell_type": "code",
      "execution_count": null,
      "metadata": {
        "id": "-8fUbL8odizd"
      },
      "outputs": [],
      "source": [
        "def horizontal_flip(img):\n",
        "\n",
        "    ''' \n",
        "    we use this function to flip the image horizontally\n",
        "\n",
        "    arguments \n",
        "    input img: a Numpy ndarray from any size of h * w * ch\n",
        "    \n",
        "    output: horizontally fliped image\n",
        "\n",
        "    '''\n",
        "\n",
        "    return cv2.flip(img, 1)\n"
      ]
    },
    {
      "cell_type": "code",
      "execution_count": null,
      "metadata": {
        "id": "_oXvmff4dtd7"
      },
      "outputs": [],
      "source": [
        "def vertical_flip(img):\n",
        "\n",
        "    ''' \n",
        "    we use this function to flip the image vertically\n",
        "    \n",
        "    arguments \n",
        "    input img: a Numpy ndarray from any size of h * w * ch\n",
        "    \n",
        "    output: vertically fliped image\n",
        "\n",
        "    '''\n",
        "    \n",
        "    return cv2.flip(img, 0)\n"
      ]
    },
    {
      "cell_type": "markdown",
      "metadata": {
        "id": "VIp3KAFQhkeM"
      },
      "source": [
        "### Prepare your dataset"
      ]
    },
    {
      "cell_type": "code",
      "source": [
        "samples = []\n",
        "labels = []\n",
        "for image in os.listdir('data_aug'):\n",
        "    # print(image)\n",
        "    image_array = Image.open(f\"data_aug/{image}\").convert(\"RGB\")\n",
        "    image_array = np.asarray(image_array)\n",
        "    labels.append(0 if \"cat\" in image else 1)\n",
        "    samples.append(image_array)\n",
        "\n"
      ],
      "metadata": {
        "id": "q5id4At784o4"
      },
      "execution_count": null,
      "outputs": []
    },
    {
      "cell_type": "code",
      "execution_count": null,
      "metadata": {
        "id": "AiAQnha9dwJ8"
      },
      "outputs": [],
      "source": [
        "# For each image in our dataset run the previous methods and create a new dataset\n",
        "new_images = []\n",
        "new_labels = []\n",
        "for counter, image in enumerate(samples):\n",
        "\n",
        "    new_images.append(fill(image,20,20))  \n",
        "\n",
        "    new_images.append(horizontal_shift(image))\n",
        "\n",
        "    new_images.append(vertical_shift(image))\n",
        "\n",
        "    new_images.append(brightness(image.astype(\"float32\"), 0, 1))\n",
        "\n",
        "    new_images.append(zoom(image, 0.5))\n",
        "\n",
        "    new_images.append(channel_shift(image, 3))\n",
        "\n",
        "    new_images.append(horizontal_flip(image))\n",
        "\n",
        "    new_images.append(vertical_flip(image))\n",
        "\n",
        "    for _ in range(8):\n",
        "        new_labels.append(labels[counter])\n",
        "    \n",
        "\n",
        "samples = new_images\n",
        "labels = new_labels\n"
      ]
    },
    {
      "cell_type": "code",
      "execution_count": null,
      "metadata": {
        "id": "INX5G0lfgOz4",
        "colab": {
          "base_uri": "https://localhost:8080/"
        },
        "outputId": "345a63dc-66ee-47b3-e15f-68ed4629f2de"
      },
      "outputs": [
        {
          "output_type": "stream",
          "name": "stderr",
          "text": [
            "/usr/local/lib/python3.7/dist-packages/ipykernel_launcher.py:4: VisibleDeprecationWarning: Creating an ndarray from ragged nested sequences (which is a list-or-tuple of lists-or-tuples-or ndarrays with different lengths or shapes) is deprecated. If you meant to do this, you must specify 'dtype=object' when creating the ndarray.\n",
            "  after removing the cwd from sys.path.\n"
          ]
        }
      ],
      "source": [
        "# Normalize your dataset in a way to have a image dataset with pixles in range (0 to 1)\n",
        "\n",
        "\n",
        "samples = np.array(samples) / 255\n",
        "labels = np.array(labels)\n",
        "\n",
        "\n"
      ]
    },
    {
      "cell_type": "code",
      "execution_count": null,
      "metadata": {
        "colab": {
          "base_uri": "https://localhost:8080/"
        },
        "id": "UcVX-lCGhkeM",
        "outputId": "2283bc92-036e-40ca-8234-cb56498b06fa"
      },
      "outputs": [
        {
          "output_type": "stream",
          "name": "stdout",
          "text": [
            "(800, 28, 28, 3)\n"
          ]
        }
      ],
      "source": [
        "# Resize your images to (28 * 28)\n",
        "\n",
        "x_train=[]\n",
        "for image in samples:\n",
        "  converted_image = cv2.resize(image, (28, 28))\n",
        "  x_train.append(converted_image)\n",
        "\n",
        "x_train = np.array(x_train)\n",
        "print(x_train.shape)\n",
        "\n",
        "########################\n",
        "## PUT YOUR CODE HERE ##\n",
        "########################\n"
      ]
    },
    {
      "cell_type": "code",
      "execution_count": null,
      "metadata": {
        "id": "Eb9JJywzhkeN"
      },
      "outputs": [],
      "source": [
        "# Flatten your dataset images \n",
        "\n",
        "length, width, height, channels = x_train.shape\n",
        "\n",
        "x_train = x_train.flatten().reshape(length, width * height * channels)\n",
        "########################\n",
        "## PUT YOUR CODE HERE ##\n",
        "########################\n"
      ]
    },
    {
      "cell_type": "code",
      "execution_count": null,
      "metadata": {
        "colab": {
          "base_uri": "https://localhost:8080/"
        },
        "id": "0lSc780ChkeN",
        "outputId": "89c05d6d-811c-485b-bc01-81a7ff415384"
      },
      "outputs": [
        {
          "output_type": "stream",
          "name": "stdout",
          "text": [
            "x train shape : (800, 2352)\n",
            "y train shape : (800,)\n"
          ]
        }
      ],
      "source": [
        "# Check your dataset and labels to be a numpy ndarray of sizes (800, 28 * 28 * 3) and (800, 1) respectively.\n",
        "\n",
        "print(f\"x train shape : {x_train.shape}\")\n",
        "print(f\"y train shape : {labels.shape}\")\n",
        "########################\n",
        "## PUT YOUR CODE HERE ##\n",
        "########################"
      ]
    },
    {
      "cell_type": "markdown",
      "metadata": {
        "id": "FPuuTJ_OhkeN"
      },
      "source": [
        "### Create your model"
      ]
    },
    {
      "cell_type": "code",
      "execution_count": null,
      "metadata": {
        "id": "LXJSXVV7hkeN"
      },
      "outputs": [],
      "source": [
        "# create a simple model of Keras MLP with desired number of dense layers and units and activation function\n",
        "# don't forget to shuffle the data\n",
        "# this is a binary classification problem\n",
        "\n",
        "\n",
        "model = Sequential()\n",
        "model.add(Input(shape=(28 * 28 * 3,)))\n",
        "model.add(Dense(units=16, activation='relu'))\n",
        "model.add(Dense(units=4, activation='relu'))\n",
        "model.add(Dense(units=1, activation='sigmoid'))\n",
        "########################\n",
        "## PUT YOUR CODE HERE ##\n",
        "########################"
      ]
    },
    {
      "cell_type": "code",
      "execution_count": null,
      "metadata": {
        "id": "bcIhbxcEhkeN"
      },
      "outputs": [],
      "source": [
        "# Split your dataset to test and train with the desired implementation\n",
        "# use sklearn.model_selection.train_test_split\n",
        "\n",
        "from sklearn.model_selection import train_test_split\n",
        "X_train, X_test, y_train, y_test = train_test_split(x_train, labels, test_size=0.2, shuffle=True)\n",
        "########################\n",
        "## PUT YOUR CODE HERE ##\n",
        "########################"
      ]
    },
    {
      "cell_type": "code",
      "execution_count": null,
      "metadata": {
        "colab": {
          "base_uri": "https://localhost:8080/"
        },
        "id": "7M7VHsXmhkeN",
        "outputId": "9fd30309-b5fa-496d-ccde-acde7846c704"
      },
      "outputs": [
        {
          "output_type": "stream",
          "name": "stdout",
          "text": [
            "Epoch 1/30\n",
            "32/32 [==============================] - 1s 7ms/step - loss: 0.4917 - accuracy: 0.7910 - val_loss: 0.4092 - val_accuracy: 0.8203\n",
            "Epoch 2/30\n",
            "32/32 [==============================] - 0s 3ms/step - loss: 0.4469 - accuracy: 0.7969 - val_loss: 0.5376 - val_accuracy: 0.7344\n",
            "Epoch 3/30\n",
            "32/32 [==============================] - 0s 3ms/step - loss: 0.4470 - accuracy: 0.8008 - val_loss: 0.4496 - val_accuracy: 0.8047\n",
            "Epoch 4/30\n",
            "32/32 [==============================] - 0s 3ms/step - loss: 0.4422 - accuracy: 0.7891 - val_loss: 0.5771 - val_accuracy: 0.6797\n",
            "Epoch 5/30\n",
            "32/32 [==============================] - 0s 3ms/step - loss: 0.4432 - accuracy: 0.7988 - val_loss: 0.4135 - val_accuracy: 0.8203\n",
            "Epoch 6/30\n",
            "32/32 [==============================] - 0s 3ms/step - loss: 0.4123 - accuracy: 0.8262 - val_loss: 0.5372 - val_accuracy: 0.7031\n",
            "Epoch 7/30\n",
            "32/32 [==============================] - 0s 3ms/step - loss: 0.4268 - accuracy: 0.7988 - val_loss: 0.5031 - val_accuracy: 0.7656\n",
            "Epoch 8/30\n",
            "32/32 [==============================] - 0s 3ms/step - loss: 0.4236 - accuracy: 0.8125 - val_loss: 0.4335 - val_accuracy: 0.8125\n",
            "{'loss': [0.4917333722114563, 0.446936696767807, 0.4470301866531372, 0.4422157406806946, 0.4432010352611542, 0.4122784733772278, 0.42683592438697815, 0.4236156642436981], 'accuracy': [0.791015625, 0.796875, 0.80078125, 0.7890625, 0.798828125, 0.826171875, 0.798828125, 0.8125], 'val_loss': [0.40922829508781433, 0.5376168489456177, 0.44956010580062866, 0.5770953893661499, 0.41350167989730835, 0.5372499227523804, 0.5030752420425415, 0.4334762692451477], 'val_accuracy': [0.8203125, 0.734375, 0.8046875, 0.6796875, 0.8203125, 0.703125, 0.765625, 0.8125]}\n"
          ]
        }
      ],
      "source": [
        "# Compile your model to introduce loss function optimizer and metrices to monitor accuracy metric and train on the data\n",
        "# Don't forget to monitor the overfitting, you should take care of val_accuracy and val_loss\n",
        "from keras.callbacks import EarlyStopping\n",
        "\n",
        "########################\n",
        "## PUT YOUR CODE HERE ##\n",
        "es_acc = EarlyStopping(monitor='val_accuracy', mode='max', patience=7)\n",
        "es_loss = EarlyStopping(monitor='val_loss', mode='min', patience=7)\n",
        "model.compile(loss='binary_crossentropy', optimizer='adam', metrics=['accuracy'])\n",
        "history = model.fit(X_train, y_train, epochs=30, verbose=1, batch_size=16, validation_split=0.2, callbacks=[es_loss, es_acc])\n",
        "\n",
        "########################\n",
        "print(history.history)\n",
        "\n"
      ]
    },
    {
      "cell_type": "markdown",
      "metadata": {
        "id": "gBt4hXBJhkeO"
      },
      "source": [
        "### Plot your results"
      ]
    },
    {
      "cell_type": "code",
      "execution_count": null,
      "metadata": {
        "colab": {
          "base_uri": "https://localhost:8080/",
          "height": 545
        },
        "id": "XOgtQ0pEhkeO",
        "outputId": "38818fac-0fa1-42e8-f2ce-8b7d226543c5"
      },
      "outputs": [
        {
          "output_type": "display_data",
          "data": {
            "text/plain": [
              "<Figure size 432x288 with 1 Axes>"
            ],
            "image/png": "[encoded data removed]"
          },
          "metadata": {
            "needs_background": "light"
          }
        },
        {
          "output_type": "display_data",
          "data": {
            "text/plain": [
              "<Figure size 432x288 with 1 Axes>"
            ],
            "image/png": "[encoded data removed]"
          },
          "metadata": {
            "needs_background": "light"
          }
        }
      ],
      "source": [
        "# Plot your data\n",
        "\n",
        "import matplotlib.pyplot as plt\n",
        "acc = history.history['accuracy']\n",
        "val_acc = history.history['val_accuracy']\n",
        "loss = history.history['loss']\n",
        "val_loss = history.history['val_loss']\n",
        "\n",
        "epochs = range(len(acc))\n",
        "\n",
        "plt.plot(epochs, acc, 'r', label='Training accuracy')\n",
        "plt.plot(epochs, val_acc, 'b', label='Validation accuracy')\n",
        "plt.title('Training and validation accuracy')\n",
        "plt.legend()\n",
        "\n",
        "plt.figure()\n",
        "\n",
        "plt.plot(epochs, loss, 'r', label='Training Loss')\n",
        "plt.plot(epochs, val_loss, 'b', label='Validation Loss')\n",
        "plt.title('Training and validation loss')\n",
        "plt.legend()\n",
        "\n",
        "plt.show()"
      ]
    },
    {
      "cell_type": "markdown",
      "metadata": {
        "id": "pplaxSWQhkeO"
      },
      "source": [
        "### Evaluate results"
      ]
    },
    {
      "cell_type": "code",
      "execution_count": null,
      "metadata": {
        "colab": {
          "base_uri": "https://localhost:8080/"
        },
        "id": "tGGaCjSWhkeO",
        "outputId": "f588c585-963e-45fe-c80a-3dfac4933f54"
      },
      "outputs": [
        {
          "output_type": "stream",
          "name": "stdout",
          "text": [
            "5/5 [==============================] - 0s 3ms/step - loss: 0.4109 - accuracy: 0.8250\n"
          ]
        },
        {
          "output_type": "execute_result",
          "data": {
            "text/plain": [
              "[0.41089552640914917, 0.824999988079071]"
            ]
          },
          "metadata": {},
          "execution_count": 83
        }
      ],
      "source": [
        "# Evaluate your model on the test data\n",
        "\n",
        "\n",
        "########################\n",
        "model.evaluate(X_test, y_test)\n",
        "########################\n"
      ]
    },
    {
      "cell_type": "markdown",
      "metadata": {
        "id": "lKftBMNphkeO"
      },
      "source": [
        "# Compare your results with and without using agumentation to see the difference"
      ]
    },
    {
      "cell_type": "markdown",
      "metadata": {
        "id": "E09ZLHXWhkeO"
      },
      "source": [
        "## Optional Bonus Activity"
      ]
    },
    {
      "cell_type": "code",
      "execution_count": null,
      "metadata": {
        "id": "VuifPrHPm40L"
      },
      "outputs": [],
      "source": [
        "# Optional\n",
        "\n",
        "# Keras data Augmentation\n",
        "\n",
        "#use the bellow links\n",
        "\n",
        "# https://keras.io/guides/keras_cv/custom_image_augmentations/\n",
        "\n",
        "# https://keras.io/api/preprocessing/image/"
      ]
    }
  ],
  "metadata": {
    "colab": {
      "provenance": []
    },
    "kernelspec": {
      "display_name": "Python 3.10.4 64-bit",
      "language": "python",
      "name": "python3"
    },
    "language_info": {
      "codemirror_mode": {
        "name": "ipython",
        "version": 3
      },
      "file_extension": ".py",
      "mimetype": "text/x-python",
      "name": "python",
      "nbconvert_exporter": "python",
      "pygments_lexer": "ipython3",
      "version": "3.10.4"
    },
    "vscode": {
      "interpreter": {
        "hash": "4ee546d62f846516ddb8e27534e16a3e95e555642571b21ccffd475d8dbd5c7d"
      }
    },
    "accelerator": "GPU",
    "gpuClass": "standard"
  },
  "nbformat": 4,
  "nbformat_minor": 0
}